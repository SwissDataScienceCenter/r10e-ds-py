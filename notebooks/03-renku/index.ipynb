{
 "cells": [
  {
   "cell_type": "markdown",
   "metadata": {
    "slideshow": {
     "slide_type": "slide"
    }
   },
   "source": [
    "# Reproducible Data Science with Renku &mdash; Index"
   ]
  },
  {
   "cell_type": "markdown",
   "metadata": {},
   "source": [
    "## notebooks/03-renku/index.ipynb"
   ]
  },
  {
   "cell_type": "markdown",
   "metadata": {
    "slideshow": {
     "slide_type": "slide"
    }
   },
   "source": [
    "# Renku\n",
    "\n",
    "Renku is software for doing reproducible, collaborative data science. It has two parts:\n",
    "\n",
    "* renku CLI (think `git`)\n",
    "* Renkulab server (think `GitHub` or `GitLab`)"
   ]
  },
  {
   "cell_type": "markdown",
   "metadata": {},
   "source": [
    "Renku is made up of two parts: the renku command-line interface, and the Renku server. The CLI records commands you execute to build workflows and capture provenance; the server provides a location for sharing and collaboration. Just as with GitHub and git, projects can be started on the server (e.g., [renkulab.io](https://renkulab.io)), or locally, on your laptop or desktop computer. And it is easy to transition a project from one location to the other.\n",
    "\n",
    "In this tutorial, we will start are project on our laptops, and, in the end, move them to Renkulab where we can share and collaborate with others."
   ]
  },
  {
   "cell_type": "markdown",
   "metadata": {},
   "source": [
    "# Renku's building blocks\n",
    "\n",
    "<table class=\"table table-condensed\" style=\"font-size: 16px; margin: 10px;\">\n",
    "    <thead>\n",
    "        <tr>\n",
    "            <th>Tool</th>\n",
    "            <th>Environment</th>\n",
    "            <th>Code</th>\n",
    "            <th>Data</th>\n",
    "            <th>Workflow</th>\n",
    "            <th>Provenance</th>\n",
    "        </tr>\n",
    "    </thead>\n",
    "    <tbody>\n",
    "        <tr style=\"font-size:24px;\">\n",
    "            <th><a href=\"https://renkulab.io\">Renku</a></th>\n",
    "            <td style=\"text-align: center\">Docker</td>\n",
    "            <td style=\"text-align: center\">git</td>\n",
    "            <td style=\"text-align: center\">git-lfs</td>\n",
    "            <td style=\"text-align: center\">CWL</td>\n",
    "            <td style=\"text-align: center\">PROV-O/RDF</td>\n",
    "        </tr>\n",
    "     </tbody>\n",
    "</table>\n",
    "\n"
   ]
  },
  {
   "cell_type": "markdown",
   "metadata": {},
   "source": [
    "Renku combines many tools that you may be familiar with and packages them in a unified way. Renku is a sort of \"syntatic sugar\" for the building blocks: users are allowed to peek under the covers and work directly with git, e.g., if that is convenient."
   ]
  },
  {
   "cell_type": "markdown",
   "metadata": {
    "slideshow": {
     "slide_type": "slide"
    }
   },
   "source": [
    "# Hands-on with Renku (1h 30m)\n",
    "\n",
    "<table class=\"table table-striped\" style=\"font-size: 18px; margin: 10px;\">\n",
    "    <tbody>\n",
    "        <tr>\n",
    "            <th>30 min</th>\n",
    "            <td><a href=\"01-Starting.ipynb\">Starting</a></td>\n",
    "            <td style=\"text-align: left\">Starting a project, importing data, building a workflow</td>\n",
    "        </tr>\n",
    "        <tr>\n",
    "            <th>30 min</th>\n",
    "            <td><a href=\"02-Iterating.ipynb\">Iterating</a></td>\n",
    "            <td style=\"text-align: left\">Updating code and data to do the analysis.</td>\n",
    "        </tr>\n",
    "        <tr>\n",
    "            <th>30 min</th>\n",
    "            <td><a href=\"03-Sharing.ipynb\">Sharing</td>\n",
    "            <td style=\"text-align: left\">Sharing results and collaborating using <a href=\"https://renkulab.io\">renkulab.io</a>.</td>\n",
    "        </tr>\n",
    "     </tbody>\n",
    "</table>"
   ]
  },
  {
   "cell_type": "markdown",
   "metadata": {
    "slideshow": {
     "slide_type": "slide"
    }
   },
   "source": [
    "# Task\n",
    "\n",
    "Working with data from [US Dept. of Transportation, Bureau of Transportation Statistics](https://www.transtats.bts.gov), we will answer the following questions:\n",
    "\n",
    "- Do flights to Austin, TX generally arrive on time?\n",
    "- Are flights to Austin from certain locations more often delayed than others?"
   ]
  },
  {
   "cell_type": "markdown",
   "metadata": {
    "slideshow": {
     "slide_type": "notes"
    }
   },
   "source": [
    "From the perspective of statistics, the tasks are very simple: just compute some means. But the difficulty lies in deriving the values to average. To do this, we will need to build a pipeline consisting of data preprocesing, analysis and visualization of the output of preprocessing, and finally computing the result.\n",
    "\n",
    "**Spoiler!** The exercise will simulate a real-world situation. Certain steps will not work correctly, but we will only realize it later on, meaning that we will need to backtrack and fix errors upstream."
   ]
  },
  {
   "cell_type": "markdown",
   "metadata": {
    "slideshow": {
     "slide_type": "slide"
    }
   },
   "source": [
    "# Approach"
   ]
  },
  {
   "cell_type": "markdown",
   "metadata": {
    "slideshow": {
     "slide_type": "notes"
    }
   },
   "source": [
    "In the hands-on, we will be doing our data science using Jupyter Notebooks. Notebooks have their [detractors](https://docs.google.com/presentation/d/1n2RlMdmv1p25Xy5thJUhkKGvjtV-dkAIsUXP-AL4ffI/edit#slide=id.g362da58057_0_1), and they make good points, but their popularity is also undeniable."
   ]
  },
  {
   "cell_type": "markdown",
   "metadata": {
    "slideshow": {
     "slide_type": "subslide"
    }
   },
   "source": [
    "## Ten Simple Rules\n",
    "\n",
    "[Ten Simple Rules for Reproducible Research in Jupyter Notebooks](https://arxiv.org/abs/1810.08055)\n",
    "* Tell a story and make it understandable\n",
    "* Document environment and process\n",
    "* Structure work in a pipeline \n",
    "* Share code and data"
   ]
  },
  {
   "cell_type": "markdown",
   "metadata": {
    "slideshow": {
     "slide_type": "notes"
    }
   },
   "source": [
    "[Ten Simple Rules for Reproducible Research in Jupyter Notebooks](https://arxiv.org/abs/1810.08055) provides a good set of best practices for working with notebooks. We adapt their suggestions to leverage the extra support provided by Renku.\n",
    "\n",
    "Their advice is essentially the same as what we have been discussing, but they provide some tips for handling problems specific to notebooks. \n",
    "\n",
    "Two of these problems are: 1. cells can be executed in any order; 2. it is difficult to provide parameters to notebooks. 1. complicates reproducibility, 2. makes reuse hard.\n",
    "\n",
    "The authors suggest using [Papermill](https://papermill.readthedocs.io/en/latest/), which solves both of these problems. Using papermill, it is possible to parameterize notebooks, and it is possible to execute them in a reproducible way."
   ]
  },
  {
   "cell_type": "markdown",
   "metadata": {
    "slideshow": {
     "slide_type": "subslide"
    }
   },
   "source": [
    "## Hats\n",
    "\n",
    "As we work through the tutorial, we will be alternating between two different hats: our \"pandas\" data-science hat and our \"renku\" data-science hat. When we have our pandas hat on, we will be working within the widely-known pandas eco-system. In terms of data science, the real work happens here. But, we are not going to dedicate much of our attention to this part, and it is possible to work through the tutorial with little to no pandas knowledge."
   ]
  },
  {
   "cell_type": "markdown",
   "metadata": {},
   "source": [
    "# Cast of Characters\n",
    "\n",
    "## General\n",
    "\n",
    "<table class=\"table table-striped\" style=\"font-size: 18px; margin: 10px;\">\n",
    "    <tbody>\n",
    "        <tr>\n",
    "            <th><code>!</code></th>\n",
    "            <td>IPython syntax for executing a shell command</td>\n",
    "        </tr>\n",
    "        <tr>\n",
    "            <th><a href=\"https://papermill.readthedocs.io/en/latest/\">papermill</a></th>\n",
    "            <td>Tool for parameterizing and running notebooks in a reproducible way</td>\n",
    "        </tr>\n",
    "     </tbody>\n",
    "</table>\n",
    "\n",
    "## Renku\n",
    "\n",
    "<table class=\"table table-striped\" style=\"font-size: 18px; margin: 10px;\">\n",
    "    <tbody>\n",
    "        <tr>\n",
    "            <th><code>renku dataset</code></th>\n",
    "            <td>Renku commands for working with datasets</td>\n",
    "        </tr>        \n",
    "        <tr>\n",
    "            <th><code>renku run</code></th>\n",
    "            <td>Renku wrapper for running commands</td>\n",
    "        </tr>\n",
    "     </tbody>\n",
    "</table>\n"
   ]
  },
  {
   "cell_type": "code",
   "execution_count": null,
   "metadata": {},
   "outputs": [],
   "source": []
  }
 ],
 "metadata": {
  "celltoolbar": "Slideshow",
  "kernelspec": {
   "display_name": "Python 3",
   "language": "python",
   "name": "python3"
  },
  "language_info": {
   "codemirror_mode": {
    "name": "ipython",
    "version": 3
   },
   "file_extension": ".py",
   "mimetype": "text/x-python",
   "name": "python",
   "nbconvert_exporter": "python",
   "pygments_lexer": "ipython3",
   "version": "3.7.3"
  }
 },
 "nbformat": 4,
 "nbformat_minor": 2
}
