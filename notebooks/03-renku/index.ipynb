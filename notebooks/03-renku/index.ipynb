{
 "cells": [
  {
   "cell_type": "markdown",
   "metadata": {
    "slideshow": {
     "slide_type": "slide"
    }
   },
   "source": [
    "# Reproducible Data Science with Renku &mdash; Index"
   ]
  },
  {
   "cell_type": "markdown",
   "metadata": {
    "slideshow": {
     "slide_type": "subslide"
    }
   },
   "source": [
    "## notebooks/03-renku/index.ipynb\n",
    "\n",
    "You should be at this location in the repository."
   ]
  },
  {
   "cell_type": "markdown",
   "metadata": {
    "slideshow": {
     "slide_type": "slide"
    }
   },
   "source": [
    "# Renku\n",
    "\n",
    "Renku is software for collaborative doing directly and conceptually reproducible data science. \n",
    "\n",
    "It has two parts:\n",
    "\n",
    "* renku CLI (think `git`)\n",
    "* Renkulab server (think `GitLab` or `GitHub`)"
   ]
  },
  {
   "cell_type": "markdown",
   "metadata": {
    "slideshow": {
     "slide_type": "notes"
    }
   },
   "source": [
    "Renku is made up of two parts: the renku command-line interface, and the Renkulab server. The distinction is similar to git vs. GitLab. `git` is a set of command-line tools for using version control on a project. GitLab is a server application for managing multiple projects and giving others access to them.\n",
    "\n",
    "Similarly, `renku` is a set of command-line tools for working reproducibly; Renkulab is a server for sharing and collaborating on projects. \n",
    "\n",
    "Just as with GitHub and git, projects can be started on the server (e.g., [renkulab.io](https://renkulab.io)), or locally, on your laptop or desktop computer. And it is easy to transition a project from one location to the other.\n",
    "\n",
    "In this tutorial, we will start are project on our laptops, and, in the end, move them to Renkulab where we can share and collaborate with others."
   ]
  },
  {
   "cell_type": "markdown",
   "metadata": {
    "slideshow": {
     "slide_type": "skip"
    }
   },
   "source": [
    "# Renku's building blocks\n",
    "\n",
    "<table class=\"table table-condensed\" style=\"font-size: 16px; margin: 10px;\">\n",
    "    <thead>\n",
    "        <tr>\n",
    "            <th>Tool</th>\n",
    "            <th>Environment</th>\n",
    "            <th>Code</th>\n",
    "            <th>Data</th>\n",
    "            <th>Workflow</th>\n",
    "            <th>Provenance</th>\n",
    "        </tr>\n",
    "    </thead>\n",
    "    <tbody>\n",
    "        <tr style=\"font-size:24px;\">\n",
    "            <th><a href=\"https://renkulab.io\">Renku</a></th>\n",
    "            <td style=\"text-align: center\">Docker</td>\n",
    "            <td style=\"text-align: center\">git</td>\n",
    "            <td style=\"text-align: center\">git-lfs</td>\n",
    "            <td style=\"text-align: center\">CWL</td>\n",
    "            <td style=\"text-align: center\">PROV-O/RDF</td>\n",
    "        </tr>\n",
    "     </tbody>\n",
    "</table>\n",
    "\n"
   ]
  },
  {
   "cell_type": "markdown",
   "metadata": {
    "slideshow": {
     "slide_type": "notes"
    }
   },
   "source": [
    "Renku combines many tools that you may be familiar with and packages them in a unified way. Renku is a sort of \"syntatic sugar\" for the building blocks: users are allowed to peek under the covers and work directly with git, e.g., if that is convenient."
   ]
  },
  {
   "cell_type": "markdown",
   "metadata": {
    "slideshow": {
     "slide_type": "slide"
    }
   },
   "source": [
    "# Hands-on with Renku (1h 30m)\n",
    "\n",
    "<table class=\"table table-striped\" style=\"font-size: 18px; margin: 10px;\">\n",
    "    <tbody>\n",
    "        <tr>\n",
    "            <th>30 min</th>\n",
    "            <td><a href=\"01-Starting.ipynb\">Starting</a></td>\n",
    "            <td style=\"text-align: left\">Starting a project, importing data, building a workflow</td>\n",
    "        </tr>\n",
    "        <tr>\n",
    "            <th>30 min</th>\n",
    "            <td><a href=\"02-Iterating.ipynb\">Iterating</a></td>\n",
    "            <td style=\"text-align: left\">Updating code and data to do the analysis.</td>\n",
    "        </tr>\n",
    "        <tr>\n",
    "            <th>30 min</th>\n",
    "            <td><a href=\"03-Sharing.ipynb\">Sharing</td>\n",
    "            <td style=\"text-align: left\">Sharing results and collaborating using <a href=\"https://renkulab.io\">renkulab.io</a>.</td>\n",
    "        </tr>\n",
    "     </tbody>\n",
    "</table>"
   ]
  },
  {
   "cell_type": "markdown",
   "metadata": {
    "slideshow": {
     "slide_type": "slide"
    }
   },
   "source": [
    "# Task\n",
    "\n",
    "Working with data from [US Dept. of Transportation, Bureau of Transportation Statistics](https://www.transtats.bts.gov), we will answer the following questions:\n",
    "\n",
    "- Do flights to Austin, TX generally arrive on time?"
   ]
  },
  {
   "cell_type": "markdown",
   "metadata": {
    "slideshow": {
     "slide_type": "notes"
    }
   },
   "source": [
    "From the perspective of statistics, the tasks are very simple: just compute some means. But the difficulty lies in deriving the values to average. To do this, we will need to build a pipeline consisting of data preprocesing, analysis and visualization of the output of preprocessing, and finally computing the result.\n",
    "\n",
    "**Spoiler!** The exercise will simulate a real-world situation. Certain steps will not work correctly, but we will only realize it later on, meaning that we will need to backtrack and fix errors upstream."
   ]
  },
  {
   "cell_type": "markdown",
   "metadata": {
    "slideshow": {
     "slide_type": "slide"
    }
   },
   "source": [
    "# Approach"
   ]
  },
  {
   "cell_type": "markdown",
   "metadata": {
    "slideshow": {
     "slide_type": "notes"
    }
   },
   "source": [
    "In the hands-on, we will be doing our data science using Jupyter Notebooks. Notebooks have their [detractors](https://docs.google.com/presentation/d/1n2RlMdmv1p25Xy5thJUhkKGvjtV-dkAIsUXP-AL4ffI/edit#slide=id.g362da58057_0_1), and they make good points, but their popularity is also undeniable."
   ]
  },
  {
   "cell_type": "markdown",
   "metadata": {
    "slideshow": {
     "slide_type": "subslide"
    }
   },
   "source": [
    "## Ten Simple Rules\n",
    "\n",
    "[Ten Simple Rules for Reproducible Research in Jupyter Notebooks](https://arxiv.org/abs/1810.08055)\n",
    "* Tell a story and make it understandable\n",
    "* Document environment and process\n",
    "* Structure work in a pipeline \n",
    "* Share code and data"
   ]
  },
  {
   "cell_type": "markdown",
   "metadata": {
    "slideshow": {
     "slide_type": "notes"
    }
   },
   "source": [
    "[Ten Simple Rules for Reproducible Research in Jupyter Notebooks](https://arxiv.org/abs/1810.08055) provides a good set of best practices for working with notebooks. We adapt their suggestions to leverage the extra support provided by Renku.\n",
    "\n",
    "Their advice is essentially the same as what we have been discussing, but they provide some tips for handling problems specific to notebooks. \n",
    "\n",
    "Two of these problems are: 1. cells can be executed in any order; 2. it is difficult to provide parameters to notebooks. 1. complicates reproducibility, 2. makes reuse hard.\n",
    "\n",
    "The authors suggest using [Papermill](https://papermill.readthedocs.io/en/latest/), which solves both of these problems. Using papermill, it is possible to parameterize notebooks, and it is possible to execute them in a reproducible way."
   ]
  },
  {
   "cell_type": "markdown",
   "metadata": {
    "slideshow": {
     "slide_type": "skip"
    }
   },
   "source": [
    "## Hats\n",
    "\n",
    "* \"Renku\" Hat\n",
    "* \"Pandas\" Hat"
   ]
  },
  {
   "cell_type": "markdown",
   "metadata": {
    "slideshow": {
     "slide_type": "notes"
    }
   },
   "source": [
    "As we work through the tutorial, we will be alternating between two different hats: our \"pandas\" hat and our \"renku\" hat. When we have our pandas hat on, we will be working within the widely-known pandas eco-system. In terms of data science, the real work happens here. But, we are not going to dedicate much of our attention to this part, and it is possible to work through the tutorial with little to no pandas knowledge."
   ]
  },
  {
   "cell_type": "markdown",
   "metadata": {
    "slideshow": {
     "slide_type": "slide"
    }
   },
   "source": [
    "# Cast of Characters\n",
    "\n",
    "<table class=\"table table-striped\" style=\"font-size: 18px; margin: 10px;\">\n",
    "    <tbody>\n",
    "        <tr>\n",
    "            <th><code>!</code></th>\n",
    "            <td>IPython syntax for executing a shell command</td>\n",
    "        </tr>\n",
    "        <tr>\n",
    "            <th><code>git status;</code><br>\n",
    "                <code>git add;</code><br>\n",
    "                <code>git commit</code>\n",
    "            </th>\n",
    "            <td>As we work, we will be committing to git to keep track of changes we make and the reasons for making them.</td>\n",
    "        </tr>\n",
    "        <tr>\n",
    "            <th><a href=\"https://papermill.readthedocs.io/en/latest/\">papermill</a></th>\n",
    "            <td>Tool for parameterizing and running notebooks in a reproducible way. It takes a notebook and its parameters as input, and produces a new notebook as output. We will use it together with <code>renku run</code></td>\n",
    "        </tr>\n",
    "        <tr>\n",
    "            <th><code>renku</code></th>\n",
    "            <td>Tools for reproducible data science.</td>\n",
    "        </tr>      \n",
    "     </tbody>\n",
    "</table>\n"
   ]
  },
  {
   "cell_type": "markdown",
   "metadata": {
    "slideshow": {
     "slide_type": "slide"
    }
   },
   "source": [
    "## Trailer\n",
    "\n",
    "![Process Preview](./tutorial-images/renku-tutorial-process.svg)"
   ]
  },
  {
   "cell_type": "markdown",
   "metadata": {
    "slideshow": {
     "slide_type": "notes"
    }
   },
   "source": [
    "We will start working by setting up the project in renku. We will then switch to doing pandas-based data science where will work with our data. Preprocessing will not work the first two times, but we will get it right the third time! With that done, we can continue to our analysis."
   ]
  }
 ],
 "metadata": {
  "celltoolbar": "Slideshow",
  "kernelspec": {
   "display_name": "Python 3",
   "language": "python",
   "name": "python3"
  },
  "language_info": {
   "codemirror_mode": {
    "name": "ipython",
    "version": 3
   },
   "file_extension": ".py",
   "mimetype": "text/x-python",
   "name": "python",
   "nbconvert_exporter": "python",
   "pygments_lexer": "ipython3",
   "version": "3.7.3"
  }
 },
 "nbformat": 4,
 "nbformat_minor": 2
}
