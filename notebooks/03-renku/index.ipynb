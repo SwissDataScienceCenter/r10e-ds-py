{
 "cells": [
  {
   "cell_type": "markdown",
   "metadata": {
    "slideshow": {
     "slide_type": "slide"
    }
   },
   "source": [
    "# Reproducible Data Science with Renku &mdash; Index"
   ]
  },
  {
   "cell_type": "markdown",
   "metadata": {
    "slideshow": {
     "slide_type": "slide"
    }
   },
   "source": [
    "# Renku\n",
    "\n",
    "Renku is software for doing reproducible, collaborative data science. Renku can be used has a hosted platform (e.g., [renkulab.io](https://renkulab.io)), or locally, on your laptop or desktop computer. And it is easy to transition from one mode to the other."
   ]
  },
  {
   "cell_type": "markdown",
   "metadata": {
    "slideshow": {
     "slide_type": "slide"
    }
   },
   "source": [
    "# Hands-on with Renku (1h 30m)\n",
    "\n",
    "<table class=\"table table-striped\" style=\"font-size: 18px; margin: 10px;\">\n",
    "    <tbody>\n",
    "        <tr>\n",
    "            <th>30 min</th>\n",
    "            <td><a href=\"01-Starting.ipynb\">Starting</a></td>\n",
    "            <td style=\"text-align: left\">Starting a project, importing data, building a workflow</td>\n",
    "        </tr>\n",
    "        <tr>\n",
    "            <th>30 min</th>\n",
    "            <td><a href=\"02-Iterating.ipynb\">Iterating</a></td>\n",
    "            <td style=\"text-align: left\">Updating code and data to do the analysis.</td>\n",
    "        </tr>\n",
    "        <tr>\n",
    "            <th>30 min</th>\n",
    "            <td>Sharing</td>\n",
    "            <td style=\"text-align: left\">Sharing results and collaborating using <a href=\"https://renkulab.io\">renkulab.io</a>.</td>\n",
    "        </tr>\n",
    "     </tbody>\n",
    "</table>"
   ]
  },
  {
   "cell_type": "markdown",
   "metadata": {
    "slideshow": {
     "slide_type": "slide"
    }
   },
   "source": [
    "# Task\n",
    "\n",
    "Working with data from [US Dept. of Transportation, Bureau of Transportation Statistics](https://www.transtats.bts.gov), we will answer the following questions:\n",
    "\n",
    "- Do flights to Austin, TX generally arrive on time?\n",
    "- Are flights to Austin from certain locations more often delayed than others?"
   ]
  },
  {
   "cell_type": "markdown",
   "metadata": {
    "slideshow": {
     "slide_type": "notes"
    }
   },
   "source": [
    "From the perspective of statistics, the tasks are very simple: just compute some means. But the difficulty lies in deriving the values to average. To do this, we will need to build a pipeline consisting of data preprocesing, analysis and visualization of the output of preprocessing, and finally computing the result.\n",
    "\n",
    "**Spoiler!** The exercise will simulate a real-world situation. Certain steps will not work correctly, but we will only realize it later on, meaning that we will need to backtrack and fix errors upstream."
   ]
  },
  {
   "cell_type": "markdown",
   "metadata": {
    "slideshow": {
     "slide_type": "slide"
    }
   },
   "source": [
    "# Approach\n",
    "\n",
    "In the hands-on, we will be doing our data science using Jupyter Notebooks. Notebooks have their [detractors](https://docs.google.com/presentation/d/1n2RlMdmv1p25Xy5thJUhkKGvjtV-dkAIsUXP-AL4ffI/edit#slide=id.g362da58057_0_1), and they make good points, but their popularity is also undeniable.\n",
    "\n",
    "However, one aspect of Jupyter Notebooks presents an issue for reproducibility: cells can be executed in any order. And another aspect of notebooks makes it hard to reuse them: it is not easy to provide parameters to notebooks."
   ]
  },
  {
   "cell_type": "markdown",
   "metadata": {
    "slideshow": {
     "slide_type": "subslide"
    }
   },
   "source": [
    "## Papermill\n",
    "\n",
    "[Papermill](https://papermill.readthedocs.io/en/latest/) solves both of these problems. Using papermill, it is possible to parameterize notebooks, and it is possible to execute them in a reproducible way."
   ]
  },
  {
   "cell_type": "markdown",
   "metadata": {
    "slideshow": {
     "slide_type": "subslide"
    }
   },
   "source": [
    "## Hats\n",
    "\n",
    "As we work through the tutorial, we will be alternating between two different hats: our \"pandas\" data-science hat and our \"renku\" data-science hat. When we have our pandas hat on, we will be working within the widely-known pandas eco-system. In terms of data science, the real work happens here. But, we are not going to dedicate much of our attention to this part, and it is possible to work through the tutorial with little to no pandas knowledge."
   ]
  }
 ],
 "metadata": {
  "celltoolbar": "Slideshow",
  "kernelspec": {
   "display_name": "Python 3",
   "language": "python",
   "name": "python3"
  },
  "language_info": {
   "codemirror_mode": {
    "name": "ipython",
    "version": 3
   },
   "file_extension": ".py",
   "mimetype": "text/x-python",
   "name": "python",
   "nbconvert_exporter": "python",
   "pygments_lexer": "ipython3",
   "version": "3.7.3"
  }
 },
 "nbformat": 4,
 "nbformat_minor": 2
}
