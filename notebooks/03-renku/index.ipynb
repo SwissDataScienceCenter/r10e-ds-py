{
 "cells": [
  {
   "cell_type": "markdown",
   "metadata": {},
   "source": [
    "# Reproducible Data Science with Renku &mdash; Index"
   ]
  },
  {
   "cell_type": "markdown",
   "metadata": {},
   "source": [
    "# Hands-on with Renku (1h 30m)\n",
    "\n",
    "<table style=\"font-size: 14px; margin: 10px;\">\n",
    "    <tbody>\n",
    "        <tr>\n",
    "            <th>30 min</th>\n",
    "            <td><a href=\"01-Starting.ipynb\">Starting</a></td>\n",
    "            <td style=\"text-align: left\">Starting a project, importing data, building a workflow</td>\n",
    "        </tr>\n",
    "        <tr>\n",
    "            <th>30 min</th>\n",
    "            <td><a href=\"02-Iterating.ipynb\">Iterating</a></td>\n",
    "            <td style=\"text-align: left\">Updating code and data to do the analysis.</td>\n",
    "        </tr>\n",
    "        <tr>\n",
    "            <th>30 min</th>\n",
    "            <td>Details and Reflection</td>\n",
    "            <td style=\"text-align: left\">What is the benefit? How much effort was it? How do we view, share, and reuse artifacts? How do things work under the covers?</td>\n",
    "        </tr>\n",
    "     </tbody>\n",
    "</table>"
   ]
  },
  {
   "cell_type": "markdown",
   "metadata": {},
   "source": [
    "# Hands-on\n",
    "\n",
    "In the hands-on section, we will perform a data-science task using Renku and see how this changes the way you would work and what benefits it provides. For this, we will use data on flights obtained from the [US Dept. of Transportation, Bureau of Transportation Statistics](https://www.transtats.bts.gov) to answer the following questions:\n",
    "\n",
    "- Do flights to Austin, TX generally arrive on time?\n",
    "- Are flights to Austin from certain locations more often delayed than others?\n",
    "\n",
    "From the perspective of statistics, the tasks are very simple: just compute some means. But the difficulty lies in deriving the values to average. To do this, we will need to build a pipeline consisting of data preprocesing, analysis and visualization of the output of preprocessing, and finally computing the result.\n",
    "\n",
    "**Spoiler!** The exercise will simulate a real-world situation. Certain steps will not work correctly, but we will only realize it later on, meaning that we will need to backtrack and fix errors upstream."
   ]
  },
  {
   "cell_type": "code",
   "execution_count": null,
   "metadata": {},
   "outputs": [],
   "source": []
  }
 ],
 "metadata": {
  "kernelspec": {
   "display_name": "Python 3",
   "language": "python",
   "name": "python3"
  },
  "language_info": {
   "codemirror_mode": {
    "name": "ipython",
    "version": 3
   },
   "file_extension": ".py",
   "mimetype": "text/x-python",
   "name": "python",
   "nbconvert_exporter": "python",
   "pygments_lexer": "ipython3",
   "version": "3.7.3"
  }
 },
 "nbformat": 4,
 "nbformat_minor": 2
}
