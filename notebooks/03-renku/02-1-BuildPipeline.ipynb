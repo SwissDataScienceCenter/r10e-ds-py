{
 "cells": [
  {
   "cell_type": "code",
   "execution_count": null,
   "metadata": {},
   "outputs": [],
   "source": [
    "from IPython.display import SVG"
   ]
  },
  {
   "cell_type": "markdown",
   "metadata": {},
   "source": [
    "# Building a pipeline"
   ]
  },
  {
   "cell_type": "markdown",
   "metadata": {},
   "source": [
    "## Outline\n",
    "\n",
    "We are going to create a pipeline with two steps:\n",
    "\n",
    "<img alt=\"Pipeline\" src=\"tutorial-images/pipeline.svg\" />\n",
    "\n",
    "For each step, the process of creating it will be the following:\n",
    "\n",
    "1. Create notebook\n",
    "2. Commit changes to git\n",
    "3. Run notebook reproducibly\n",
    "\n",
    "By chaining the outputs of one notebook into the inputs of the next, we will create a pipeline."
   ]
  },
  {
   "cell_type": "code",
   "execution_count": null,
   "metadata": {},
   "outputs": [],
   "source": [
    "%cd renku-tutorial-flights"
   ]
  },
  {
   "cell_type": "markdown",
   "metadata": {},
   "source": [
    "## Create a notebooks directory\n",
    "\n",
    "We want to follow a standard project organization structure. We will put our notebooks in the folder notebooks."
   ]
  },
  {
   "cell_type": "code",
   "execution_count": null,
   "metadata": {},
   "outputs": [],
   "source": [
    "%mkdir notebooks"
   ]
  },
  {
   "cell_type": "markdown",
   "metadata": {},
   "source": [
    "## Filter Flights"
   ]
  },
  {
   "cell_type": "markdown",
   "metadata": {},
   "source": [
    "### Create a notebook\n",
    "\n",
    "There are notebooks prepared in the templates folder. We are going to use a these to build our pipeline."
   ]
  },
  {
   "cell_type": "code",
   "execution_count": null,
   "metadata": {},
   "outputs": [],
   "source": [
    "%cp ../templates/00-FilterFlights.ipynb ./notebooks/"
   ]
  },
  {
   "cell_type": "markdown",
   "metadata": {},
   "source": [
    "Step through the [FilterFlights notebook](./renku-tutorial-flights/notebooks/00-FilterFlights.ipynb)."
   ]
  },
  {
   "cell_type": "markdown",
   "metadata": {},
   "source": [
    "### Commit changes to git\n",
    "\n",
    "We've done something new that we need to track in version control."
   ]
  },
  {
   "cell_type": "code",
   "execution_count": null,
   "metadata": {},
   "outputs": [],
   "source": [
    "!git status"
   ]
  },
  {
   "cell_type": "code",
   "execution_count": null,
   "metadata": {},
   "outputs": [],
   "source": [
    "!git add notebooks/00-FilterFlights.ipynb\n",
    "!git commit -m\"Created notebook to filter flights to AUS, TX.\""
   ]
  },
  {
   "cell_type": "code",
   "execution_count": null,
   "metadata": {},
   "outputs": [],
   "source": [
    "!git status"
   ]
  },
  {
   "cell_type": "markdown",
   "metadata": {},
   "source": [
    "**Tip**: `git status` should now report that the working tree is clean; if it's not, you can run `!git clean -f` to make it clean."
   ]
  },
  {
   "cell_type": "markdown",
   "metadata": {},
   "source": [
    "### Run reproducibly\n",
    "\n",
    "Stepping through the notebook as we did is not guaranteed to be reproducible. We will use papermill to run the notebook.\n",
    "\n",
    "Papermill passes parameters provided with `-p` on to the notebook. And Papermill takes as an argument the notebook to run (`notebooks/00-FilterFlights.ipynb` in this case) and a filename for the resulting run notebook (`notebooks/00-FilterFlights.ran.ipynb`, following the standard convention of [Notebook Name].ran.ipynb)"
   ]
  },
  {
   "cell_type": "code",
   "execution_count": null,
   "metadata": {},
   "outputs": [],
   "source": [
    "%%bash\n",
    "mkdir -p data/output\n",
    "renku run papermill \\\n",
    "  -p input_path data/flights/2019-01-flights.csv.zip \\\n",
    "  -p output_path data/output/2019-01-flights-filtered.csv \\\n",
    "  notebooks/00-FilterFlights.ipynb \\\n",
    "  notebooks/00-FilterFlights.ran.ipynb"
   ]
  },
  {
   "cell_type": "markdown",
   "metadata": {},
   "source": [
    "Before we continue, let us take a look at the [FilterFlights.ran notebook](./renku-tutorial-flights/notebooks/00-FilterFlights.ran.ipynb)."
   ]
  },
  {
   "cell_type": "markdown",
   "metadata": {},
   "source": [
    "## Count Flights"
   ]
  },
  {
   "cell_type": "markdown",
   "metadata": {},
   "source": [
    "### Create a notebook\n",
    "\n",
    "Again, you can use the notebook prepared in the templates folder."
   ]
  },
  {
   "cell_type": "code",
   "execution_count": null,
   "metadata": {},
   "outputs": [],
   "source": [
    "%cp ../templates/01-CountFlights.ipynb ./notebooks/"
   ]
  },
  {
   "cell_type": "markdown",
   "metadata": {},
   "source": [
    "Step through the [CountFlights notebook](./renku-tutorial-flights/notebooks/01-CountFlights.ipynb)."
   ]
  },
  {
   "cell_type": "markdown",
   "metadata": {},
   "source": [
    "### Commit changes to git\n",
    "\n",
    "We've done something new that we need to track in version control."
   ]
  },
  {
   "cell_type": "code",
   "execution_count": null,
   "metadata": {},
   "outputs": [],
   "source": [
    "!git status"
   ]
  },
  {
   "cell_type": "code",
   "execution_count": null,
   "metadata": {},
   "outputs": [],
   "source": [
    "!git add notebooks/01-CountFlights.ipynb\n",
    "!git commit -m\"Created notebook to count flights to AUS, TX.\""
   ]
  },
  {
   "cell_type": "code",
   "execution_count": null,
   "metadata": {},
   "outputs": [],
   "source": [
    "!git status"
   ]
  },
  {
   "cell_type": "markdown",
   "metadata": {},
   "source": [
    "Again, `git status` should report a clean working tree. Remove any lingering files if this is not the case."
   ]
  },
  {
   "cell_type": "markdown",
   "metadata": {},
   "source": [
    "### Run reproducibly\n",
    "\n",
    "Let's run the CountFlights notebook reproducibly as well."
   ]
  },
  {
   "cell_type": "code",
   "execution_count": null,
   "metadata": {},
   "outputs": [],
   "source": [
    "%%bash\n",
    "mkdir -p data/output\n",
    "renku run papermill \\\n",
    "  -p input_path data/output/2019-01-flights-filtered.csv  \\\n",
    "  -p output_path data/output/2019-01-flights-count.txt \\\n",
    "  notebooks/01-CountFlights.ipynb \\\n",
    "  notebooks/01-CountFlights.ran.ipynb"
   ]
  },
  {
   "cell_type": "markdown",
   "metadata": {},
   "source": [
    "<div style=\"color: #004085; background-color: #cce5ff; border-color: #b8daff; padding: 1.5rem 1.25rem; margin-bottom: 1rem; border: 1px solid transparent; border-radius: .25rem; font-size: xx-large;\">\n",
    "Now we have a pipeline in Renku!\n",
    "</div>\n",
    "\n"
   ]
  },
  {
   "cell_type": "markdown",
   "metadata": {},
   "source": [
    "# Viewing the pipeline\n",
    "\n",
    "If you have dot available, you can visualize the pipeline."
   ]
  },
  {
   "cell_type": "code",
   "execution_count": null,
   "metadata": {},
   "outputs": [],
   "source": [
    "graph = !renku log --format dot | dot -Tsvg\n",
    "SVG(\"\\n\".join(graph))"
   ]
  },
  {
   "cell_type": "markdown",
   "metadata": {},
   "source": [
    "# Viewing the result\n",
    "\n",
    "We can also look at the file that was the final [2019-01-flights-count.txt](renku-tutorial-flights/data/output/2019-01-flights-count.txt)."
   ]
  },
  {
   "cell_type": "markdown",
   "metadata": {},
   "source": [
    "# Exercises\n",
    "\n",
    "Solutions are provided in the commented `%load` statements.\n",
    "\n",
    "Enter the renku-tutorial-diamonds repo to do the exercises."
   ]
  },
  {
   "cell_type": "code",
   "execution_count": null,
   "metadata": {},
   "outputs": [],
   "source": [
    "%cd ../renku-tutorial-diamonds"
   ]
  },
  {
   "cell_type": "markdown",
   "metadata": {},
   "source": [
    "# Ex 2.0\n",
    "\n",
    "Create a pipeline for the `renku-tutorial-diamonds` project using the `00-FilterDiamonds.ipynb` and `01-CountDiamonds.ipynb` notebooks from the `templates` directory."
   ]
  },
  {
   "cell_type": "markdown",
   "metadata": {},
   "source": [
    "To get started, enter the renku-tutorial-diamonds and make folders for the notebooks and data outputs.\n",
    "\n",
    "If something fails, restore the working directory to a clean state (e.g., using `git clean -f`), fix the problem and try again."
   ]
  },
  {
   "cell_type": "code",
   "execution_count": null,
   "metadata": {},
   "outputs": [],
   "source": [
    "!mkdir -p notebooks\n",
    "!mkdir -p data/output"
   ]
  },
  {
   "cell_type": "code",
   "execution_count": null,
   "metadata": {},
   "outputs": [],
   "source": [
    "# %load ../solutions/ex2-0.fragment"
   ]
  },
  {
   "cell_type": "markdown",
   "metadata": {},
   "source": [
    "As earlier, if you have dot available, you can view the graph visually"
   ]
  },
  {
   "cell_type": "code",
   "execution_count": null,
   "metadata": {},
   "outputs": [],
   "source": [
    "graph = !renku log --format dot | dot -Tsvg -Gsize=12,10\n",
    "SVG(\"\\n\".join(graph))"
   ]
  },
  {
   "cell_type": "markdown",
   "metadata": {},
   "source": [
    "# A note on papermill\n",
    "\n",
    "The notebooks provided in this tutorial have already been set up to be papermill compatible. To make a notebook parameterizible by papermill, see the [papermill documentation](https://papermill.readthedocs.io/en/latest/usage-parameterize.html)."
   ]
  },
  {
   "cell_type": "markdown",
   "metadata": {},
   "source": [
    "# [On to part 2](02-2-UpdatePipeline.ipynb)\n",
    "\n"
   ]
  }
 ],
 "metadata": {
  "kernelspec": {
   "display_name": "Python 3",
   "language": "python",
   "name": "python3"
  },
  "language_info": {
   "codemirror_mode": {
    "name": "ipython",
    "version": 3
   },
   "file_extension": ".py",
   "mimetype": "text/x-python",
   "name": "python",
   "nbconvert_exporter": "python",
   "pygments_lexer": "ipython3",
   "version": "3.7.3"
  }
 },
 "nbformat": 4,
 "nbformat_minor": 2
}
