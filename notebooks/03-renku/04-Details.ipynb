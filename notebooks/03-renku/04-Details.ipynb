{
 "cells": [
  {
   "cell_type": "markdown",
   "metadata": {},
   "source": [
    "# Peeking under the covers"
   ]
  },
  {
   "cell_type": "markdown",
   "metadata": {},
   "source": [
    "Let us take a closer look inside the repository."
   ]
  },
  {
   "cell_type": "code",
   "execution_count": null,
   "metadata": {},
   "outputs": [],
   "source": [
    "%cd renku-tutorial-flights"
   ]
  },
  {
   "cell_type": "markdown",
   "metadata": {},
   "source": [
    "## Repository structure\n",
    "\n",
    "What exactly is in a renku repository?"
   ]
  },
  {
   "cell_type": "code",
   "execution_count": null,
   "metadata": {},
   "outputs": [],
   "source": [
    "%ls -al ./"
   ]
  },
  {
   "cell_type": "markdown",
   "metadata": {},
   "source": [
    "Of these files, `.git` and `.gitignore` are well documented from git.\n",
    "\n",
    "The `Dockerfile` and `requirements.txt` are used to capture the environment for the purpose of reproducibility, as we already discussed.\n",
    "\n",
    "That leaves the `.renku` folder, and the files `.gitlab-ci.yml` and `.gitattributes`.\n",
    "\n",
    "The `.renku` folder is where renku stores internal information. Similar to the `.git` folder, it is not designed for users to regularly interact with, but it is possible to do so if necessary.\n",
    "\n",
    "`.gitlab-ci.yml` is used to build Docker images for the project on the GitLab server. This is how Renkulab provides you the correct environment when you run the notebook interactively on Renkulab.\n",
    "\n",
    "`.gitattributes` is also from git, actually, but mostly familiar in combination with tools like git-lfs. The `.gitattributes` file states which files in the repository are managed by git-lfs instead of regular ol' git."
   ]
  },
  {
   "cell_type": "markdown",
   "metadata": {},
   "source": [
    "# Data storage\n",
    "\n",
    "Data and outputs of `renku run` are stored in git-lfs (unless they are notebook files which are stored in plain ol' git)."
   ]
  },
  {
   "cell_type": "code",
   "execution_count": null,
   "metadata": {},
   "outputs": [],
   "source": [
    "!git lfs track"
   ]
  }
 ],
 "metadata": {
  "kernelspec": {
   "display_name": "Python 3",
   "language": "python",
   "name": "python3"
  },
  "language_info": {
   "codemirror_mode": {
    "name": "ipython",
    "version": 3
   },
   "file_extension": ".py",
   "mimetype": "text/x-python",
   "name": "python",
   "nbconvert_exporter": "python",
   "pygments_lexer": "ipython3",
   "version": "3.7.3"
  }
 },
 "nbformat": 4,
 "nbformat_minor": 2
}
