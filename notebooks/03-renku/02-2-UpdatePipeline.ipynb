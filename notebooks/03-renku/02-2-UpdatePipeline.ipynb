{
 "cells": [
  {
   "cell_type": "code",
   "execution_count": null,
   "metadata": {},
   "outputs": [],
   "source": [
    "from IPython.display import SVG"
   ]
  },
  {
   "cell_type": "markdown",
   "metadata": {},
   "source": [
    "# Updating a pipeline"
   ]
  },
  {
   "cell_type": "markdown",
   "metadata": {},
   "source": [
    "## Outline\n",
    "\n",
    "The filtering notebook had a bug in it. We were filtering for 'DFW' instead of 'AUS'! Let us fix that bug and see what happens."
   ]
  },
  {
   "cell_type": "code",
   "execution_count": null,
   "metadata": {},
   "outputs": [],
   "source": [
    "%cd renku-tutorial-flights"
   ]
  },
  {
   "cell_type": "markdown",
   "metadata": {},
   "source": [
    "## Modify notebook\n",
    "\n",
    "Go to [00-FilterFlights.ipynb ](renku-tutorial-flights/notebooks/00-FilterFlights.ipynb) and change 'DFW' to 'AUS'.\n",
    "\n",
    "<img alt=\"DFW -> AUS\" src=\"./tutorial-images/filter-dfw-aus.png\" width=\"800px\"/>"
   ]
  },
  {
   "cell_type": "markdown",
   "metadata": {},
   "source": [
    "### Commit changed to git\n",
    "\n",
    "We've done something new that we need to track in version control."
   ]
  },
  {
   "cell_type": "code",
   "execution_count": null,
   "metadata": {},
   "outputs": [],
   "source": [
    "!git status"
   ]
  },
  {
   "cell_type": "code",
   "execution_count": null,
   "metadata": {},
   "outputs": [],
   "source": [
    "!git add notebooks/00-FilterFlights.ipynb\n",
    "!git commit -m\"Corrected city in filter from DFW to AUS.\""
   ]
  },
  {
   "cell_type": "code",
   "execution_count": null,
   "metadata": {},
   "outputs": [],
   "source": [
    "!git status"
   ]
  },
  {
   "cell_type": "markdown",
   "metadata": {},
   "source": [
    "<div style=\"color: #004085; background-color: #cce5ff; border-color: #b8daff; padding: 1.5rem 1.25rem; margin-bottom: 1rem; border: 1px solid transparent; border-radius: .25rem; font-size: xx-large;\">\n",
    "Let's pause for a second and reflect on where we are...\n",
    "</div>\n",
    "\n",
    "We read in some data, processed it, and worked with the processed data. Now we want to change the initial processing. \n",
    "- How do you know what is downstream of the processed data?\n",
    "- How do you know how to update all downstream consumers of the data?\n",
    "\n",
    "**With renku, we can just ask the system.**"
   ]
  },
  {
   "cell_type": "code",
   "execution_count": null,
   "metadata": {},
   "outputs": [],
   "source": [
    "!renku status"
   ]
  },
  {
   "cell_type": "markdown",
   "metadata": {},
   "source": [
    "And we can ask renku to update everything."
   ]
  },
  {
   "cell_type": "code",
   "execution_count": null,
   "metadata": {},
   "outputs": [],
   "source": [
    "!renku update"
   ]
  },
  {
   "cell_type": "markdown",
   "metadata": {},
   "source": [
    "## Inspecting the results\n",
    "\n",
    "Let us look at [2019-01-flights-count.txt](renku-tutorial-flights/data/output/2019-01-flights-count.txt) and see what the new number of flights is.\n",
    "\n",
    "We can compare this with the old number, when we were filtering for 'DFW.'"
   ]
  },
  {
   "cell_type": "code",
   "execution_count": null,
   "metadata": {},
   "outputs": [],
   "source": [
    "# Workaround for https://github.com/SwissDataScienceCenter/renku-python/issues/579 to diff text in lfs\n",
    "!git config diff.lfs.textconv cat\n",
    "\n",
    "!git diff HEAD^ data/output/2019-01-flights-count.txt"
   ]
  },
  {
   "cell_type": "markdown",
   "metadata": {},
   "source": [
    "<div style=\"color: #155724; background-color: #d4edda; border-color: #c3e6cb; padding: 1.5rem 1.25rem; margin-bottom: 1rem; border: 1px solid transparent; border-radius: .25rem; font-size: xx-large;\">\n",
    "Wasn't that easy!?\n",
    "</div>"
   ]
  },
  {
   "cell_type": "markdown",
   "metadata": {},
   "source": [
    "# Exercises\n",
    "\n",
    "Solutions are provided in the commented `%load` statements.\n",
    "\n",
    "Enter the renku-tutorial-diamonds repo to do the exercises."
   ]
  },
  {
   "cell_type": "code",
   "execution_count": null,
   "metadata": {},
   "outputs": [],
   "source": [
    "%cd ../renku-tutorial-diamonds"
   ]
  },
  {
   "cell_type": "markdown",
   "metadata": {},
   "source": [
    "# Ex 2.1\n",
    "\n",
    "There is a mistake in the [FilterDiamonds](renku-tutorial-diamonds/notebooks/FilterDiamonds.ipynb) notebook similar to the one we fixed above: we filter for 'Premium' instead of 'Ideal'. Correct this mistake and update the results."
   ]
  },
  {
   "cell_type": "code",
   "execution_count": null,
   "metadata": {},
   "outputs": [],
   "source": [
    "# %load ../solutions/ex2-1.fragment"
   ]
  }
 ],
 "metadata": {
  "kernelspec": {
   "display_name": "Python 3",
   "language": "python",
   "name": "python3"
  },
  "language_info": {
   "codemirror_mode": {
    "name": "ipython",
    "version": 3
   },
   "file_extension": ".py",
   "mimetype": "text/x-python",
   "name": "python",
   "nbconvert_exporter": "python",
   "pygments_lexer": "ipython3",
   "version": "3.7.3"
  }
 },
 "nbformat": 4,
 "nbformat_minor": 2
}
