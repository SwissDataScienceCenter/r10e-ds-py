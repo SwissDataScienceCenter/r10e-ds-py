{
 "cells": [
  {
   "cell_type": "markdown",
   "metadata": {},
   "source": [
    "### Pre-Setup\n",
    "\n",
    "Make sure your git environment is correctly configured with a username and email."
   ]
  },
  {
   "cell_type": "code",
   "execution_count": null,
   "metadata": {},
   "outputs": [],
   "source": [
    "!git config --global user.name\n",
    "!git config --global user.email"
   ]
  },
  {
   "cell_type": "code",
   "execution_count": null,
   "metadata": {},
   "outputs": [],
   "source": [
    "# If the above does not print anything, set a username and email:\n",
    "#!git config --global --add user.name \"John Doe\"\n",
    "#!git config --global --add user.email \"john.doe@example.com\""
   ]
  },
  {
   "cell_type": "markdown",
   "metadata": {},
   "source": [
    "# Starting a Renku project"
   ]
  },
  {
   "cell_type": "markdown",
   "metadata": {},
   "source": [
    "## Outline\n",
    "\n",
    "1. **Create repository**\n",
    "2. Declare environment\n",
    "3. Import data"
   ]
  },
  {
   "cell_type": "markdown",
   "metadata": {},
   "source": [
    "# Creating a repository\n",
    "\n",
    "The first thing to do when starting a project is to initialize a repository. This is done with\n",
    "```\n",
    "renku init [repo name]\n",
    "```\n",
    "\n",
    "Let's call ours `renku-tutorial-flights`"
   ]
  },
  {
   "cell_type": "code",
   "execution_count": null,
   "metadata": {},
   "outputs": [],
   "source": [
    "!renku init renku-tutorial-flights"
   ]
  },
  {
   "cell_type": "markdown",
   "metadata": {},
   "source": [
    "Let is take a look at what's inside the renku repository"
   ]
  },
  {
   "cell_type": "code",
   "execution_count": null,
   "metadata": {},
   "outputs": [],
   "source": [
    "%ls -l renku-tutorial-flights"
   ]
  },
  {
   "cell_type": "markdown",
   "metadata": {},
   "source": [
    "Renku creates a git repository and generates two files: \n",
    "- `Dockerfile` \n",
    "- `requirements.txt`\n",
    "\n",
    "The initial `requirements.txt` file is empty and there as a shell. In a minute, we will create fill it out. The Dockerfile is there to allow specifiying external dependencies if you have any (in this project, we don't). It's used to construct an environment on Renkulab."
   ]
  },
  {
   "cell_type": "markdown",
   "metadata": {},
   "source": [
    "## Housekeeping\n",
    "\n",
    "Like git, renku commands are normally executed within the repository. For the rest of the tutorial, we will work in the renku repository."
   ]
  },
  {
   "cell_type": "code",
   "execution_count": null,
   "metadata": {},
   "outputs": [],
   "source": [
    "%cd renku-tutorial-flights"
   ]
  },
  {
   "cell_type": "markdown",
   "metadata": {},
   "source": [
    "## Declaring the environment\n",
    "\n",
    "1. Create repository &#10004;\n",
    "2. **Declare environment**\n",
    "3. Import data\n",
    "\n",
    "To make the project reproducible, we need to declare the environment it runs in. We will be working with pandas, numpy, scipy, matplotlib, and seaborn, so let us create a requirements.txt file that makes this explicit. The requirements can of course be modified at any later time."
   ]
  },
  {
   "cell_type": "code",
   "execution_count": null,
   "metadata": {},
   "outputs": [],
   "source": [
    "# Normally, you would write a requirements file, but we have one ready here\n",
    "%cp ../templates/requirements.txt ./"
   ]
  },
  {
   "cell_type": "markdown",
   "metadata": {},
   "source": [
    "### Committing to git\n",
    "\n",
    "As we work, we to track the process with version control."
   ]
  },
  {
   "cell_type": "code",
   "execution_count": null,
   "metadata": {},
   "outputs": [],
   "source": [
    "!git status"
   ]
  },
  {
   "cell_type": "markdown",
   "metadata": {},
   "source": [
    "Let us tell git about the requirements.txt file."
   ]
  },
  {
   "cell_type": "code",
   "execution_count": null,
   "metadata": {},
   "outputs": [],
   "source": [
    "!git add requirements.txt\n",
    "!git commit -m\"Declare the python environment for the project.\""
   ]
  },
  {
   "cell_type": "markdown",
   "metadata": {},
   "source": [
    "## Importing data\n",
    "\n",
    "1. Create repository &#10004;\n",
    "2. Declare environment &#10004;\n",
    "3. **Import data**"
   ]
  },
  {
   "cell_type": "markdown",
   "metadata": {},
   "source": [
    "### Create a dataset\n",
    "\n",
    "Renku uses the concept of a dataset to group data together. We will create a dataset called `flights` for our flights data."
   ]
  },
  {
   "cell_type": "code",
   "execution_count": null,
   "metadata": {},
   "outputs": [],
   "source": [
    "!renku dataset create flights"
   ]
  },
  {
   "cell_type": "markdown",
   "metadata": {},
   "source": [
    "### Add data to the data set\n",
    "\n",
    "And we will get some data and add it to the flights dataset. Renku can import data from different kinds of sources including data repositories like [zenodo](https://zenodo.org), other renku or git projects, the file system, or a URL. Here we will import from a URL. The data is available under this URL:\n",
    "\n",
    "`https://renkulab.io/gitlab/cramakri/renku-tutorial-flights-data-raw/raw/master/data/v1/2019-01-flights.csv.zip`\n"
   ]
  },
  {
   "cell_type": "code",
   "execution_count": null,
   "metadata": {},
   "outputs": [],
   "source": [
    "!renku dataset add flights https://renkulab.io/gitlab/cramakri/renku-tutorial-flights-data-raw/raw/master/data/v1/2019-01-flights.csv.zip"
   ]
  },
  {
   "cell_type": "markdown",
   "metadata": {},
   "source": [
    "This copies the data into the folder for the flights dataset. Let's see what is in there."
   ]
  },
  {
   "cell_type": "code",
   "execution_count": null,
   "metadata": {},
   "outputs": [],
   "source": [
    "!renku dataset ls-files flights"
   ]
  },
  {
   "cell_type": "markdown",
   "metadata": {},
   "source": [
    "Renku datasets contain metadata which is used to derive the provnenance of results."
   ]
  },
  {
   "cell_type": "markdown",
   "metadata": {},
   "source": [
    "# Exercises\n",
    "\n",
    "Solutions are provided in the commented `%load` statements.\n",
    "\n",
    "Return to the project directory to do the exercises."
   ]
  },
  {
   "cell_type": "code",
   "execution_count": null,
   "metadata": {},
   "outputs": [],
   "source": [
    "%cd .."
   ]
  },
  {
   "cell_type": "markdown",
   "metadata": {},
   "source": [
    "## Ex. 1.0\n",
    "\n",
    "Create a renku repository called `renku-tutorial-diamonds`"
   ]
  },
  {
   "cell_type": "code",
   "execution_count": null,
   "metadata": {},
   "outputs": [],
   "source": [
    "# %load solutions/ex1-0.fragment"
   ]
  },
  {
   "cell_type": "markdown",
   "metadata": {},
   "source": [
    "## Ex 1.2\n",
    "\n",
    "In the renku-tutorial-diamonds repo, create a dataset called `diamonds`"
   ]
  },
  {
   "cell_type": "code",
   "execution_count": null,
   "metadata": {},
   "outputs": [],
   "source": [
    "# %load solutions/ex1-1.fragment"
   ]
  },
  {
   "cell_type": "markdown",
   "metadata": {},
   "source": [
    "## Ex 1.3\n",
    "\n",
    "Add the file from `https://github.com/seaborn/seaborn-data/raw/master/diamonds.csv` to the diamonds dataset."
   ]
  },
  {
   "cell_type": "code",
   "execution_count": null,
   "metadata": {},
   "outputs": [],
   "source": [
    "# %load ../solutions/ex1-2.fragment"
   ]
  },
  {
   "cell_type": "markdown",
   "metadata": {},
   "source": [
    "(You are now in the renku-tutorial-diamonds folder, so the solution to the last exercise is located in a folder one level up.)"
   ]
  }
 ],
 "metadata": {
  "kernelspec": {
   "display_name": "Python 3",
   "language": "python",
   "name": "python3"
  },
  "language_info": {
   "codemirror_mode": {
    "name": "ipython",
    "version": 3
   },
   "file_extension": ".py",
   "mimetype": "text/x-python",
   "name": "python",
   "nbconvert_exporter": "python",
   "pygments_lexer": "ipython3",
   "version": "3.7.3"
  }
 },
 "nbformat": 4,
 "nbformat_minor": 2
}
