{
 "cells": [
  {
   "cell_type": "markdown",
   "metadata": {},
   "source": [
    "# Sharing and collaborating on a Renku project"
   ]
  },
  {
   "cell_type": "markdown",
   "metadata": {},
   "source": [
    "As we've seen it, it is possible to use Renku on a laptop to work reproducibly. Renku also includes a server component that can be used to share and collaborate on projects, and to work on infrastructure with more resources (storage, CPUs/GPUs, etc.).\n",
    "\n",
    "Many users start the projects on a Renku server. We started our projects on the laptop, but it is straightforward to move over to the server as well."
   ]
  },
  {
   "cell_type": "code",
   "execution_count": null,
   "metadata": {},
   "outputs": [],
   "source": [
    "%cd renku-tutorial-flights"
   ]
  },
  {
   "cell_type": "markdown",
   "metadata": {},
   "source": [
    "## Create a project on the server"
   ]
  },
  {
   "cell_type": "markdown",
   "metadata": {},
   "source": [
    "To do this, we first need to create a project on a server. You can host your own server to give users access to internal resources. The [Swiss Data Science Center](https://datascience.ch) hosts a public Renku server for people to explore the tools. We will use this public server, [renkulab](https://renkulab.io).\n",
    "\n",
    "Let us create a project called \"renku-tutorial-flights\" on the [GitLab server](https://renkulab.io/gitlab).\n",
    "\n",
    "Copy the URL to the project and place it into the following placeholder."
   ]
  },
  {
   "cell_type": "code",
   "execution_count": null,
   "metadata": {},
   "outputs": [],
   "source": [
    "# Replace [repo-url] with the URL from GitLab\n",
    "!git remote add origin git@renkulab.io:cramakri/renku-tutorial-flights.git"
   ]
  },
  {
   "cell_type": "code",
   "execution_count": null,
   "metadata": {},
   "outputs": [],
   "source": [
    "!git push --set-upstream origin master"
   ]
  },
  {
   "cell_type": "markdown",
   "metadata": {},
   "source": [
    "If we go to [renkulab](https://renkulab.io/), we can take a look at the project there.\n",
    "We can:\n",
    "* View lineage of files\n",
    "* Start a shared environment to continue working with the project"
   ]
  }
 ],
 "metadata": {
  "kernelspec": {
   "display_name": "Python 3",
   "language": "python",
   "name": "python3"
  },
  "language_info": {
   "codemirror_mode": {
    "name": "ipython",
    "version": 3
   },
   "file_extension": ".py",
   "mimetype": "text/x-python",
   "name": "python",
   "nbconvert_exporter": "python",
   "pygments_lexer": "ipython3",
   "version": "3.7.3"
  }
 },
 "nbformat": 4,
 "nbformat_minor": 2
}
