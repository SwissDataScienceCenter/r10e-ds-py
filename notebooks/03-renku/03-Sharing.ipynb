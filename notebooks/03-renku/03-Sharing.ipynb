{
 "cells": [
  {
   "cell_type": "markdown",
   "metadata": {},
   "source": [
    "# Sharing and collaborating on a Renku project"
   ]
  },
  {
   "cell_type": "markdown",
   "metadata": {},
   "source": [
    "As we've seen it, it is possible to use Renku on a laptop to work reproducibly. Renku also includes a server component that can be used to share and collaborate on projects, and to work on infrastructure with more resources (storage, CPUs/GPUs, etc.).\n",
    "\n",
    "Many users start the projects on a Renku server. We started our projects on the laptop, but it is straightforward to move over to the server as well."
   ]
  },
  {
   "cell_type": "code",
   "execution_count": 1,
   "metadata": {},
   "outputs": [
    {
     "name": "stdout",
     "output_type": "stream",
     "text": [
      "/Users/ciyer/Documents/sdsc/repos/r10e-ds-py/notebooks/03-renku/renku-tutorial-flights\n"
     ]
    }
   ],
   "source": [
    "%cd renku-tutorial-flights"
   ]
  },
  {
   "cell_type": "markdown",
   "metadata": {},
   "source": [
    "## Create a project on the server"
   ]
  },
  {
   "cell_type": "markdown",
   "metadata": {},
   "source": [
    "To do this, we first need to create a project on a server. You can host your own server to give users access to internal resources. The [Swiss Data Science Center](https://datascience.ch) hosts a public Renku server for people to explore the tools. We will use this public server, [renkulab](https://renkulab.io).\n",
    "\n",
    "Let us create a project called \"renku-tutorial-flights\" on the [GitLab server](https://renkulab.io/gitlab).\n",
    "\n",
    "Copy the URL to the project and place it into the following placeholder."
   ]
  },
  {
   "cell_type": "code",
   "execution_count": 2,
   "metadata": {},
   "outputs": [],
   "source": [
    "# Replace [repo-url] with the URL from GitLab\n",
    "!git remote add origin [repo-url]"
   ]
  },
  {
   "cell_type": "code",
   "execution_count": 4,
   "metadata": {},
   "outputs": [
    {
     "name": "stdout",
     "output_type": "stream",
     "text": [
      "Locking support detected on remote \"origin\". Consider enabling it with:\n",
      "  $ git config lfs.https://renkulab.io/cramakri/renku-tutorial-flights.git/info/lfs.locksverify true\n",
      "Uploading LFS objects: 100% (8/8), 79 MB | 11 MB/s, done\n",
      "Enumerating objects: 110, done.\n",
      "Counting objects: 100% (110/110), done.\n",
      "Delta compression using up to 4 threads\n",
      "Compressing objects: 100% (102/102), done.\n",
      "Writing objects: 100% (110/110), 87.05 KiB | 3.48 MiB/s, done.\n",
      "Total 110 (delta 42), reused 0 (delta 0)\n",
      "remote: Resolving deltas: 100% (42/42), done.\u001b[K\n",
      "To renkulab.io:cramakri/renku-tutorial-flights.git\n",
      " * [new branch]      master -> master\n",
      "Branch 'master' set up to track remote branch 'master' from 'origin'.\n"
     ]
    }
   ],
   "source": [
    "!git push --set-upstream origin master"
   ]
  },
  {
   "cell_type": "code",
   "execution_count": null,
   "metadata": {},
   "outputs": [],
   "source": []
  }
 ],
 "metadata": {
  "kernelspec": {
   "display_name": "Python 3",
   "language": "python",
   "name": "python3"
  },
  "language_info": {
   "codemirror_mode": {
    "name": "ipython",
    "version": 3
   },
   "file_extension": ".py",
   "mimetype": "text/x-python",
   "name": "python",
   "nbconvert_exporter": "python",
   "pygments_lexer": "ipython3",
   "version": "3.7.3"
  }
 },
 "nbformat": 4,
 "nbformat_minor": 2
}
