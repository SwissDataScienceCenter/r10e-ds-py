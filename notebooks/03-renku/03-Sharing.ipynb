{
 "cells": [
  {
   "cell_type": "markdown",
   "metadata": {},
   "source": [
    "# Sharing and collaborating on a Renku project"
   ]
  },
  {
   "cell_type": "markdown",
   "metadata": {},
   "source": [
    "As we've seen it, it is possible to use Renku on a laptop to work reproducibly. Renku also includes a server component, Renkulab, that can be used to share and collaborate on projects, and to work on infrastructure with more resources (storage, CPUs/GPUs, etc.).\n",
    "\n",
    "Many users start the projects on a Renku server. We started our projects on the laptop, but it is straightforward to move over to the server as well."
   ]
  },
  {
   "cell_type": "code",
   "execution_count": 1,
   "metadata": {},
   "outputs": [
    {
     "name": "stdout",
     "output_type": "stream",
     "text": [
      "/Users/ciyer/Documents/sdsc/repos/r10e-ds-py/notebooks/03-renku/renku-tutorial-flights\n"
     ]
    }
   ],
   "source": [
    "%cd renku-tutorial-flights"
   ]
  },
  {
   "cell_type": "markdown",
   "metadata": {},
   "source": [
    "## Add README\n",
    "\n",
    "When we share a project, we need to provide some contextualizing information so others can understand it. Let's add a README to the project explaining what it does."
   ]
  },
  {
   "cell_type": "code",
   "execution_count": 2,
   "metadata": {},
   "outputs": [],
   "source": [
    "%cp ../templates/README.md ./"
   ]
  },
  {
   "cell_type": "code",
   "execution_count": 3,
   "metadata": {},
   "outputs": [
    {
     "name": "stdout",
     "output_type": "stream",
     "text": [
      "On branch master\r\n",
      "Untracked files:\r\n",
      "  (use \"git add <file>...\" to include in what will be committed)\r\n",
      "\r\n",
      "\t\u001b[31mREADME.md\u001b[m\r\n",
      "\r\n",
      "nothing added to commit but untracked files present (use \"git add\" to track)\r\n"
     ]
    }
   ],
   "source": [
    "!git status"
   ]
  },
  {
   "cell_type": "code",
   "execution_count": 4,
   "metadata": {},
   "outputs": [
    {
     "name": "stdout",
     "output_type": "stream",
     "text": [
      "[master b6b0fd8] Added README explaining the project.\r\n",
      " 1 file changed, 7 insertions(+)\r\n",
      " create mode 100644 README.md\r\n"
     ]
    }
   ],
   "source": [
    "!git add README.md\n",
    "!git commit -m\"Added README explaining the project.\""
   ]
  },
  {
   "cell_type": "markdown",
   "metadata": {},
   "source": [
    "## Create a project on the server"
   ]
  },
  {
   "cell_type": "markdown",
   "metadata": {},
   "source": [
    "To do this, we first need to create a project on a server. You can host your own server to give users access to internal resources. The [Swiss Data Science Center](https://datascience.ch) hosts a public Renku server for people to explore the tools. We will use this public server, [renkulab](https://renkulab.io). You will need to register for an account to push a project to the server. You should be able to browse existing projects without an account, though.\n",
    "\n",
    "Let us create a project called \"renku-tutorial-flights\" on the [GitLab server](https://renkulab.io/gitlab)."
   ]
  },
  {
   "cell_type": "markdown",
   "metadata": {},
   "source": [
    "## Push project to the server\n",
    "\n",
    "Copy the URL for the project and place it into the placeholder below."
   ]
  },
  {
   "cell_type": "code",
   "execution_count": 5,
   "metadata": {},
   "outputs": [],
   "source": [
    "# Replace [repo-url] with the URL from GitLab\n",
    "!git remote add origin [repo-url]"
   ]
  },
  {
   "cell_type": "code",
   "execution_count": 6,
   "metadata": {},
   "outputs": [
    {
     "name": "stdout",
     "output_type": "stream",
     "text": [
      "Locking support detected on remote \"origin\". Consider enabling it with:\n",
      "  $ git config lfs.https://renkulab.io/cramakri/renku-tutorial-flights-finished.git/info/lfs.locksverify true\n",
      "Uploading LFS objects: 100% (5/5), 9.7 MB | 419 KB/s, done                      \n",
      "Enumerating objects: 79, done.\n",
      "Counting objects: 100% (79/79), done.\n",
      "Delta compression using up to 4 threads\n",
      "Compressing objects: 100% (72/72), done.\n",
      "Writing objects: 100% (79/79), 15.91 KiB | 1.06 MiB/s, done.\n",
      "Total 79 (delta 29), reused 0 (delta 0)\n",
      "To renkulab.io:cramakri/renku-tutorial-flights-finished.git\n",
      " * [new branch]      master -> master\n",
      "Branch 'master' set up to track remote branch 'master' from 'origin'.\n"
     ]
    }
   ],
   "source": [
    "!git push --set-upstream origin master"
   ]
  },
  {
   "cell_type": "markdown",
   "metadata": {},
   "source": [
    "If we go to [renkulab](https://renkulab.io/), we can take a look at the project there.\n",
    "We can:\n",
    "* View lineage of files\n",
    "* Start a shared environment to continue working with the project"
   ]
  },
  {
   "cell_type": "markdown",
   "metadata": {},
   "source": [
    "# Finished version\n",
    "\n",
    "There is a &ldquo;pre-cooked&rdquo; version already available for browsing here: [renkulab.io/renku-tutorial-flights-finished](https://renkulab.io/projects/614/)."
   ]
  },
  {
   "cell_type": "markdown",
   "metadata": {},
   "source": [
    "# Exercises\n",
    "\n",
    "Enter the renku-tutorial-diamonds repo to do the exercises."
   ]
  },
  {
   "cell_type": "code",
   "execution_count": null,
   "metadata": {},
   "outputs": [],
   "source": [
    "%cd ../renku-tutorial-diamonds"
   ]
  },
  {
   "cell_type": "markdown",
   "metadata": {},
   "source": [
    "## Ex 3.0\n",
    "\n",
    "Add a README to the diamonds project."
   ]
  },
  {
   "cell_type": "markdown",
   "metadata": {},
   "source": [
    "## Ex 3.1\n",
    "\n",
    "Create a project for the diamonds repo on [renkulab](https://renkulab.io) and push the repo there."
   ]
  }
 ],
 "metadata": {
  "kernelspec": {
   "display_name": "Python 3",
   "language": "python",
   "name": "python3"
  },
  "language_info": {
   "codemirror_mode": {
    "name": "ipython",
    "version": 3
   },
   "file_extension": ".py",
   "mimetype": "text/x-python",
   "name": "python",
   "nbconvert_exporter": "python",
   "pygments_lexer": "ipython3",
   "version": "3.7.3"
  }
 },
 "nbformat": 4,
 "nbformat_minor": 2
}
