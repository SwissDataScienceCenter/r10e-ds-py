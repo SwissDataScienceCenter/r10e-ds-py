{
 "cells": [
  {
   "cell_type": "code",
   "execution_count": null,
   "metadata": {},
   "outputs": [],
   "source": [
    "import numpy as np\n",
    "import scipy\n",
    "import pandas as pd\n",
    "import matplotlib as mpl\n",
    "import matplotlib.pyplot as plt\n",
    "import seaborn as sns\n",
    "\n",
    "%matplotlib inline\n",
    "\n",
    "sns.set()"
   ]
  },
  {
   "cell_type": "markdown",
   "metadata": {},
   "source": [
    "# Read the data and inspect it"
   ]
  },
  {
   "cell_type": "code",
   "execution_count": null,
   "metadata": {},
   "outputs": [],
   "source": [
    "df = pd.read_csv(\"../data/flights/2019-01-flights.csv.zip\")"
   ]
  },
  {
   "cell_type": "code",
   "execution_count": null,
   "metadata": {},
   "outputs": [],
   "source": [
    "df.head()"
   ]
  },
  {
   "cell_type": "markdown",
   "metadata": {},
   "source": [
    "- Look at dep time. This is a strange format. We need to parse it.\n",
    "- Implement a parser for this format. We should write tests, but that is beyond scope for this tutorial."
   ]
  },
  {
   "cell_type": "code",
   "execution_count": null,
   "metadata": {},
   "outputs": [],
   "source": [
    "df.dtypes"
   ]
  },
  {
   "cell_type": "code",
   "execution_count": null,
   "metadata": {},
   "outputs": [],
   "source": [
    "# Why is DEP_TIME a float64? Is it sometimes nan?\n",
    "len(df[df['DEP_TIME'].isna()])"
   ]
  },
  {
   "cell_type": "code",
   "execution_count": null,
   "metadata": {},
   "outputs": [],
   "source": [
    "# How many nan times do we have if we ignore cancelled and diverted flights?\n",
    "tdf = df[(df['CANCELLED'] == 0) & (df['DIVERTED'] == 0)]\n",
    "len(tdf[tdf['DEP_TIME'].isna()]), len(tdf[tdf['ARR_TIME'].isna()])"
   ]
  },
  {
   "cell_type": "code",
   "execution_count": null,
   "metadata": {},
   "outputs": [],
   "source": [
    "# Let's ignore the cancelled and diverted flights for the moment\n",
    "df = df[(df['CANCELLED'] == 0) & (df['DIVERTED'] == 0)]"
   ]
  },
  {
   "cell_type": "markdown",
   "metadata": {},
   "source": [
    "# Fix Table Format"
   ]
  },
  {
   "cell_type": "markdown",
   "metadata": {},
   "source": [
    "## Convert types of time fields and drop irrelevant fields"
   ]
  },
  {
   "cell_type": "code",
   "execution_count": null,
   "metadata": {},
   "outputs": [],
   "source": [
    "# Let's convert the time fields to int64 to make conversion to time simpler and drop fields we do not care about\n",
    "df = df.astype({'DEP_TIME': 'int64', 'ARR_TIME': 'int64'}).drop(['CANCELLED', 'CANCELLATION_CODE', 'DIVERTED'], 1)\n",
    "df.head()"
   ]
  },
  {
   "cell_type": "markdown",
   "metadata": {},
   "source": [
    "## Convert FL_DATE to datetime"
   ]
  },
  {
   "cell_type": "code",
   "execution_count": null,
   "metadata": {},
   "outputs": [],
   "source": [
    "df['FL_DATE'] = pd.to_datetime(df['FL_DATE'])\n",
    "df.head()"
   ]
  },
  {
   "cell_type": "markdown",
   "metadata": {},
   "source": [
    "## Convert CRS_*x*_TIME fields to time fields"
   ]
  },
  {
   "cell_type": "code",
   "execution_count": null,
   "metadata": {},
   "outputs": [],
   "source": [
    "import datetime\n",
    "def int_to_time(inttime):\n",
    "    hours = inttime // 100\n",
    "    mins = inttime % 100\n",
    "    return datetime.time(hours, mins)\n",
    "# Should write tests here\n",
    "int_to_time(100), int_to_time(1133), int_to_time(2356)"
   ]
  },
  {
   "cell_type": "code",
   "execution_count": null,
   "metadata": {},
   "outputs": [],
   "source": [
    "# Convert int times to times\n",
    "df['CRS_DEP_TIME'] = df['CRS_DEP_TIME'].apply(int_to_time)"
   ]
  },
  {
   "cell_type": "code",
   "execution_count": null,
   "metadata": {},
   "outputs": [],
   "source": [
    "df['DEP_TIME'].apply(int_to_time).head()\n",
    "# whoops -- this fails"
   ]
  },
  {
   "cell_type": "code",
   "execution_count": null,
   "metadata": {},
   "outputs": [],
   "source": [
    "import datetime\n",
    "def int_to_time(inttime):\n",
    "    hours = inttime // 100 % 24\n",
    "    mins = inttime % 100\n",
    "    return datetime.time(hours, mins)\n",
    "# Should write tests here\n",
    "int_to_time(100), int_to_time(1133), int_to_time(2356), int_to_time(2405)"
   ]
  },
  {
   "cell_type": "code",
   "execution_count": null,
   "metadata": {},
   "outputs": [],
   "source": [
    "df['DEP_TIME'] = df['DEP_TIME'].apply(int_to_time)\n",
    "df['CRS_ARR_TIME'] = df['CRS_ARR_TIME'].apply(int_to_time)\n",
    "df['ARR_TIME'] = df['ARR_TIME'].apply(int_to_time)"
   ]
  },
  {
   "cell_type": "code",
   "execution_count": null,
   "metadata": {},
   "outputs": [],
   "source": [
    "df.head()"
   ]
  },
  {
   "cell_type": "markdown",
   "metadata": {},
   "source": [
    "# Compute Delay"
   ]
  },
  {
   "cell_type": "code",
   "execution_count": null,
   "metadata": {},
   "outputs": [],
   "source": [
    "def row_to_delay(row):\n",
    "    row_date = row['FL_DATE']\n",
    "    planned_arrival = row['CRS_ARR_TIME']\n",
    "    arrival = row['ARR_TIME']\n",
    "    diff = datetime.datetime(row_date.year, row_date.month, row_date.day, \n",
    "                             arrival.hour, arrival.minute) - \\\n",
    "        datetime.datetime(row_date.year, row_date.month, row_date.day, \n",
    "                          planned_arrival.hour, planned_arrival.minute)\n",
    "    return diff\n",
    "df['delay_minutes'] = df.apply(row_to_delay, 1).apply(lambda x: x.total_seconds() / 60)"
   ]
  },
  {
   "cell_type": "code",
   "execution_count": null,
   "metadata": {},
   "outputs": [],
   "source": [
    "df.head()"
   ]
  },
  {
   "cell_type": "markdown",
   "metadata": {},
   "source": [
    "# Let's save the result"
   ]
  },
  {
   "cell_type": "code",
   "execution_count": null,
   "metadata": {},
   "outputs": [],
   "source": [
    "analysis_columns = ['FL_DATE', 'OP_CARRIER', 'ORIGIN', 'DEST', 'delay_minutes']\n",
    "df[analysis_columns].to_csv(\"../data/output/2019-01-flights-preprocessed.csv\")"
   ]
  },
  {
   "cell_type": "code",
   "execution_count": null,
   "metadata": {},
   "outputs": [],
   "source": []
  }
 ],
 "metadata": {
  "kernelspec": {
   "display_name": "Python 3",
   "language": "python",
   "name": "python3"
  },
  "language_info": {
   "codemirror_mode": {
    "name": "ipython",
    "version": 3
   },
   "file_extension": ".py",
   "mimetype": "text/x-python",
   "name": "python",
   "nbconvert_exporter": "python",
   "pygments_lexer": "ipython3",
   "version": "3.7.3"
  }
 },
 "nbformat": 4,
 "nbformat_minor": 2
}
