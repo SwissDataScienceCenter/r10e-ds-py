{
 "cells": [
  {
   "cell_type": "markdown",
   "metadata": {},
   "source": [
    "# Iterating on a Renku project"
   ]
  },
  {
   "cell_type": "markdown",
   "metadata": {},
   "source": [
    "## Improving steps in a workflow\n",
    "\n",
    "In the last step of 01-Starting.ipynb, we produced a boxplot and a probability plot of the delay times. Some flights were arriving 1500 minutes = 25 hours early! This seems quite unlikely and is probably the result of an error in our preprocessing.\n",
    "\n",
    "Let us go back to the preprocessing notebook and try to track down the source of the problem."
   ]
  },
  {
   "cell_type": "code",
   "execution_count": null,
   "metadata": {},
   "outputs": [],
   "source": [
    "%cd renku-tutorial-flights"
   ]
  },
  {
   "cell_type": "markdown",
   "metadata": {},
   "source": [
    "Normally, we would improve the code in our notebook, but this is a tutorial on Renku, not on pandas, so we will fast-forward through that part of the process and continue from there."
   ]
  },
  {
   "cell_type": "code",
   "execution_count": null,
   "metadata": {},
   "outputs": [],
   "source": [
    "%cp ../templates/01-Preprocess-02-improved.ipynb ./notebooks/01-Preprocess.ipynb "
   ]
  },
  {
   "cell_type": "markdown",
   "metadata": {},
   "source": [
    "## Look at changes to notebook\n",
    "\n",
    "Run through the new [01-Preprocess.ipynb ](renku-tutorial-flights/notebooks/01-Preprocess.ipynb) to see what has changed there. Come back here when done with that."
   ]
  },
  {
   "cell_type": "markdown",
   "metadata": {},
   "source": [
    "### Resolve the dirty repository state\n",
    "\n",
    "Now that we have improved the preprocessing. Let us re-run it with papermill. Again, we need to ensure the working directory is clean."
   ]
  },
  {
   "cell_type": "code",
   "execution_count": null,
   "metadata": {},
   "outputs": [],
   "source": [
    "!git status"
   ]
  },
  {
   "cell_type": "markdown",
   "metadata": {},
   "source": [
    "We updated a notebook. Let us put it into git and make a commit."
   ]
  },
  {
   "cell_type": "code",
   "execution_count": null,
   "metadata": {},
   "outputs": [],
   "source": [
    "!git add notebooks/01-Preprocess.ipynb \n",
    "!git commit -m\"Fixed problems extracting delay durations.\""
   ]
  },
  {
   "cell_type": "code",
   "execution_count": null,
   "metadata": {},
   "outputs": [],
   "source": [
    "!git status"
   ]
  },
  {
   "cell_type": "markdown",
   "metadata": {},
   "source": [
    "<div style=\"color: #004085; background-color: #cce5ff; border-color: #b8daff; padding: .75rem 1.25rem; margin-bottom: 1rem; border: 1px solid transparent; border-radius: .25rem; font-size: larger;\">\n",
    "Let's pause for a second and reflect on where we are...\n",
    "</div>\n",
    "\n",
    "We read in some data, processed it, and worked with the processed data. Now we want to change the initial processing. \n",
    "- How do you know what is downstream of the processed data?\n",
    "- How do you know how to update all downstream consumers of the data?\n",
    "\n",
    "**With renku, we can just ask the system.**"
   ]
  },
  {
   "cell_type": "code",
   "execution_count": null,
   "metadata": {},
   "outputs": [],
   "source": [
    "!renku status"
   ]
  },
  {
   "cell_type": "markdown",
   "metadata": {},
   "source": [
    "And we can ask renku to update everything."
   ]
  },
  {
   "cell_type": "code",
   "execution_count": null,
   "metadata": {},
   "outputs": [],
   "source": [
    "!renku update"
   ]
  },
  {
   "cell_type": "markdown",
   "metadata": {},
   "source": [
    "<div style=\"color: #155724; background-color: #d4edda; border-color: #c3e6cb; padding: .75rem 1.25rem; margin-bottom: 1rem; border: 1px solid transparent; border-radius: .25rem; font-size: larger;\">\n",
    "Wasn't that easy!?\n",
    "</div>"
   ]
  },
  {
   "cell_type": "markdown",
   "metadata": {},
   "source": [
    "## Inspecting the results\n",
    "\n",
    "Let us look at [2019-01-flights-delay-fivenums.csv](renku-tutorial-flights/data/output/2019-01-flights-delay-fivenums.csv) to see if the problem has been fixed."
   ]
  },
  {
   "cell_type": "code",
   "execution_count": null,
   "metadata": {},
   "outputs": [],
   "source": [
    "!git diff HEAD^ data/output/2019-01-flights-delay-fivenums.csv"
   ]
  },
  {
   "cell_type": "markdown",
   "metadata": {},
   "source": [
    "We can also look at the notebook [02-Inspection.ran.ipynb](renku-tutorial-flights/notebooks/02-Inspection.ran.ipynb) to see the new boxplot."
   ]
  },
  {
   "cell_type": "markdown",
   "metadata": {},
   "source": [
    "Alas, it has not been fixed."
   ]
  },
  {
   "cell_type": "markdown",
   "metadata": {},
   "source": [
    "# Fixing the problem at the source\n",
    "\n",
    "Let us take a different approach. Instead of trying to compute the delay, let us go back to the Bureau of Transportation Statistics and use a data series that includes the delay as part of the data."
   ]
  },
  {
   "cell_type": "code",
   "execution_count": null,
   "metadata": {},
   "outputs": [],
   "source": [
    "%%bash\n",
    "# Download an improved version of the data we will work with and add it to a dataset\n",
    "curl -L -o ./data/flights/2019-01-flights.csv.zip https://renkulab.io/gitlab/cramakri/renku-tutorial-flights-data/blob/master/data/v2/2019-01-flights.csv.zip"
   ]
  },
  {
   "cell_type": "code",
   "execution_count": null,
   "metadata": {},
   "outputs": [],
   "source": [
    "%cp ../templates/01-Preprocess-03-fixed.ipynb ./notebooks/01-Preprocess.ipynb"
   ]
  },
  {
   "cell_type": "markdown",
   "metadata": {},
   "source": [
    "## Running through the fix\n",
    "\n",
    "Open [01-Preprocess.ipynb](renku-tutorial-flights/notebooks/01-Preprocess.ipynb) and run through the notebook to see how it was changed to adapt to the new data."
   ]
  },
  {
   "cell_type": "markdown",
   "metadata": {},
   "source": [
    "Now that we fixed the data and the processing, let us see what is in git."
   ]
  },
  {
   "cell_type": "code",
   "execution_count": null,
   "metadata": {},
   "outputs": [],
   "source": [
    "!git status"
   ]
  },
  {
   "cell_type": "code",
   "execution_count": null,
   "metadata": {},
   "outputs": [],
   "source": [
    "!git add data/flights/2019-01-flights.csv.zip\n",
    "!git add notebooks/01-Preprocess.ipynb\n",
    "!git commit -m\"New way of computing delays -- use BTS data directly.\""
   ]
  },
  {
   "cell_type": "markdown",
   "metadata": {},
   "source": [
    "<div style=\"color: #004085; background-color: #cce5ff; border-color: #b8daff; padding: .75rem 1.25rem; margin-bottom: 1rem; border: 1px solid transparent; border-radius: .25rem; font-size: larger;\">\n",
    "Again, we have made a change to data and code in the pipeline. How do we get everything up-to-date?\n",
    "</div>\n"
   ]
  },
  {
   "cell_type": "code",
   "execution_count": null,
   "metadata": {},
   "outputs": [],
   "source": [
    "!renku status"
   ]
  },
  {
   "cell_type": "code",
   "execution_count": null,
   "metadata": {},
   "outputs": [],
   "source": [
    "!renku update"
   ]
  },
  {
   "cell_type": "markdown",
   "metadata": {},
   "source": [
    "Let us take a look at [02-Inspection.ran.ipynb](renku-tutorial-flights/notebooks/02-Inspection.ran.ipynb) again. That looks much better! \n",
    "\n",
    "So does the five-number summary."
   ]
  },
  {
   "cell_type": "code",
   "execution_count": null,
   "metadata": {},
   "outputs": [],
   "source": [
    "!git diff HEAD^ data/output/2019-01-flights-delay-fivenums.csv"
   ]
  },
  {
   "cell_type": "markdown",
   "metadata": {},
   "source": [
    "# Answering the questions\n",
    "\n",
    "A notebook has been prepared to compute the mean delay time to flights to Austin."
   ]
  },
  {
   "cell_type": "code",
   "execution_count": null,
   "metadata": {},
   "outputs": [],
   "source": [
    "%cp ../templates/03-Analysis.ipynb ./notebooks/03-Analysis.ipynb"
   ]
  },
  {
   "cell_type": "markdown",
   "metadata": {},
   "source": [
    "## Exercise 2\n",
    "\n",
    "Run through the notebook above. Then run it in papermill. Are flights generally on time?"
   ]
  },
  {
   "cell_type": "code",
   "execution_count": null,
   "metadata": {},
   "outputs": [],
   "source": [
    "# %load ../solutions/ex2.fragment"
   ]
  },
  {
   "cell_type": "markdown",
   "metadata": {},
   "source": [
    "## Exercise 3\n",
    "\n",
    "Modify the notebook to compute delay time by city. Are there differences between cities? Update the results with your new code."
   ]
  },
  {
   "cell_type": "code",
   "execution_count": null,
   "metadata": {},
   "outputs": [],
   "source": []
  }
 ],
 "metadata": {
  "kernelspec": {
   "display_name": "Python 3",
   "language": "python",
   "name": "python3"
  },
  "language_info": {
   "codemirror_mode": {
    "name": "ipython",
    "version": 3
   },
   "file_extension": ".py",
   "mimetype": "text/x-python",
   "name": "python",
   "nbconvert_exporter": "python",
   "pygments_lexer": "ipython3",
   "version": "3.7.3"
  }
 },
 "nbformat": 4,
 "nbformat_minor": 2
}
