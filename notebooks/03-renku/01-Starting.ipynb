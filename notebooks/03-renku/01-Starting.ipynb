{
 "cells": [
  {
   "cell_type": "code",
   "execution_count": 81,{
 "cells": [
  {
   "cell_type": "code",
   "execution_count": 81,
   "metadata": {},
   "outputs": [],
   "source": [
    "from IPython.display import SVG"
   ]
  },
  {
   "cell_type": "markdown",
   "metadata": {},
   "source": [
    "# Starting a Renku project"
   ]
  },
  {
   "cell_type": "markdown",
   "metadata": {},
   "source": [
    "### Pre-Setup\n",
    "\n",
    "Make sure your git environment is correctly configured with a username and email."
   ]
  },
  {
   "cell_type": "code",
   "execution_count": 2,
   "metadata": {},
   "outputs": [
    {
     "name": "stdout",
     "output_type": "stream",
     "text": [
      "Chandrasekhar Ramakrishnan\n",
      "cramakri@ethz.ch\n"
     ]
    }
   ],
   "source": [
    "!git config --global user.name\n",
    "!git config --global user.email"
   ]
  },
  {
   "cell_type": "code",
   "execution_count": 3,
   "metadata": {},
   "outputs": [],
   "source": [
    "# If the above does not print anything, set a username and email:\n",
    "#!git config --global --add user.name \"John Doe\"\n",
    "#!git config --global --add user.email \"john.doe@example.com\""
   ]
  },
  {
   "cell_type": "markdown",
   "metadata": {},
   "source": [
    "## Outline\n",
    "\n",
    "<table class=\"table table-striped\" style=\"font-size: 18px; margin: 10px;\">\n",
    "    <thead>\n",
    "        <tr>\n",
    "            <td>Renku</td>\n",
    "            <td>Pandas</td>\n",
    "        </tr>\n",
    "    <thead>\n",
    "    <tbody>\n",
    "        <tr>\n",
    "            <td style=\"font-weight: bold\">Create repository</td>\n",
    "            <td></td>\n",
    "        </tr>\n",
    "        <tr>\n",
    "            <td>Declare environment</td>\n",
    "            <td></td>\n",
    "        </tr>\n",
    "        <tr>\n",
    "            <td>Import data</td>\n",
    "            <td></td>\n",
    "        </tr>\n",
    "        <tr>\n",
    "            <td></td>\n",
    "            <td>Inspect and preprocess data</td>\n",
    "        </tr>\n",
    "        <tr>\n",
    "            <td></td>\n",
    "            <td>Verify preprocessing</td>\n",
    "        </tr>        \n",
    "     </tbody>\n",
    "</table>"
   ]
  },
  {
   "cell_type": "markdown",
   "metadata": {},
   "source": [
    "# Creating a repository\n",
    "\n",
    "The first thing to do when starting a project is to initialize a repository. A Renku repository is just a git repository with a little bit of extra structure. "
   ]
  },
  {
   "cell_type": "code",
   "execution_count": 4,
   "metadata": {},
   "outputs": [
    {
     "name": "stdout",
     "output_type": "stream",
     "text": [
      "Initialized empty project in /Users/ciyer/Documents/sdsc/repos/r10e-ds-py/notebooks/03-renku/renku-tutorial-flights\n"
     ]
    }
   ],
   "source": [
    "!renku init renku-tutorial-flights"
   ]
  },
  {
   "cell_type": "markdown",
   "metadata": {},
   "source": [
    "Let is take a look at what's inside the renku repository"
   ]
  },
  {
   "cell_type": "code",
   "execution_count": 5,
   "metadata": {},
   "outputs": [
    {
     "name": "stdout",
     "output_type": "stream",
     "text": [
      "total 8\n",
      "-rw-r--r--  1 ciyer  staff  305 Jul  4 16:58 Dockerfile\n",
      "-rw-r--r--  1 ciyer  staff    0 Jul  4 16:58 requirements.txt\n"
     ]
    }
   ],
   "source": [
    "%ls -l renku-tutorial-flights"
   ]
  },
  {
   "cell_type": "markdown",
   "metadata": {},
   "source": [
    "Renku creates a git repository and generates two files: \n",
    "- `Dockerfile` \n",
    "- `requirements.txt`\n",
    "\n",
    "We will take a look at the Dockerfile when we share our project. The `requirements.txt` file is empty and there as a shell. In a minute, we will create fill it out."
   ]
  },
  {
   "cell_type": "markdown",
   "metadata": {},
   "source": [
    "## Housekeeping\n",
    "\n",
    "For the rest of the tutorial, we will work in the renku repository."
   ]
  },
  {
   "cell_type": "code",
   "execution_count": 6,
   "metadata": {},
   "outputs": [
    {
     "name": "stdout",
     "output_type": "stream",
     "text": [
      "/Users/ciyer/Documents/sdsc/repos/r10e-ds-py/notebooks/03-renku/renku-tutorial-flights\n"
     ]
    }
   ],
   "source": [
    "%cd renku-tutorial-flights"
   ]
  },
  {
   "cell_type": "markdown",
   "metadata": {},
   "source": [
    "We also set up some git configuration for this tutorial."
   ]
  },
  {
   "cell_type": "code",
   "execution_count": 7,
   "metadata": {},
   "outputs": [],
   "source": [
    "# Workaround for https://github.com/SwissDataScienceCenter/renku-python/issues/579 to diff text in lfs\n",
    "!git config diff.lfs.textconv cat"
   ]
  },
  {
   "cell_type": "markdown",
   "metadata": {},
   "source": [
    "## Declaring the environment\n",
    "\n",
    "<table class=\"table table-striped\" style=\"font-size: 18px; margin: 10px;\">\n",
    "    <thead>\n",
    "        <tr>\n",
    "            <td>Renku</td>\n",
    "            <td>Pandas</td>\n",
    "        </tr>\n",
    "    <thead>\n",
    "    <tbody>\n",
    "        <tr>\n",
    "            <td>Create repository &#10004;</td>\n",
    "            <td></td>\n",
    "        </tr>\n",
    "        <tr>\n",
    "            <td style=\"font-weight: bold\">Declare environment</td>\n",
    "            <td></td>\n",
    "        </tr>\n",
    "        <tr>\n",
    "            <td>Import data</td>\n",
    "            <td></td>\n",
    "        </tr>\n",
    "        <tr>\n",
    "            <td></td>\n",
    "            <td>Inspect and preprocess data</td>\n",
    "        </tr>\n",
    "        <tr>\n",
    "            <td></td>\n",
    "            <td>Verify preprocessing</td>\n",
    "        </tr>        \n",
    "     </tbody>\n",
    "</table>\n",
    "\n",
    "To make the project reproducible, we need to declare the environment it runs in. We will be working with pandas, numpy, scipy, matplotlib, and seaborn, so let us create a requirements.txt file that makes this explicit."
   ]
  },
  {
   "cell_type": "code",
   "execution_count": 8,
   "metadata": {},
   "outputs": [],
   "source": [
    "# Normally, you would write a requirements file, but we have one ready here\n",
    "%cp ../templates/requirements.txt ./"
   ]
  },
  {
   "cell_type": "markdown",
   "metadata": {},
   "source": [
    "As we work, we to track the process. Some of this information is kept in git. For example, the fact that we have filled out the requirements.txt file."
   ]
  },
  {
   "cell_type": "code",
   "execution_count": 10,
   "metadata": {},
   "outputs": [
    {
     "name": "stdout",
     "output_type": "stream",
     "text": [
      "On branch master\n",
      "Changes not staged for commit:\n",
      "  (use \"git add <file>...\" to update what will be committed)\n",
      "  (use \"git checkout -- <file>...\" to discard changes in working directory)\n",
      "\n",
      "\t\u001b[31mmodified:   requirements.txt\u001b[m\n",
      "\n",
      "no changes added to commit (use \"git add\" and/or \"git commit -a\")\n"
     ]
    }
   ],
   "source": [
    "!git status"
   ]
  },
  {
   "cell_type": "markdown",
   "metadata": {},
   "source": [
    "Let us tell git about the requirements.txt file."
   ]
  },
  {
   "cell_type": "code",
   "execution_count": 11,
   "metadata": {},
   "outputs": [
    {
     "name": "stdout",
     "output_type": "stream",
     "text": [
      "[master f95aaf3] Declare the python environment for the project.\n",
      " 1 file changed, 5 insertions(+)\n"
     ]
    }
   ],
   "source": [
    "!git add requirements.txt\n",
    "!git commit -m\"Declare the python environment for the project.\""
   ]
  },
  {
   "cell_type": "markdown",
   "metadata": {},
   "source": [
    "## Importing data\n",
    "\n",
    "\n",
    "<table class=\"table table-striped\" style=\"font-size: 18px; margin: 10px;\">\n",
    "    <thead>\n",
    "        <tr>\n",
    "            <td>Renku</td>\n",
    "            <td>Pandas</td>\n",
    "        </tr>\n",
    "    <thead>\n",
    "    <tbody>\n",
    "        <tr>\n",
    "            <td>Create repository &#10004;</td>\n",
    "            <td></td>\n",
    "        </tr>\n",
    "        <tr>\n",
    "            <td>Declare environment &#10004;</td>\n",
    "            <td></td>\n",
    "        </tr>\n",
    "        <tr>\n",
    "            <td style=\"font-weight: bold\">Import data</td>\n",
    "            <td></td>\n",
    "        </tr>\n",
    "        <tr>\n",
    "            <td></td>\n",
    "            <td>Inspect and preprocess data</td>\n",
    "        </tr>\n",
    "        <tr>\n",
    "            <td></td>\n",
    "            <td>Verify preprocessing</td>\n",
    "        </tr>        \n",
    "     </tbody>\n",
    "</table>\n",
    "\n",
    "There are several ways renku can import data. Renku can import data from a data repository such as [Zenodo](https://zenodo.org), another renku or git repository, from a file on the file system, or from a URL. We will use  the last of these options."
   ]
  },
  {
   "cell_type": "markdown",
   "metadata": {},
   "source": [
    "### Create a dataset\n",
    "\n",
    "First, we will create a dataset which will group together the files we want to work with."
   ]
  },
  {
   "cell_type": "code",
   "execution_count": 12,
   "metadata": {},
   "outputs": [
    {
     "name": "stdout",
     "output_type": "stream",
     "text": [
      "Creating a dataset ... \u001b[32mOK\u001b[0m\n"
     ]
    }
   ],
   "source": [
    "!renku dataset create flights"
   ]
  },
  {
   "cell_type": "markdown",
   "metadata": {},
   "source": [
    "### Add data\n",
    "\n",
    "And we will get some data and add it to the dataset."
   ]
  },
  {
   "cell_type": "code",
   "execution_count": 25,
   "metadata": {},
   "outputs": [
    {
     "name": "stdout",
     "output_type": "stream",
     "text": [
      "\u001b[31m\u001b[1mAhhhhhhhh! You have found a bug. 🐞\n",
      "\n",
      "\u001b[0m\u001b[32m1. Open an issue by typing \"open\";\n",
      "\u001b[0m\u001b[33m2. Print human-readable information by typing \"print\";\n",
      "\u001b[0m\u001b[31m3. See the full traceback without submitting details (default: \"ignore\").\n",
      "\n",
      "\u001b[0mPlease select an action by typing its name (open, print, ignore) [ignore]: ^C\n",
      "Traceback (most recent call last):\n",
      "  File \"/Users/ciyer/Applications/miniconda3/envs/r10eds/lib/python3.7/site-packages/urllib3/connection.py\", line 160, in _new_conn\n",
      "    (self._dns_host, self.port), self.timeout, **extra_kw)\n",
      "  File \"/Users/ciyer/Applications/miniconda3/envs/r10eds/lib/python3.7/site-packages/urllib3/util/connection.py\", line 57, in create_connection\n",
      "    for res in socket.getaddrinfo(host, port, family, socket.SOCK_STREAM):\n",
      "  File \"/Users/ciyer/Applications/miniconda3/envs/r10eds/lib/python3.7/socket.py\", line 748, in getaddrinfo\n",
      "    for res in _socket.getaddrinfo(host, port, family, type, proto, flags):\n",
      "socket.gaierror: [Errno 8] nodename nor servname provided, or not known\n",
      "\n",
      "During handling of the above exception, another exception occurred:\n",
      "\n",
      "Traceback (most recent call last):\n",
      "  File \"/Users/ciyer/Applications/miniconda3/envs/r10eds/lib/python3.7/site-packages/urllib3/connectionpool.py\", line 603, in urlopen\n",
      "    chunked=chunked)\n",
      "  File \"/Users/ciyer/Applications/miniconda3/envs/r10eds/lib/python3.7/site-packages/urllib3/connectionpool.py\", line 344, in _make_request\n",
      "    self._validate_conn(conn)\n",
      "  File \"/Users/ciyer/Applications/miniconda3/envs/r10eds/lib/python3.7/site-packages/urllib3/connectionpool.py\", line 843, in _validate_conn\n",
      "    conn.connect()\n",
      "  File \"/Users/ciyer/Applications/miniconda3/envs/r10eds/lib/python3.7/site-packages/urllib3/connection.py\", line 305, in connect\n",
      "    conn = self._new_conn()\n",
      "  File \"/Users/ciyer/Applications/miniconda3/envs/r10eds/lib/python3.7/site-packages/urllib3/connection.py\", line 169, in _new_conn\n",
      "    self, \"Failed to establish a new connection: %s\" % e)\n",
      "urllib3.exceptions.NewConnectionError: <urllib3.connection.VerifiedHTTPSConnection object at 0x107290f60>: Failed to establish a new connection: [Errno 8] nodename nor servname provided, or not known\n",
      "\n",
      "During handling of the above exception, another exception occurred:\n",
      "\n",
      "Traceback (most recent call last):\n",
      "  File \"/Users/ciyer/Applications/miniconda3/envs/r10eds/lib/python3.7/site-packages/requests/adapters.py\", line 449, in send\n",
      "    timeout=timeout\n",
      "  File \"/Users/ciyer/Applications/miniconda3/envs/r10eds/lib/python3.7/site-packages/urllib3/connectionpool.py\", line 641, in urlopen\n",
      "    _stacktrace=sys.exc_info()[2])\n",
      "  File \"/Users/ciyer/Applications/miniconda3/envs/r10eds/lib/python3.7/site-packages/urllib3/util/retry.py\", line 399, in increment\n",
      "    raise MaxRetryError(_pool, url, error or ResponseError(cause))\n",
      "urllib3.exceptions.MaxRetryError: HTTPSConnectionPool(host='renkulahttps', port=443): Max retries exceeded with url: //renkulab.io/gitlab/cramakri/renku-tutorial-flights-data-raw/raw/master/data/v1/2019-01-flights.csv.zip (Caused by NewConnectionError('<urllib3.connection.VerifiedHTTPSConnection object at 0x107290f60>: Failed to establish a new connection: [Errno 8] nodename nor servname provided, or not known'))\n",
      "\n",
      "During handling of the above exception, another exception occurred:\n",
      "\n",
      "Traceback (most recent call last):\n",
      "  File \"/Users/ciyer/Applications/miniconda3/envs/r10eds/lib/python3.7/site-packages/renku/cli/_exc.py\", line 100, in main\n",
      "    result = super().main(*args, **kwargs)\n",
      "  File \"/Users/ciyer/Applications/miniconda3/envs/r10eds/lib/python3.7/site-packages/click/core.py\", line 717, in main\n",
      "    rv = self.invoke(ctx)\n",
      "  File \"/Users/ciyer/Applications/miniconda3/envs/r10eds/lib/python3.7/site-packages/click/core.py\", line 1137, in invoke\n",
      "    return _process_result(sub_ctx.command.invoke(sub_ctx))\n",
      "  File \"/Users/ciyer/Applications/miniconda3/envs/r10eds/lib/python3.7/site-packages/click/core.py\", line 1137, in invoke\n",
      "    return _process_result(sub_ctx.command.invoke(sub_ctx))\n",
      "  File \"/Users/ciyer/Applications/miniconda3/envs/r10eds/lib/python3.7/site-packages/click/core.py\", line 956, in invoke\n",
      "    return ctx.invoke(self.callback, **ctx.params)\n",
      "  File \"/Users/ciyer/Applications/miniconda3/envs/r10eds/lib/python3.7/site-packages/click/core.py\", line 555, in invoke\n",
      "    return callback(*args, **kwargs)\n",
      "  File \"/Users/ciyer/Applications/miniconda3/envs/r10eds/lib/python3.7/site-packages/renku/cli/_client.py\", line 80, in new_func\n",
      "    result = ctx.invoke(method, client, *args, **kwargs)\n",
      "  File \"/Users/ciyer/Applications/miniconda3/envs/r10eds/lib/python3.7/site-packages/click/core.py\", line 555, in invoke\n",
      "    return callback(*args, **kwargs)\n",
      "  File \"/Users/ciyer/Applications/miniconda3/envs/r10eds/lib/python3.7/site-packages/renku/cli/dataset.py\", line 235, in add\n",
      "    force=force,\n",
      "  File \"/Users/ciyer/Applications/miniconda3/envs/r10eds/lib/python3.7/site-packages/renku/api/datasets.py\", line 167, in add_data_to_dataset\n",
      "    files = self._add_from_url(dataset, dataset_path, url, **kwargs)\n",
      "  File \"/Users/ciyer/Applications/miniconda3/envs/r10eds/lib/python3.7/site-packages/renku/api/datasets.py\", line 244, in _add_from_url\n",
      "    response = requests.get(url)\n",
      "  File \"/Users/ciyer/Applications/miniconda3/envs/r10eds/lib/python3.7/site-packages/requests/api.py\", line 75, in get\n",
      "    return request('get', url, params=params, **kwargs)\n",
      "  File \"/Users/ciyer/Applications/miniconda3/envs/r10eds/lib/python3.7/site-packages/requests/api.py\", line 60, in request\n",
      "    return session.request(method=method, url=url, **kwargs)\n",
      "  File \"/Users/ciyer/Applications/miniconda3/envs/r10eds/lib/python3.7/site-packages/requests/sessions.py\", line 533, in request\n",
      "    resp = self.send(prep, **send_kwargs)\n",
      "  File \"/Users/ciyer/Applications/miniconda3/envs/r10eds/lib/python3.7/site-packages/requests/sessions.py\", line 646, in send\n",
      "    r = adapter.send(request, **kwargs)\n",
      "  File \"/Users/ciyer/Applications/miniconda3/envs/r10eds/lib/python3.7/site-packages/requests/adapters.py\", line 516, in send\n",
      "    raise ConnectionError(e, request=request)\n",
      "requests.exceptions.ConnectionError: HTTPSConnectionPool(host='renkulahttps', port=443): Max retries exceeded with url: //renkulab.io/gitlab/cramakri/renku-tutorial-flights-data-raw/raw/master/data/v1/2019-01-flights.csv.zip (Caused by NewConnectionError('<urllib3.connection.VerifiedHTTPSConnection object at 0x107290f60>: Failed to establish a new connection: [Errno 8] nodename nor servname provided, or not known'))\n",
      "\n",
      "During handling of the above exception, another exception occurred:\n",
      "\n",
      "Traceback (most recent call last):\n",
      "  File \"/Users/ciyer/Applications/miniconda3/envs/r10eds/lib/python3.7/site-packages/click/termui.py\", line 100, in prompt_func\n",
      "    return f('')\n",
      "KeyboardInterrupt\n",
      "\n",
      "During handling of the above exception, another exception occurred:\n",
      "\n",
      "Traceback (most recent call last):\n",
      "  File \"/Users/ciyer/Applications/miniconda3/envs/r10eds/bin/renku\", line 10, in <module>\n",
      "    sys.exit(cli())\n",
      "  File \"/Users/ciyer/Applications/miniconda3/envs/r10eds/lib/python3.7/site-packages/click/core.py\", line 764, in __call__\n",
      "    return self.main(*args, **kwargs)\n",
      "  File \"/Users/ciyer/Applications/miniconda3/envs/r10eds/lib/python3.7/site-packages/renku/cli/_exc.py\", line 109, in main\n",
      "    self._handle_github()\n",
      "  File \"/Users/ciyer/Applications/miniconda3/envs/r10eds/lib/python3.7/site-packages/renku/cli/_exc.py\", line 153, in _handle_github\n",
      "    default='ignore',\n",
      "  File \"/Users/ciyer/Applications/miniconda3/envs/r10eds/lib/python3.7/site-packages/click/termui.py\", line 116, in prompt\n",
      "    value = prompt_func(prompt)\n",
      "  File \"/Users/ciyer/Applications/miniconda3/envs/r10eds/lib/python3.7/site-packages/click/termui.py\", line 107, in prompt_func\n",
      "    raise Abort()\n",
      "click.exceptions.Abort\n"
     ]
    }
   ],
   "source": [
    "!renku dataset add flights !renku dataset add flights https://renkulab.io/gitlab/cramakri/renku-tutorial-flights-data-raw/raw/master/data/v1/2019-01-flights.csv.ziphttps://renkulab.io/gitlab/cramakri/renku-tutorial-flights-data-raw/raw/master/data/v1/2019-01-flights.csv.zip"
   ]
  },
  {
   "cell_type": "markdown",
   "metadata": {},
   "source": [
    "This copies the data into the folder for the flights dataset."
   ]
  },
  {
   "cell_type": "markdown",
   "metadata": {},
   "source": [
    "### Inspecting a dataset\n",
    "\n",
    "Let's take a look at the dataset."
   ]
  },
  {
   "cell_type": "code",
   "execution_count": 27,
   "metadata": {},
   "outputs": [
    {
     "name": "stdout",
     "output_type": "stream",
     "text": [
      "ADDED                AUTHORS                     DATASET    PATH\n",
      "-------------------  --------------------------  ---------  ---------------------------------------------------------------------------------------------------------------------------\n",
      "2019-07-04 19:08:32  Chandrasekhar Ramakrishnan  flights    /Users/ciyer/Documents/sdsc/repos/r10e-ds-py/notebooks/03-renku/renku-tutorial-flights/data/flights/2019-01-flights.csv.zip\n"
     ]
    }
   ],
   "source": [
    "!renku dataset ls-files flights"
   ]
  },
  {
   "cell_type": "markdown",
   "metadata": {},
   "source": [
    "# Data science: Inspect and preprocess data\n",
    "\n",
    "<table class=\"table table-striped\" style=\"font-size: 18px; margin: 10px;\">\n",
    "    <thead>\n",
    "        <tr>\n",
    "            <td>Renku</td>\n",
    "            <td>Pandas</td>\n",
    "        </tr>\n",
    "    <thead>\n",
    "    <tbody>\n",
    "        <tr>\n",
    "            <td>Create repository &#10004;</td>\n",
    "            <td></td>\n",
    "        </tr>\n",
    "        <tr>\n",
    "            <td>Declare environment &#10004;</td>\n",
    "            <td></td>\n",
    "        </tr>\n",
    "        <tr>\n",
    "            <td>Import data &#10004;</td>\n",
    "            <td></td>\n",
    "        </tr>\n",
    "        <tr>\n",
    "            <td></td>\n",
    "            <td style=\"font-weight: bold\">Inspect and preprocess data</td>\n",
    "        </tr>\n",
    "        <tr>\n",
    "            <td></td>\n",
    "            <td>Verify preprocessing</td>\n",
    "        </tr>        \n",
    "     </tbody>\n",
    "</table>"
   ]
  },
  {
   "cell_type": "markdown",
   "metadata": {},
   "source": [
    "There are notebooks prepared in the templates folder. One of these notebooks will get us started with reading in and preprocessing the data."
   ]
  },
  {
   "cell_type": "code",
   "execution_count": 16,
   "metadata": {},
   "outputs": [],
   "source": [
    "%mkdir notebooks\n",
    "%cp ../templates/01-Preprocess-00.ipynb ./notebooks/01-Preprocess.ipynb"
   ]
  },
  {
   "cell_type": "markdown",
   "metadata": {},
   "source": [
    "## Inspect data\n",
    "\n",
    "In the data we have **flight date**, **scheduled arrival time** and **actual arrival time**. To compute delay, we need to take the difference between actual arrival time and scheduled arrival time. To complicate matters, the arrival times are not stored as time, but as integer in the format 'HHMM'."
   ]
  },
  {
   "cell_type": "markdown",
   "metadata": {},
   "source": [
    "### Run through the notebook\n",
    "Open [01-Preprocess.ipynb](renku-tutorial-flights/notebooks/01-Preprocess.ipynb) and run through the '01-Preprocess.ipynb' notebook. When done, return to this notebook to continue."
   ]
  },
  {
   "cell_type": "markdown",
   "metadata": {},
   "source": [
    "## Preprocess data\n",
    "\n",
    "The data looks good. We want to save the output as a file. We could just save the file in the notebook, but then we have not recorded what input and processing were used to produce an output.\n",
    "\n",
    "Instead, we can use the tool **papermill** which runs Jupyter notebooks in a reproducible way. To do this, we need to convert the notebook into one that is papermill compatible and then run it with papermill."
   ]
  },
  {
   "cell_type": "markdown",
   "metadata": {},
   "source": [
    "### Modify the notebook to use papermill\n",
    "\n",
    "Converting the notebook to be papermill compatible is done by creating a cell that initializes all the values we want to use as parameters and converting the code to use these parameters. The cell needs to be tagged as a parameters cell. This is done by editing the cell metadata and adding the following:\n",
    "```\n",
    "{\n",
    "    \"tags\": [\n",
    "        \"parameters\"\n",
    "    ]\n",
    "}\n",
    "```"
   ]
  },
  {
   "cell_type": "code",
   "execution_count": 17,
   "metadata": {},
   "outputs": [],
   "source": [
    "# Update the notebook to a version with parameters\n",
    "%cp ../templates/01-Preprocess-01-papermill.ipynb ./notebooks/01-Preprocess.ipynb "
   ]
  },
  {
   "cell_type": "markdown",
   "metadata": {},
   "source": [
    "### Resolve the dirty repository state\n",
    "\n",
    "Renku uses information from git to determine the output of a program. For this to work, the working directory needs to be clean (without modifications)."
   ]
  },
  {
   "cell_type": "code",
   "execution_count": 28,
   "metadata": {},
   "outputs": [
    {
     "name": "stdout",
     "output_type": "stream",
     "text": [
      "On branch master\n",
      "nothing to commit, working tree clean\n"
     ]
    }
   ],
   "source": [
    "!git status"
   ]
  },
  {
   "cell_type": "markdown",
   "metadata": {},
   "source": [
    "We added a notebook. Let us put it into git and make a commit. *Remember to make a useful commit message!*"
   ]
  },
  {
   "cell_type": "code",
   "execution_count": 19,
   "metadata": {},
   "outputs": [
    {
     "name": "stdout",
     "output_type": "stream",
     "text": [
      "[master f40b885] Initial data inspection and processing\n",
      " 1 file changed, 309 insertions(+)\n",
      " create mode 100644 notebooks/01-Preprocess.ipynb\n"
     ]
    }
   ],
   "source": [
    "!git add notebooks\n",
    "!git commit -m\"Initial data inspection and processing\""
   ]
  },
  {
   "cell_type": "code",
   "execution_count": 20,
   "metadata": {},
   "outputs": [
    {
     "name": "stdout",
     "output_type": "stream",
     "text": [
      "On branch master\n",
      "nothing to commit, working tree clean\n"
     ]
    }
   ],
   "source": [
    "!git status"
   ]
  },
  {
   "cell_type": "markdown",
   "metadata": {},
   "source": [
    "Now we can run the notebook with papermill"
   ]
  },
  {
   "cell_type": "markdown",
   "metadata": {},
   "source": [
    "## Reproducible notebook run"
   ]
  },
  {
   "cell_type": "code",
   "execution_count": 29,
   "metadata": {},
   "outputs": [
    {
     "name": "stderr",
     "output_type": "stream",
     "text": [
      "Input Notebook:  notebooks/01-Preprocess.ipynb\n",
      "Output Notebook: notebooks/01-Preprocess.ran.ipynb\n",
      "100%|██████████| 29/29 [00:32<00:00,  2.14s/it]\n"
     ]
    }
   ],
   "source": [
    "%%bash\n",
    "mkdir -p data/output\n",
    "renku run papermill \\\n",
    "  -p input_path data/flights/2019-01-flights.csv.zip \\\n",
    "  -p output_path data/output/2019-01-flights-preprocessed.csv \\\n",
    "  notebooks/01-Preprocess.ipynb \\\n",
    "  notebooks/01-Preprocess.ran.ipynb"
   ]
  },
  {
   "cell_type": "markdown",
   "metadata": {},
   "source": [
    "Let's take a look at how things look from the renku perspective."
   ]
  },
  {
   "cell_type": "code",
   "execution_count": 30,
   "metadata": {},
   "outputs": [
    {
     "name": "stdout",
     "output_type": "stream",
     "text": [
      "On branch master\n",
      "nothing to commit, working tree clean\n"
     ]
    }
   ],
   "source": [
    "!git status"
   ]
  },
  {
   "cell_type": "code",
   "execution_count": 31,
   "metadata": {},
   "outputs": [
    {
     "name": "stdout",
     "output_type": "stream",
     "text": [
      "On branch master\n",
      "\u001b[32mAll files were generated from the latest inputs.\u001b[0m\n"
     ]
    }
   ],
   "source": [
    "!renku status"
   ]
  },
  {
   "cell_type": "code",
   "execution_count": 80,
   "metadata": {},
   "outputs": [
    {
     "data": {
      "image/svg+xml": [
       "<svg height=\"216pt\" viewBox=\"0.00 0.00 1302.41 216.00\" width=\"1302pt\" xmlns=\"http://www.w3.org/2000/svg\" xmlns:xlink=\"http://www.w3.org/1999/xlink\">\n",
       "<g class=\"graph\" id=\"graph0\" transform=\"scale(1 1) rotate(0) translate(4 212)\">\n",
       "<title>%3</title>\n",
       "<polygon fill=\"#ffffff\" points=\"-4,4 -4,-212 1298.4092,-212 1298.4092,4 -4,4\" stroke=\"transparent\"/>\n",
       "<!-- f40b8:/notebooks/01&#45;Preprocess.ipynb -->\n",
       "<g class=\"node\" id=\"node1\">\n",
       "<title>f40b8:/notebooks/01-Preprocess.ipynb</title>\n",
       "<ellipse cx=\"467.2046\" cy=\"-190\" fill=\"none\" rx=\"166.3872\" ry=\"18\" stroke=\"#000000\"/>\n",
       "<text fill=\"#000000\" font-family=\"DejaVu Sans\" font-size=\"14.00\" text-anchor=\"middle\" x=\"467.2046\" y=\"-185.8\">#f40b8:/notebooks/01-Preprocess.ipynb</text>\n",
       "</g>\n",
       "<!-- d8ba1: -->\n",
       "<g class=\"node\" id=\"node2\">\n",
       "<title>d8ba1:</title>\n",
       "<polygon fill=\"none\" points=\"1294.6138,-122 -.2047,-122 -.2047,-86 1294.6138,-86 1294.6138,-122\" stroke=\"#000000\"/>\n",
       "<text fill=\"#000000\" font-family=\"DejaVu Sans\" font-size=\"14.00\" text-anchor=\"middle\" x=\"647.2046\" y=\"-99.8\">#d8ba1::renku run papermill -p input_path data/flights/2019-01-flights.csv.zip -p output_path data/output/2019-01-flights-preprocessed.csv notebooks/01-Preprocess.ipynb notebooks/01-Preprocess.ran.ipynb</text>\n",
       "</g>\n",
       "<!-- f40b8:/notebooks/01&#45;Preprocess.ipynb&#45;&gt;d8ba1: -->\n",
       "<g class=\"edge\" id=\"edge1\">\n",
       "<title>f40b8:/notebooks/01-Preprocess.ipynb-&gt;d8ba1:</title>\n",
       "<path d=\"M504.0646,-172.3891C531.9349,-159.0733 570.3974,-140.6967 600.4344,-126.3457\" fill=\"none\" stroke=\"#000000\"/>\n",
       "<polygon fill=\"#000000\" points=\"601.9505,-129.5004 609.4647,-122.0313 598.9328,-123.1843 601.9505,-129.5004\" stroke=\"#000000\"/>\n",
       "<text fill=\"#000000\" font-family=\"Times,serif\" font-size=\"14.00\" text-anchor=\"middle\" x=\"589.5942\" y=\"-142.8\">input_5</text>\n",
       "</g>\n",
       "<!-- d8ba1:/notebooks/01&#45;Preprocess.ran.ipynb -->\n",
       "<g class=\"node\" id=\"node4\">\n",
       "<title>d8ba1:/notebooks/01-Preprocess.ran.ipynb</title>\n",
       "<ellipse cx=\"435.2046\" cy=\"-18\" fill=\"none\" rx=\"184.2871\" ry=\"18\" stroke=\"#000000\"/>\n",
       "<text fill=\"#000000\" font-family=\"DejaVu Sans\" font-size=\"14.00\" text-anchor=\"middle\" x=\"435.2046\" y=\"-13.8\">#d8ba1:/notebooks/01-Preprocess.ran.ipynb</text>\n",
       "</g>\n",
       "<!-- d8ba1:&#45;&gt;d8ba1:/notebooks/01&#45;Preprocess.ran.ipynb -->\n",
       "<g class=\"edge\" id=\"edge3\">\n",
       "<title>d8ba1:-&gt;d8ba1:/notebooks/01-Preprocess.ran.ipynb</title>\n",
       "<path d=\"M602.7624,-85.9716C569.3568,-72.4202 523.4686,-53.8052 488.1597,-39.4818\" fill=\"none\" stroke=\"#000000\"/>\n",
       "<polygon fill=\"#000000\" points=\"489.0827,-36.0793 478.5004,-35.5634 486.4513,-42.5659 489.0827,-36.0793\" stroke=\"#000000\"/>\n",
       "<text fill=\"#000000\" font-family=\"Times,serif\" font-size=\"14.00\" text-anchor=\"middle\" x=\"579.0942\" y=\"-56.8\">output_1</text>\n",
       "</g>\n",
       "<!-- d8ba1:/data/output/2019&#45;01&#45;flights&#45;preprocessed.csv -->\n",
       "<g class=\"node\" id=\"node5\">\n",
       "<title>d8ba1:/data/output/2019-01-flights-preprocessed.csv</title>\n",
       "<ellipse cx=\"859.2046\" cy=\"-18\" fill=\"none\" rx=\"221.9919\" ry=\"18\" stroke=\"#000000\"/>\n",
       "<text fill=\"#000000\" font-family=\"DejaVu Sans\" font-size=\"14.00\" text-anchor=\"middle\" x=\"859.2046\" y=\"-13.8\">#d8ba1:/data/output/2019-01-flights-preprocessed.csv</text>\n",
       "</g>\n",
       "<!-- d8ba1:&#45;&gt;d8ba1:/data/output/2019&#45;01&#45;flights&#45;preprocessed.csv -->\n",
       "<g class=\"edge\" id=\"edge4\">\n",
       "<title>d8ba1:-&gt;d8ba1:/data/output/2019-01-flights-preprocessed.csv</title>\n",
       "<path d=\"M691.6467,-85.9716C724.9414,-72.4653 770.6358,-53.9288 805.8972,-39.6247\" fill=\"none\" stroke=\"#000000\"/>\n",
       "<polygon fill=\"#000000\" points=\"807.5963,-42.7125 815.5471,-35.7101 804.9649,-36.2259 807.5963,-42.7125\" stroke=\"#000000\"/>\n",
       "<text fill=\"#000000\" font-family=\"Times,serif\" font-size=\"14.00\" text-anchor=\"middle\" x=\"790.0942\" y=\"-56.8\">output_0</text>\n",
       "</g>\n",
       "<!-- ac0d9:/data/flights/2019&#45;01&#45;flights.csv.zip -->\n",
       "<g class=\"node\" id=\"node3\">\n",
       "<title>ac0d9:/data/flights/2019-01-flights.csv.zip</title>\n",
       "<ellipse cx=\"828.2046\" cy=\"-190\" fill=\"none\" rx=\"176.6909\" ry=\"18\" stroke=\"#000000\"/>\n",
       "<text fill=\"#000000\" font-family=\"DejaVu Sans\" font-size=\"14.00\" text-anchor=\"middle\" x=\"828.2046\" y=\"-185.8\">#ac0d9:/data/flights/2019-01-flights.csv.zip</text>\n",
       "</g>\n",
       "<!-- ac0d9:/data/flights/2019&#45;01&#45;flights.csv.zip&#45;&gt;d8ba1: -->\n",
       "<g class=\"edge\" id=\"edge2\">\n",
       "<title>ac0d9:/data/flights/2019-01-flights.csv.zip-&gt;d8ba1:</title>\n",
       "<path d=\"M791.1398,-172.3891C763.1147,-159.0733 724.4384,-140.6967 694.2346,-126.3457\" fill=\"none\" stroke=\"#000000\"/>\n",
       "<polygon fill=\"#000000\" points=\"695.6885,-123.1616 685.1542,-122.0313 692.6844,-129.4842 695.6885,-123.1616\" stroke=\"#000000\"/>\n",
       "<text fill=\"#000000\" font-family=\"Times,serif\" font-size=\"14.00\" text-anchor=\"middle\" x=\"770.5942\" y=\"-142.8\">input_2</text>\n",
       "</g>\n",
       "</g>\n",
       "</svg>"
      ],
      "text/plain": [
       "<IPython.core.display.SVG object>"
      ]
     },
     "execution_count": 80,
     "metadata": {},
     "output_type": "execute_result"
    }
   ],
   "source": [
    "graph = !renku log --format dot | dot -Tsvg\n",
    "SVG(\"\\n\".join(graph))"
   ]
  },
  {
   "cell_type": "markdown",
   "metadata": {},
   "source": [
    "# Verify preprocessing\n",
    "\n",
    "Let us examine the preprocessed data to make sure we interpreted the original data correctly.\n",
    "\n",
    "To do this, we use another notebook. This notebook takes the preprocessed data and visualizes it so we can see if it conforms to our expectations regarding how it should look."
   ]
  },
  {
   "cell_type": "code",
   "execution_count": 82,
   "metadata": {},
   "outputs": [],
   "source": [
    "%cp ../templates/02-Inspection-00.ipynb ./notebooks/02-Inspection.ipynb "
   ]
  },
  {
   "cell_type": "markdown",
   "metadata": {},
   "source": [
    "## Inspect preprocessed data\n",
    "\n",
    "Run through the [02-Inspection.ipynb](./renku-tutorial-flights/notebooks/02-Inspection.ipynb) notebook. and then come back here."
   ]
  },
  {
   "cell_type": "markdown",
   "metadata": {},
   "source": [
    "### Modify the notebook to use papermill (again)\n",
    "\n",
    "The 02-Inspection.ipynb notebook was already written with papermill in mind. The one parameter is already declared in its own cell. To make the notebook  papermill compatible all that needs to be done is to tag the parameters cell. This is done by editing the cell metadata and adding the following:"
   ]
  },
  {
   "cell_type": "markdown",
   "metadata": {},
   "source": [
    "## **Exercise 1**\n",
    "\n",
    "Make the 02-Inspection.ipynb work with papermill."
   ]
  },
  {
   "cell_type": "code",
   "execution_count": 83,
   "metadata": {},
   "outputs": [],
   "source": [
    "# Ex. 1 Solution\n",
    "# Update the notebook to a version with parameters\n",
    "# %cp ../templates/02-Inspection-01-papermill.ipynb ./notebooks/02-Inspection.ipynb "
   ]
  },
  {
   "cell_type": "markdown",
   "metadata": {},
   "source": [
    "### Resolve the dirty repository state\n",
    "\n",
    "Again, we need to ensure the working directory is clean."
   ]
  },
  {
   "cell_type": "code",
   "execution_count": 84,
   "metadata": {},
   "outputs": [
    {
     "name": "stdout",
     "output_type": "stream",
     "text": [
      "On branch master\n",
      "Untracked files:\n",
      "  (use \"git add <file>...\" to include in what will be committed)\n",
      "\n",
      "\t\u001b[31mnotebooks/02-Inspection.ipynb\u001b[m\n",
      "\n",
      "nothing added to commit but untracked files present (use \"git add\" to track)\n"
     ]
    }
   ],
   "source": [
    "!git status"
   ]
  },
  {
   "cell_type": "markdown",
   "metadata": {},
   "source": [
    "We added a notebook. Let us put it into git and make a commit."
   ]
  },
  {
   "cell_type": "code",
   "execution_count": 85,
   "metadata": {},
   "outputs": [
    {
     "name": "stdout",
     "output_type": "stream",
     "text": [
      "[master 9709c3c] Inspecting the results of preprocessing.\n",
      " 1 file changed, 134 insertions(+)\n",
      " create mode 100644 notebooks/02-Inspection.ipynb\n"
     ]
    }
   ],
   "source": [
    "!git add notebooks/02-Inspection.ipynb\n",
    "!git commit -m\"Inspecting the results of preprocessing.\""
   ]
  },
  {
   "cell_type": "markdown",
   "metadata": {},
   "source": [
    "Now we can run the notebook with papermill"
   ]
  },
  {
   "cell_type": "code",
   "execution_count": 86,
   "metadata": {},
   "outputs": [
    {
     "name": "stderr",
     "output_type": "stream",
     "text": [
      "Input Notebook:  notebooks/02-Inspection.ipynb\n",
      "Output Notebook: notebooks/02-Inspection.ran.ipynb\n",
      "100%|██████████| 12/12 [00:07<00:00,  1.59it/s]\n"
     ]
    }
   ],
   "source": [
    "%%bash\n",
    "renku run papermill \\\n",
    "  -p input_path data/output/2019-01-flights-preprocessed.csv \\\n",
    "  -p output_path data/output/2019-01-flights-delay-fivenums.csv \\\n",
    "  notebooks/02-Inspection.ipynb \\\n",
    "  notebooks/02-Inspection.ran.ipynb"
   ]
  },
  {
   "cell_type": "markdown",
   "metadata": {},
   "source": [
    "<div style=\"color: #004085; background-color: #cce5ff; border-color: #b8daff; padding: .75rem 1.25rem; margin-bottom: 1rem; border: 1px solid transparent; border-radius: .25rem; font-size: larger;\">\n",
    "Now we have a workflow in Renku!\n",
    "</div>\n",
    "\n"
   ]
  },
  {
   "cell_type": "markdown",
   "metadata": {},
   "source": [
    "If you have dot available, you can view the graph visually"
   ]
  },
  {
   "cell_type": "code",
   "execution_count": 97,
   "metadata": {},
   "outputs": [
    {
     "data": {
      "image/svg+xml": [
       "<svg height=\"175pt\" viewBox=\"0.00 0.00 864.00 174.90\" width=\"864pt\" xmlns=\"http://www.w3.org/2000/svg\" xmlns:xlink=\"http://www.w3.org/1999/xlink\">\n",
       "<g class=\"graph\" id=\"graph0\" transform=\"scale(.4508 .4508) rotate(0) translate(4 384)\">\n",
       "<title>%3</title>\n",
       "<polygon fill=\"#ffffff\" points=\"-4,4 -4,-384 1912.6802,-384 1912.6802,4 -4,4\" stroke=\"transparent\"/>\n",
       "<!-- d8ba1:/data/output/2019&#45;01&#45;flights&#45;preprocessed.csv -->\n",
       "<g class=\"node\" id=\"node1\">\n",
       "<title>d8ba1:/data/output/2019-01-flights-preprocessed.csv</title>\n",
       "<ellipse cx=\"1049.4756\" cy=\"-190\" fill=\"none\" rx=\"221.9919\" ry=\"18\" stroke=\"#000000\"/>\n",
       "<text fill=\"#000000\" font-family=\"DejaVu Sans\" font-size=\"14.00\" text-anchor=\"middle\" x=\"1049.4756\" y=\"-185.8\">#d8ba1:/data/output/2019-01-flights-preprocessed.csv</text>\n",
       "</g>\n",
       "<!-- 04a1f: -->\n",
       "<g class=\"node\" id=\"node2\">\n",
       "<title>04a1f:</title>\n",
       "<polygon fill=\"none\" points=\"1356.9268,-122 .0244,-122 .0244,-86 1356.9268,-86 1356.9268,-122\" stroke=\"#000000\"/>\n",
       "<text fill=\"#000000\" font-family=\"DejaVu Sans\" font-size=\"14.00\" text-anchor=\"middle\" x=\"678.4756\" y=\"-99.8\">#04a1f::renku run papermill -p input_path data/output/2019-01-flights-preprocessed.csv -p output_path data/output/2019-01-flights-delay-fivenums.csv notebooks/02-Inspection.ipynb notebooks/02-Inspection.ran.ipynb</text>\n",
       "</g>\n",
       "<!-- d8ba1:/data/output/2019&#45;01&#45;flights&#45;preprocessed.csv&#45;&gt;04a1f: -->\n",
       "<g class=\"edge\" id=\"edge1\">\n",
       "<title>d8ba1:/data/output/2019-01-flights-preprocessed.csv-&gt;04a1f:</title>\n",
       "<path d=\"M976.1779,-173.0092C915.9428,-159.0463 830.4245,-139.2227 766.4894,-124.4021\" fill=\"none\" stroke=\"#000000\"/>\n",
       "<polygon fill=\"#000000\" points=\"766.9528,-120.9168 756.4207,-122.0681 765.372,-127.736 766.9528,-120.9168\" stroke=\"#000000\"/>\n",
       "<text fill=\"#000000\" font-family=\"Times,serif\" font-size=\"14.00\" text-anchor=\"middle\" x=\"907.8652\" y=\"-142.8\">input_2</text>\n",
       "</g>\n",
       "<!-- 04a1f:/notebooks/02&#45;Inspection.ran.ipynb -->\n",
       "<g class=\"node\" id=\"node7\">\n",
       "<title>04a1f:/notebooks/02-Inspection.ran.ipynb</title>\n",
       "<ellipse cx=\"468.4756\" cy=\"-18\" fill=\"none\" rx=\"177.0384\" ry=\"18\" stroke=\"#000000\"/>\n",
       "<text fill=\"#000000\" font-family=\"DejaVu Sans\" font-size=\"14.00\" text-anchor=\"middle\" x=\"468.4756\" y=\"-13.8\">#04a1f:/notebooks/02-Inspection.ran.ipynb</text>\n",
       "</g>\n",
       "<!-- 04a1f:&#45;&gt;04a1f:/notebooks/02&#45;Inspection.ran.ipynb -->\n",
       "<g class=\"edge\" id=\"edge5\">\n",
       "<title>04a1f:-&gt;04a1f:/notebooks/02-Inspection.ran.ipynb</title>\n",
       "<path d=\"M634.4527,-85.9716C601.3622,-72.4202 555.9069,-53.8052 520.9311,-39.4818\" fill=\"none\" stroke=\"#000000\"/>\n",
       "<polygon fill=\"#000000\" points=\"521.9435,-36.1143 511.363,-35.5634 519.2906,-42.5922 521.9435,-36.1143\" stroke=\"#000000\"/>\n",
       "<text fill=\"#000000\" font-family=\"Times,serif\" font-size=\"14.00\" text-anchor=\"middle\" x=\"611.3652\" y=\"-56.8\">output_1</text>\n",
       "</g>\n",
       "<!-- 04a1f:/data/output/2019&#45;01&#45;flights&#45;delay&#45;fivenums.csv -->\n",
       "<g class=\"node\" id=\"node8\">\n",
       "<title>04a1f:/data/output/2019-01-flights-delay-fivenums.csv</title>\n",
       "<ellipse cx=\"889.4756\" cy=\"-18\" fill=\"none\" rx=\"225.349\" ry=\"18\" stroke=\"#000000\"/>\n",
       "<text fill=\"#000000\" font-family=\"DejaVu Sans\" font-size=\"14.00\" text-anchor=\"middle\" x=\"889.4756\" y=\"-13.8\">#04a1f:/data/output/2019-01-flights-delay-fivenums.csv</text>\n",
       "</g>\n",
       "<!-- 04a1f:&#45;&gt;04a1f:/data/output/2019&#45;01&#45;flights&#45;delay&#45;fivenums.csv -->\n",
       "<g class=\"edge\" id=\"edge6\">\n",
       "<title>04a1f:-&gt;04a1f:/data/output/2019-01-flights-delay-fivenums.csv</title>\n",
       "<path d=\"M722.7081,-85.9716C755.8457,-72.4653 801.3246,-53.9288 836.4197,-39.6247\" fill=\"none\" stroke=\"#000000\"/>\n",
       "<polygon fill=\"#000000\" points=\"838.0848,-42.7256 846.0241,-35.7101 835.4427,-36.2434 838.0848,-42.7256\" stroke=\"#000000\"/>\n",
       "<text fill=\"#000000\" font-family=\"Times,serif\" font-size=\"14.00\" text-anchor=\"middle\" x=\"822.3652\" y=\"-56.8\">output_0</text>\n",
       "</g>\n",
       "<!-- 9709c:/notebooks/02&#45;Inspection.ipynb -->\n",
       "<g class=\"node\" id=\"node3\">\n",
       "<title>9709c:/notebooks/02-Inspection.ipynb</title>\n",
       "<ellipse cx=\"645.4756\" cy=\"-190\" fill=\"none\" rx=\"163.9904\" ry=\"18\" stroke=\"#000000\"/>\n",
       "<text fill=\"#000000\" font-family=\"DejaVu Sans\" font-size=\"14.00\" text-anchor=\"middle\" x=\"645.4756\" y=\"-185.8\">#9709c:/notebooks/02-Inspection.ipynb</text>\n",
       "</g>\n",
       "<!-- 9709c:/notebooks/02&#45;Inspection.ipynb&#45;&gt;04a1f: -->\n",
       "<g class=\"edge\" id=\"edge2\">\n",
       "<title>9709c:/notebooks/02-Inspection.ipynb-&gt;04a1f:</title>\n",
       "<path d=\"M652.474,-171.7616C656.9367,-160.1316 662.8061,-144.8357 667.8388,-131.72\" fill=\"none\" stroke=\"#000000\"/>\n",
       "<polygon fill=\"#000000\" points=\"671.1723,-132.8023 671.4872,-122.2121 664.637,-130.2945 671.1723,-132.8023\" stroke=\"#000000\"/>\n",
       "<text fill=\"#000000\" font-family=\"Times,serif\" font-size=\"14.00\" text-anchor=\"middle\" x=\"685.8652\" y=\"-142.8\">input_5</text>\n",
       "</g>\n",
       "<!-- f40b8:/notebooks/01&#45;Preprocess.ipynb -->\n",
       "<g class=\"node\" id=\"node4\">\n",
       "<title>f40b8:/notebooks/01-Preprocess.ipynb</title>\n",
       "<ellipse cx=\"1081.4756\" cy=\"-362\" fill=\"none\" rx=\"166.3872\" ry=\"18\" stroke=\"#000000\"/>\n",
       "<text fill=\"#000000\" font-family=\"DejaVu Sans\" font-size=\"14.00\" text-anchor=\"middle\" x=\"1081.4756\" y=\"-357.8\">#f40b8:/notebooks/01-Preprocess.ipynb</text>\n",
       "</g>\n",
       "<!-- d8ba1: -->\n",
       "<g class=\"node\" id=\"node5\">\n",
       "<title>d8ba1:</title>\n",
       "<polygon fill=\"none\" points=\"1908.8848,-294 614.0663,-294 614.0663,-258 1908.8848,-258 1908.8848,-294\" stroke=\"#000000\"/>\n",
       "<text fill=\"#000000\" font-family=\"DejaVu Sans\" font-size=\"14.00\" text-anchor=\"middle\" x=\"1261.4756\" y=\"-271.8\">#d8ba1::renku run papermill -p input_path data/flights/2019-01-flights.csv.zip -p output_path data/output/2019-01-flights-preprocessed.csv notebooks/01-Preprocess.ipynb notebooks/01-Preprocess.ran.ipynb</text>\n",
       "</g>\n",
       "<!-- f40b8:/notebooks/01&#45;Preprocess.ipynb&#45;&gt;d8ba1: -->\n",
       "<g class=\"edge\" id=\"edge3\">\n",
       "<title>f40b8:/notebooks/01-Preprocess.ipynb-&gt;d8ba1:</title>\n",
       "<path d=\"M1118.3356,-344.3891C1146.2059,-331.0733 1184.6684,-312.6967 1214.7054,-298.3457\" fill=\"none\" stroke=\"#000000\"/>\n",
       "<polygon fill=\"#000000\" points=\"1216.2215,-301.5004 1223.7357,-294.0313 1213.2038,-295.1843 1216.2215,-301.5004\" stroke=\"#000000\"/>\n",
       "<text fill=\"#000000\" font-family=\"Times,serif\" font-size=\"14.00\" text-anchor=\"middle\" x=\"1202.8652\" y=\"-314.8\">input_5</text>\n",
       "</g>\n",
       "<!-- d8ba1:&#45;&gt;d8ba1:/data/output/2019&#45;01&#45;flights&#45;preprocessed.csv -->\n",
       "<g class=\"edge\" id=\"edge8\">\n",
       "<title>d8ba1:-&gt;d8ba1:/data/output/2019-01-flights-preprocessed.csv</title>\n",
       "<path d=\"M1217.0334,-257.9716C1183.7388,-244.4653 1138.0443,-225.9288 1102.7829,-211.6247\" fill=\"none\" stroke=\"#000000\"/>\n",
       "<polygon fill=\"#000000\" points=\"1103.7153,-208.2259 1093.133,-207.7101 1101.0839,-214.7125 1103.7153,-208.2259\" stroke=\"#000000\"/>\n",
       "<text fill=\"#000000\" font-family=\"Times,serif\" font-size=\"14.00\" text-anchor=\"middle\" x=\"1192.3652\" y=\"-228.8\">output_0</text>\n",
       "</g>\n",
       "<!-- d8ba1:/notebooks/01&#45;Preprocess.ran.ipynb -->\n",
       "<g class=\"node\" id=\"node9\">\n",
       "<title>d8ba1:/notebooks/01-Preprocess.ran.ipynb</title>\n",
       "<ellipse cx=\"1473.4756\" cy=\"-190\" fill=\"none\" rx=\"184.2871\" ry=\"18\" stroke=\"#000000\"/>\n",
       "<text fill=\"#000000\" font-family=\"DejaVu Sans\" font-size=\"14.00\" text-anchor=\"middle\" x=\"1473.4756\" y=\"-185.8\">#d8ba1:/notebooks/01-Preprocess.ran.ipynb</text>\n",
       "</g>\n",
       "<!-- d8ba1:&#45;&gt;d8ba1:/notebooks/01&#45;Preprocess.ran.ipynb -->\n",
       "<g class=\"edge\" id=\"edge7\">\n",
       "<title>d8ba1:-&gt;d8ba1:/notebooks/01-Preprocess.ran.ipynb</title>\n",
       "<path d=\"M1305.9177,-257.9716C1339.3234,-244.4202 1385.2116,-225.8052 1420.5205,-211.4818\" fill=\"none\" stroke=\"#000000\"/>\n",
       "<polygon fill=\"#000000\" points=\"1422.2289,-214.5659 1430.1797,-207.5634 1419.5975,-208.0793 1422.2289,-214.5659\" stroke=\"#000000\"/>\n",
       "<text fill=\"#000000\" font-family=\"Times,serif\" font-size=\"14.00\" text-anchor=\"middle\" x=\"1404.3652\" y=\"-228.8\">output_1</text>\n",
       "</g>\n",
       "<!-- ac0d9:/data/flights/2019&#45;01&#45;flights.csv.zip -->\n",
       "<g class=\"node\" id=\"node6\">\n",
       "<title>ac0d9:/data/flights/2019-01-flights.csv.zip</title>\n",
       "<ellipse cx=\"1442.4756\" cy=\"-362\" fill=\"none\" rx=\"176.6909\" ry=\"18\" stroke=\"#000000\"/>\n",
       "<text fill=\"#000000\" font-family=\"DejaVu Sans\" font-size=\"14.00\" text-anchor=\"middle\" x=\"1442.4756\" y=\"-357.8\">#ac0d9:/data/flights/2019-01-flights.csv.zip</text>\n",
       "</g>\n",
       "<!-- ac0d9:/data/flights/2019&#45;01&#45;flights.csv.zip&#45;&gt;d8ba1: -->\n",
       "<g class=\"edge\" id=\"edge4\">\n",
       "<title>ac0d9:/data/flights/2019-01-flights.csv.zip-&gt;d8ba1:</title>\n",
       "<path d=\"M1405.4108,-344.3891C1377.3856,-331.0733 1338.7094,-312.6967 1308.5056,-298.3457\" fill=\"none\" stroke=\"#000000\"/>\n",
       "<polygon fill=\"#000000\" points=\"1309.9595,-295.1616 1299.4251,-294.0313 1306.9554,-301.4842 1309.9595,-295.1616\" stroke=\"#000000\"/>\n",
       "<text fill=\"#000000\" font-family=\"Times,serif\" font-size=\"14.00\" text-anchor=\"middle\" x=\"1383.8652\" y=\"-314.8\">input_2</text>\n",
       "</g>\n",
       "</g>\n",
       "</svg>"
      ],
      "text/plain": [
       "<IPython.core.display.SVG object>"
      ]
     },
     "execution_count": 97,
     "metadata": {
      "image/svg+xml": {
       "height": 300
      }
     },
     "output_type": "execute_result"
    }
   ],
   "source": [
    "# graph = !renku log --format dot | dot -Tsvg -Gsize=12,10\n",
    "# SVG(\"\\n\".join(graph))"
   ]
  },
  {
   "cell_type": "markdown",
   "metadata": {},
   "source": [
    "If we want to see what we have done so far, we can just look at the git log."
   ]
  },
  {
   "cell_type": "code",
   "execution_count": 15,
   "metadata": {},
   "outputs": [
    {
     "name": "stdout",
     "output_type": "stream",
     "text": [
      "* \u001b[33m7cb0b83\u001b[m\u001b[33m (\u001b[m\u001b[1;36mHEAD -> \u001b[m\u001b[1;32mmaster\u001b[m\u001b[33m)\u001b[m renku dataset add flights https://renkulab.io/gitlab/cramakri/renku-tutorial-flights-data/blob/master/data/v1/2019-01-flights.csv.zip\n",
      "* \u001b[33me9603dd\u001b[m renku dataset create flights\n",
      "* \u001b[33mf95aaf3\u001b[m Declare the python environment for the project.\n",
      "* \u001b[33m77380cf\u001b[m renku init renku-tutorial-flights\n"
     ]
    }
   ],
   "source": [
    "!git log --graph --oneline"
   ]
  }
 ],
 "metadata": {
  "kernelspec": {
   "display_name": "Python 3",
   "language": "python",
   "name": "python3"
  },
  "language_info": {
   "codemirror_mode": {
    "name": "ipython",
    "version": 3
   },
   "file_extension": ".py",
   "mimetype": "text/x-python",
   "name": "python",
   "nbconvert_exporter": "python",
   "pygments_lexer": "ipython3",
   "version": "3.7.3"
  }
 },
 "nbformat": 4,
 "nbformat_minor": 2
}

   "metadata": {},
   "outputs": [],
   "source": [
    "from IPython.display import SVG"
   ]
  },
  {
   "cell_type": "markdown",
   "metadata": {},
   "source": [
    "# Starting a Renku project"
   ]
  },
  {
   "cell_type": "markdown",
   "metadata": {},
   "source": [
    "### Pre-Setup\n",
    "\n",
    "Make sure your git environment is correctly configured with a username and email."
   ]
  },
  {
   "cell_type": "code",
   "execution_count": 2,
   "metadata": {},
   "outputs": [
    {
     "name": "stdout",
     "output_type": "stream",
     "text": [
      "Chandrasekhar Ramakrishnan\n",
      "cramakri@ethz.ch\n"
     ]
    }
   ],
   "source": [
    "!git config --global user.name\n",
    "!git config --global user.email"
   ]
  },
  {
   "cell_type": "code",
   "execution_count": 3,
   "metadata": {},
   "outputs": [],
   "source": [
    "# If the above does not print anything, set a username and email:\n",
    "#!git config --global --add user.name \"John Doe\"\n",
    "#!git config --global --add user.email \"john.doe@example.com\""
   ]
  },
  {
   "cell_type": "markdown",
   "metadata": {},
   "source": [
    "## Outline\n",
    "\n",
    "<table class=\"table table-striped\" style=\"font-size: 18px; margin: 10px;\">\n",
    "    <thead>\n",
    "        <tr>\n",
    "            <td>Renku</td>\n",
    "            <td>Pandas</td>\n",
    "        </tr>\n",
    "    <thead>\n",
    "    <tbody>\n",
    "        <tr>\n",
    "            <td style=\"font-weight: bold\">Create repository</td>\n",
    "            <td></td>\n",
    "        </tr>\n",
    "        <tr>\n",
    "            <td>Declare environment</td>\n",
    "            <td></td>\n",
    "        </tr>\n",
    "        <tr>\n",
    "            <td>Import data</td>\n",
    "            <td></td>\n",
    "        </tr>\n",
    "        <tr>\n",
    "            <td></td>\n",
    "            <td>Inspect and preprocess data</td>\n",
    "        </tr>\n",
    "        <tr>\n",
    "            <td></td>\n",
    "            <td>Verify preprocessing</td>\n",
    "        </tr>        \n",
    "     </tbody>\n",
    "</table>"
   ]
  },
  {
   "cell_type": "markdown",
   "metadata": {},
   "source": [
    "# Creating a repository\n",
    "\n",
    "The first thing to do when starting a project is to initialize a repository. A Renku repository is just a git repository with a little bit of extra structure. "
   ]
  },
  {
   "cell_type": "code",
   "execution_count": 4,
   "metadata": {},
   "outputs": [
    {
     "name": "stdout",
     "output_type": "stream",
     "text": [
      "Initialized empty project in /Users/ciyer/Documents/sdsc/repos/r10e-ds-py/notebooks/03-renku/renku-tutorial-flights\n"
     ]
    }
   ],
   "source": [
    "!renku init renku-tutorial-flights"
   ]
  },
  {
   "cell_type": "markdown",
   "metadata": {},
   "source": [
    "Let is take a look at what's inside the renku repository"
   ]
  },
  {
   "cell_type": "code",
   "execution_count": 5,
   "metadata": {},
   "outputs": [
    {
     "name": "stdout",
     "output_type": "stream",
     "text": [
      "total 8\n",
      "-rw-r--r--  1 ciyer  staff  305 Jul  4 16:58 Dockerfile\n",
      "-rw-r--r--  1 ciyer  staff    0 Jul  4 16:58 requirements.txt\n"
     ]
    }
   ],
   "source": [
    "%ls -l renku-tutorial-flights"
   ]
  },
  {
   "cell_type": "markdown",
   "metadata": {},
   "source": [
    "Renku creates a git repository and generates two files: \n",
    "- `Dockerfile` \n",
    "- `requirements.txt`\n",
    "\n",
    "We will take a look at the Dockerfile when we share our project. The `requirements.txt` file is empty and there as a shell. In a minute, we will create fill it out."
   ]
  },
  {
   "cell_type": "markdown",
   "metadata": {},
   "source": [
    "## Housekeeping\n",
    "\n",
    "For the rest of the tutorial, we will work in the renku repository."
   ]
  },
  {
   "cell_type": "code",
   "execution_count": 6,
   "metadata": {},
   "outputs": [
    {
     "name": "stdout",
     "output_type": "stream",
     "text": [
      "/Users/ciyer/Documents/sdsc/repos/r10e-ds-py/notebooks/03-renku/renku-tutorial-flights\n"
     ]
    }
   ],
   "source": [
    "%cd renku-tutorial-flights"
   ]
  },
  {
   "cell_type": "markdown",
   "metadata": {},
   "source": [
    "We also set up some git configuration for this tutorial."
   ]
  },
  {
   "cell_type": "code",
   "execution_count": 7,
   "metadata": {},
   "outputs": [],
   "source": [
    "# Workaround for https://github.com/SwissDataScienceCenter/renku-python/issues/579 to diff text in lfs\n",
    "!git config diff.lfs.textconv cat"
   ]
  },
  {
   "cell_type": "markdown",
   "metadata": {},
   "source": [
    "## Declaring the environment\n",
    "\n",
    "<table class=\"table table-striped\" style=\"font-size: 18px; margin: 10px;\">\n",
    "    <thead>\n",
    "        <tr>\n",
    "            <td>Renku</td>\n",
    "            <td>Pandas</td>\n",
    "        </tr>\n",
    "    <thead>\n",
    "    <tbody>\n",
    "        <tr>\n",
    "            <td>Create repository &#10004;</td>\n",
    "            <td></td>\n",
    "        </tr>\n",
    "        <tr>\n",
    "            <td style=\"font-weight: bold\">Declare environment</td>\n",
    "            <td></td>\n",
    "        </tr>\n",
    "        <tr>\n",
    "            <td>Import data</td>\n",
    "            <td></td>\n",
    "        </tr>\n",
    "        <tr>\n",
    "            <td></td>\n",
    "            <td>Inspect and preprocess data</td>\n",
    "        </tr>\n",
    "        <tr>\n",
    "            <td></td>\n",
    "            <td>Verify preprocessing</td>\n",
    "        </tr>        \n",
    "     </tbody>\n",
    "</table>\n",
    "\n",
    "To make the project reproducible, we need to declare the environment it runs in. We will be working with pandas, numpy, scipy, matplotlib, and seaborn, so let us create a requirements.txt file that makes this explicit."
   ]
  },
  {
   "cell_type": "code",
   "execution_count": 8,
   "metadata": {},
   "outputs": [],
   "source": [
    "# Normally, you would write a requriements file, but we have one ready here\n",
    "%cp ../templates/requirements.txt ./"
   ]
  },
  {
   "cell_type": "markdown",
   "metadata": {},
   "source": [
    "As we work, we to track the process. Some of this information is kept in git. For example, the fact that we have filled out the requirements.txt file."
   ]
  },
  {
   "cell_type": "code",
   "execution_count": 10,
   "metadata": {},
   "outputs": [
    {
     "name": "stdout",
     "output_type": "stream",
     "text": [
      "On branch master\n",
      "Changes not staged for commit:\n",
      "  (use \"git add <file>...\" to update what will be committed)\n",
      "  (use \"git checkout -- <file>...\" to discard changes in working directory)\n",
      "\n",
      "\t\u001b[31mmodified:   requirements.txt\u001b[m\n",
      "\n",
      "no changes added to commit (use \"git add\" and/or \"git commit -a\")\n"
     ]
    }
   ],
   "source": [
    "!git status"
   ]
  },
  {
   "cell_type": "markdown",
   "metadata": {},
   "source": [
    "Let us tell git about the requirements.txt file."
   ]
  },
  {
   "cell_type": "code",
   "execution_count": 11,
   "metadata": {},
   "outputs": [
    {
     "name": "stdout",
     "output_type": "stream",
     "text": [
      "[master f95aaf3] Declare the python environment for the project.\n",
      " 1 file changed, 5 insertions(+)\n"
     ]
    }
   ],
   "source": [
    "!git add requirements.txt\n",
    "!git commit -m\"Declare the python environment for the project.\""
   ]
  },
  {
   "cell_type": "markdown",
   "metadata": {},
   "source": [
    "## Importing data\n",
    "\n",
    "\n",
    "<table class=\"table table-striped\" style=\"font-size: 18px; margin: 10px;\">\n",
    "    <thead>\n",
    "        <tr>\n",
    "            <td>Renku</td>\n",
    "            <td>Pandas</td>\n",
    "        </tr>\n",
    "    <thead>\n",
    "    <tbody>\n",
    "        <tr>\n",
    "            <td>Create repository &#10004;</td>\n",
    "            <td></td>\n",
    "        </tr>\n",
    "        <tr>\n",
    "            <td>Declare environment &#10004;</td>\n",
    "            <td></td>\n",
    "        </tr>\n",
    "        <tr>\n",
    "            <td style=\"font-weight: bold\">Import data</td>\n",
    "            <td></td>\n",
    "        </tr>\n",
    "        <tr>\n",
    "            <td></td>\n",
    "            <td>Inspect and preprocess data</td>\n",
    "        </tr>\n",
    "        <tr>\n",
    "            <td></td>\n",
    "            <td>Verify preprocessing</td>\n",
    "        </tr>        \n",
    "     </tbody>\n",
    "</table>\n",
    "\n",
    "There are several ways renku can import data. Renku can import data from a data repository such as [Zenodo](https://zenodo.org), another renku or git repository, from a file on the file system, or from a URL. We will use  the last of these options."
   ]
  },
  {
   "cell_type": "markdown",
   "metadata": {},
   "source": [
    "### Create a dataset\n",
    "\n",
    "First, we will create a dataset which will group together the files we want to work with."
   ]
  },
  {
   "cell_type": "code",
   "execution_count": 12,
   "metadata": {},
   "outputs": [
    {
     "name": "stdout",
     "output_type": "stream",
     "text": [
      "Creating a dataset ... \u001b[32mOK\u001b[0m\n"
     ]
    }
   ],
   "source": [
    "!renku dataset create flights"
   ]
  },
  {
   "cell_type": "markdown",
   "metadata": {},
   "source": [
    "### Add data\n",
    "\n",
    "And we will get some data and add it to the dataset."
   ]
  },
  {
   "cell_type": "code",
   "execution_count": 25,
   "metadata": {},
   "outputs": [
    {
     "name": "stdout",
     "output_type": "stream",
     "text": [
      "\u001b[31m\u001b[1mAhhhhhhhh! You have found a bug. 🐞\n",
      "\n",
      "\u001b[0m\u001b[32m1. Open an issue by typing \"open\";\n",
      "\u001b[0m\u001b[33m2. Print human-readable information by typing \"print\";\n",
      "\u001b[0m\u001b[31m3. See the full traceback without submitting details (default: \"ignore\").\n",
      "\n",
      "\u001b[0mPlease select an action by typing its name (open, print, ignore) [ignore]: ^C\n",
      "Traceback (most recent call last):\n",
      "  File \"/Users/ciyer/Applications/miniconda3/envs/r10eds/lib/python3.7/site-packages/urllib3/connection.py\", line 160, in _new_conn\n",
      "    (self._dns_host, self.port), self.timeout, **extra_kw)\n",
      "  File \"/Users/ciyer/Applications/miniconda3/envs/r10eds/lib/python3.7/site-packages/urllib3/util/connection.py\", line 57, in create_connection\n",
      "    for res in socket.getaddrinfo(host, port, family, socket.SOCK_STREAM):\n",
      "  File \"/Users/ciyer/Applications/miniconda3/envs/r10eds/lib/python3.7/socket.py\", line 748, in getaddrinfo\n",
      "    for res in _socket.getaddrinfo(host, port, family, type, proto, flags):\n",
      "socket.gaierror: [Errno 8] nodename nor servname provided, or not known\n",
      "\n",
      "During handling of the above exception, another exception occurred:\n",
      "\n",
      "Traceback (most recent call last):\n",
      "  File \"/Users/ciyer/Applications/miniconda3/envs/r10eds/lib/python3.7/site-packages/urllib3/connectionpool.py\", line 603, in urlopen\n",
      "    chunked=chunked)\n",
      "  File \"/Users/ciyer/Applications/miniconda3/envs/r10eds/lib/python3.7/site-packages/urllib3/connectionpool.py\", line 344, in _make_request\n",
      "    self._validate_conn(conn)\n",
      "  File \"/Users/ciyer/Applications/miniconda3/envs/r10eds/lib/python3.7/site-packages/urllib3/connectionpool.py\", line 843, in _validate_conn\n",
      "    conn.connect()\n",
      "  File \"/Users/ciyer/Applications/miniconda3/envs/r10eds/lib/python3.7/site-packages/urllib3/connection.py\", line 305, in connect\n",
      "    conn = self._new_conn()\n",
      "  File \"/Users/ciyer/Applications/miniconda3/envs/r10eds/lib/python3.7/site-packages/urllib3/connection.py\", line 169, in _new_conn\n",
      "    self, \"Failed to establish a new connection: %s\" % e)\n",
      "urllib3.exceptions.NewConnectionError: <urllib3.connection.VerifiedHTTPSConnection object at 0x107290f60>: Failed to establish a new connection: [Errno 8] nodename nor servname provided, or not known\n",
      "\n",
      "During handling of the above exception, another exception occurred:\n",
      "\n",
      "Traceback (most recent call last):\n",
      "  File \"/Users/ciyer/Applications/miniconda3/envs/r10eds/lib/python3.7/site-packages/requests/adapters.py\", line 449, in send\n",
      "    timeout=timeout\n",
      "  File \"/Users/ciyer/Applications/miniconda3/envs/r10eds/lib/python3.7/site-packages/urllib3/connectionpool.py\", line 641, in urlopen\n",
      "    _stacktrace=sys.exc_info()[2])\n",
      "  File \"/Users/ciyer/Applications/miniconda3/envs/r10eds/lib/python3.7/site-packages/urllib3/util/retry.py\", line 399, in increment\n",
      "    raise MaxRetryError(_pool, url, error or ResponseError(cause))\n",
      "urllib3.exceptions.MaxRetryError: HTTPSConnectionPool(host='renkulahttps', port=443): Max retries exceeded with url: //renkulab.io/gitlab/cramakri/renku-tutorial-flights-data-raw/raw/master/data/v1/2019-01-flights.csv.zip (Caused by NewConnectionError('<urllib3.connection.VerifiedHTTPSConnection object at 0x107290f60>: Failed to establish a new connection: [Errno 8] nodename nor servname provided, or not known'))\n",
      "\n",
      "During handling of the above exception, another exception occurred:\n",
      "\n",
      "Traceback (most recent call last):\n",
      "  File \"/Users/ciyer/Applications/miniconda3/envs/r10eds/lib/python3.7/site-packages/renku/cli/_exc.py\", line 100, in main\n",
      "    result = super().main(*args, **kwargs)\n",
      "  File \"/Users/ciyer/Applications/miniconda3/envs/r10eds/lib/python3.7/site-packages/click/core.py\", line 717, in main\n",
      "    rv = self.invoke(ctx)\n",
      "  File \"/Users/ciyer/Applications/miniconda3/envs/r10eds/lib/python3.7/site-packages/click/core.py\", line 1137, in invoke\n",
      "    return _process_result(sub_ctx.command.invoke(sub_ctx))\n",
      "  File \"/Users/ciyer/Applications/miniconda3/envs/r10eds/lib/python3.7/site-packages/click/core.py\", line 1137, in invoke\n",
      "    return _process_result(sub_ctx.command.invoke(sub_ctx))\n",
      "  File \"/Users/ciyer/Applications/miniconda3/envs/r10eds/lib/python3.7/site-packages/click/core.py\", line 956, in invoke\n",
      "    return ctx.invoke(self.callback, **ctx.params)\n",
      "  File \"/Users/ciyer/Applications/miniconda3/envs/r10eds/lib/python3.7/site-packages/click/core.py\", line 555, in invoke\n",
      "    return callback(*args, **kwargs)\n",
      "  File \"/Users/ciyer/Applications/miniconda3/envs/r10eds/lib/python3.7/site-packages/renku/cli/_client.py\", line 80, in new_func\n",
      "    result = ctx.invoke(method, client, *args, **kwargs)\n",
      "  File \"/Users/ciyer/Applications/miniconda3/envs/r10eds/lib/python3.7/site-packages/click/core.py\", line 555, in invoke\n",
      "    return callback(*args, **kwargs)\n",
      "  File \"/Users/ciyer/Applications/miniconda3/envs/r10eds/lib/python3.7/site-packages/renku/cli/dataset.py\", line 235, in add\n",
      "    force=force,\n",
      "  File \"/Users/ciyer/Applications/miniconda3/envs/r10eds/lib/python3.7/site-packages/renku/api/datasets.py\", line 167, in add_data_to_dataset\n",
      "    files = self._add_from_url(dataset, dataset_path, url, **kwargs)\n",
      "  File \"/Users/ciyer/Applications/miniconda3/envs/r10eds/lib/python3.7/site-packages/renku/api/datasets.py\", line 244, in _add_from_url\n",
      "    response = requests.get(url)\n",
      "  File \"/Users/ciyer/Applications/miniconda3/envs/r10eds/lib/python3.7/site-packages/requests/api.py\", line 75, in get\n",
      "    return request('get', url, params=params, **kwargs)\n",
      "  File \"/Users/ciyer/Applications/miniconda3/envs/r10eds/lib/python3.7/site-packages/requests/api.py\", line 60, in request\n",
      "    return session.request(method=method, url=url, **kwargs)\n",
      "  File \"/Users/ciyer/Applications/miniconda3/envs/r10eds/lib/python3.7/site-packages/requests/sessions.py\", line 533, in request\n",
      "    resp = self.send(prep, **send_kwargs)\n",
      "  File \"/Users/ciyer/Applications/miniconda3/envs/r10eds/lib/python3.7/site-packages/requests/sessions.py\", line 646, in send\n",
      "    r = adapter.send(request, **kwargs)\n",
      "  File \"/Users/ciyer/Applications/miniconda3/envs/r10eds/lib/python3.7/site-packages/requests/adapters.py\", line 516, in send\n",
      "    raise ConnectionError(e, request=request)\n",
      "requests.exceptions.ConnectionError: HTTPSConnectionPool(host='renkulahttps', port=443): Max retries exceeded with url: //renkulab.io/gitlab/cramakri/renku-tutorial-flights-data-raw/raw/master/data/v1/2019-01-flights.csv.zip (Caused by NewConnectionError('<urllib3.connection.VerifiedHTTPSConnection object at 0x107290f60>: Failed to establish a new connection: [Errno 8] nodename nor servname provided, or not known'))\n",
      "\n",
      "During handling of the above exception, another exception occurred:\n",
      "\n",
      "Traceback (most recent call last):\n",
      "  File \"/Users/ciyer/Applications/miniconda3/envs/r10eds/lib/python3.7/site-packages/click/termui.py\", line 100, in prompt_func\n",
      "    return f('')\n",
      "KeyboardInterrupt\n",
      "\n",
      "During handling of the above exception, another exception occurred:\n",
      "\n",
      "Traceback (most recent call last):\n",
      "  File \"/Users/ciyer/Applications/miniconda3/envs/r10eds/bin/renku\", line 10, in <module>\n",
      "    sys.exit(cli())\n",
      "  File \"/Users/ciyer/Applications/miniconda3/envs/r10eds/lib/python3.7/site-packages/click/core.py\", line 764, in __call__\n",
      "    return self.main(*args, **kwargs)\n",
      "  File \"/Users/ciyer/Applications/miniconda3/envs/r10eds/lib/python3.7/site-packages/renku/cli/_exc.py\", line 109, in main\n",
      "    self._handle_github()\n",
      "  File \"/Users/ciyer/Applications/miniconda3/envs/r10eds/lib/python3.7/site-packages/renku/cli/_exc.py\", line 153, in _handle_github\n",
      "    default='ignore',\n",
      "  File \"/Users/ciyer/Applications/miniconda3/envs/r10eds/lib/python3.7/site-packages/click/termui.py\", line 116, in prompt\n",
      "    value = prompt_func(prompt)\n",
      "  File \"/Users/ciyer/Applications/miniconda3/envs/r10eds/lib/python3.7/site-packages/click/termui.py\", line 107, in prompt_func\n",
      "    raise Abort()\n",
      "click.exceptions.Abort\n"
     ]
    }
   ],
   "source": [
    "!renku dataset add flights !renku dataset add flights https://renkulab.io/gitlab/cramakri/renku-tutorial-flights-data-raw/raw/master/data/v1/2019-01-flights.csv.ziphttps://renkulab.io/gitlab/cramakri/renku-tutorial-flights-data-raw/raw/master/data/v1/2019-01-flights.csv.zip"
   ]
  },
  {
   "cell_type": "markdown",
   "metadata": {},
   "source": [
    "This copies the data into the folder for the flights dataset."
   ]
  },
  {
   "cell_type": "markdown",
   "metadata": {},
   "source": [
    "### Inspecting a dataset\n",
    "\n",
    "Let's take a look at the dataset."
   ]
  },
  {
   "cell_type": "code",
   "execution_count": 27,
   "metadata": {},
   "outputs": [
    {
     "name": "stdout",
     "output_type": "stream",
     "text": [
      "ADDED                AUTHORS                     DATASET    PATH\n",
      "-------------------  --------------------------  ---------  ---------------------------------------------------------------------------------------------------------------------------\n",
      "2019-07-04 19:08:32  Chandrasekhar Ramakrishnan  flights    /Users/ciyer/Documents/sdsc/repos/r10e-ds-py/notebooks/03-renku/renku-tutorial-flights/data/flights/2019-01-flights.csv.zip\n"
     ]
    }
   ],
   "source": [
    "!renku dataset ls-files flights"
   ]
  },
  {
   "cell_type": "markdown",
   "metadata": {},
   "source": [
    "# Data science: Inspect and preprocess data\n",
    "\n",
    "<table class=\"table table-striped\" style=\"font-size: 18px; margin: 10px;\">\n",
    "    <thead>\n",
    "        <tr>\n",
    "            <td>Renku</td>\n",
    "            <td>Pandas</td>\n",
    "        </tr>\n",
    "    <thead>\n",
    "    <tbody>\n",
    "        <tr>\n",
    "            <td>Create repository &#10004;</td>\n",
    "            <td></td>\n",
    "        </tr>\n",
    "        <tr>\n",
    "            <td>Declare environment &#10004;</td>\n",
    "            <td></td>\n",
    "        </tr>\n",
    "        <tr>\n",
    "            <td>Import data &#10004;</td>\n",
    "            <td></td>\n",
    "        </tr>\n",
    "        <tr>\n",
    "            <td></td>\n",
    "            <td style=\"font-weight: bold\">Inspect and preprocess data</td>\n",
    "        </tr>\n",
    "        <tr>\n",
    "            <td></td>\n",
    "            <td>Verify preprocessing</td>\n",
    "        </tr>        \n",
    "     </tbody>\n",
    "</table>"
   ]
  },
  {
   "cell_type": "markdown",
   "metadata": {},
   "source": [
    "There are notebooks prepared in the templates folder. One of these notebooks will get us started with reading in and preprocessing the data."
   ]
  },
  {
   "cell_type": "code",
   "execution_count": 16,
   "metadata": {},
   "outputs": [],
   "source": [
    "%mkdir notebooks\n",
    "%cp ../templates/01-Preprocess-00.ipynb ./notebooks/01-Preprocess.ipynb"
   ]
  },
  {
   "cell_type": "markdown",
   "metadata": {},
   "source": [
    "## Inspect data\n",
    "\n",
    "In the data we have **flight date**, **scheduled arrival time** and **actual arrival time**. To compute delay, we need to take the difference between actual arrival time and scheduled arrival time. To complicate matters, the arrival times are not stored as time, but as integer in the format 'HHMM'."
   ]
  },
  {
   "cell_type": "markdown",
   "metadata": {},
   "source": [
    "### Run through the notebook\n",
    "Open [01-Preprocess.ipynb](renku-tutorial-flights/notebooks/01-Preprocess.ipynb) and run through the '01-Preprocess.ipynb' notebook. When done, return to this notebook to continue."
   ]
  },
  {
   "cell_type": "markdown",
   "metadata": {},
   "source": [
    "## Preprocess data\n",
    "\n",
    "The data looks good. We want to save the output as a file. We could just save the file in the notebook, but then we have not recorded what input and processing were used to produce an output.\n",
    "\n",
    "Instead, we can use the tool **papermill** which runs Jupyter notebooks in a reproducible way. To do this, we need to convert the notebook into one that is papermill compatible and then run it with papermill."
   ]
  },
  {
   "cell_type": "markdown",
   "metadata": {},
   "source": [
    "### Modify the notebook to use papermill\n",
    "\n",
    "Converting the notebook to be papermill compatible is done by creating a cell that initializes all the values we want to use as parameters and converting the code to use these parameters. The cell needs to be tagged as a parameters cell. This is done by editing the cell metadata and adding the following:\n",
    "```\n",
    "{\n",
    "    \"tags\": [\n",
    "        \"parameters\"\n",
    "    ]\n",
    "}\n",
    "```"
   ]
  },
  {
   "cell_type": "code",
   "execution_count": 17,
   "metadata": {},
   "outputs": [],
   "source": [
    "# Update the notebook to a version with parameters\n",
    "%cp ../templates/01-Preprocess-01-papermill.ipynb ./notebooks/01-Preprocess.ipynb "
   ]
  },
  {
   "cell_type": "markdown",
   "metadata": {},
   "source": [
    "### Resolve the dirty repository state\n",
    "\n",
    "Renku uses information from git to determine the output of a program. For this to work, the working directory needs to be clean (without modifications)."
   ]
  },
  {
   "cell_type": "code",
   "execution_count": 28,
   "metadata": {},
   "outputs": [
    {
     "name": "stdout",
     "output_type": "stream",
     "text": [
      "On branch master\n",
      "nothing to commit, working tree clean\n"
     ]
    }
   ],
   "source": [
    "!git status"
   ]
  },
  {
   "cell_type": "markdown",
   "metadata": {},
   "source": [
    "We added a notebook. Let us put it into git and make a commit. *Remember to make a useful commit message!*"
   ]
  },
  {
   "cell_type": "code",
   "execution_count": 19,
   "metadata": {},
   "outputs": [
    {
     "name": "stdout",
     "output_type": "stream",
     "text": [
      "[master f40b885] Initial data inspection and processing\n",
      " 1 file changed, 309 insertions(+)\n",
      " create mode 100644 notebooks/01-Preprocess.ipynb\n"
     ]
    }
   ],
   "source": [
    "!git add notebooks\n",
    "!git commit -m\"Initial data inspection and processing\""
   ]
  },
  {
   "cell_type": "code",
   "execution_count": 20,
   "metadata": {},
   "outputs": [
    {
     "name": "stdout",
     "output_type": "stream",
     "text": [
      "On branch master\n",
      "nothing to commit, working tree clean\n"
     ]
    }
   ],
   "source": [
    "!git status"
   ]
  },
  {
   "cell_type": "markdown",
   "metadata": {},
   "source": [
    "Now we can run the notebook with papermill"
   ]
  },
  {
   "cell_type": "markdown",
   "metadata": {},
   "source": [
    "## Reproducible notebook run"
   ]
  },
  {
   "cell_type": "code",
   "execution_count": 29,
   "metadata": {},
   "outputs": [
    {
     "name": "stderr",
     "output_type": "stream",
     "text": [
      "Input Notebook:  notebooks/01-Preprocess.ipynb\n",
      "Output Notebook: notebooks/01-Preprocess.ran.ipynb\n",
      "100%|██████████| 29/29 [00:32<00:00,  2.14s/it]\n"
     ]
    }
   ],
   "source": [
    "%%bash\n",
    "mkdir -p data/output\n",
    "renku run papermill \\\n",
    "  -p input_path data/flights/2019-01-flights.csv.zip \\\n",
    "  -p output_path data/output/2019-01-flights-preprocessed.csv \\\n",
    "  notebooks/01-Preprocess.ipynb \\\n",
    "  notebooks/01-Preprocess.ran.ipynb"
   ]
  },
  {
   "cell_type": "markdown",
   "metadata": {},
   "source": [
    "Let's take a look at how things look from the renku perspective."
   ]
  },
  {
   "cell_type": "code",
   "execution_count": 30,
   "metadata": {},
   "outputs": [
    {
     "name": "stdout",
     "output_type": "stream",
     "text": [
      "On branch master\n",
      "nothing to commit, working tree clean\n"
     ]
    }
   ],
   "source": [
    "!git status"
   ]
  },
  {
   "cell_type": "code",
   "execution_count": 31,
   "metadata": {},
   "outputs": [
    {
     "name": "stdout",
     "output_type": "stream",
     "text": [
      "On branch master\n",
      "\u001b[32mAll files were generated from the latest inputs.\u001b[0m\n"
     ]
    }
   ],
   "source": [
    "!renku status"
   ]
  },
  {
   "cell_type": "code",
   "execution_count": 80,
   "metadata": {},
   "outputs": [
    {
     "data": {
      "image/svg+xml": [
       "<svg height=\"216pt\" viewBox=\"0.00 0.00 1302.41 216.00\" width=\"1302pt\" xmlns=\"http://www.w3.org/2000/svg\" xmlns:xlink=\"http://www.w3.org/1999/xlink\">\n",
       "<g class=\"graph\" id=\"graph0\" transform=\"scale(1 1) rotate(0) translate(4 212)\">\n",
       "<title>%3</title>\n",
       "<polygon fill=\"#ffffff\" points=\"-4,4 -4,-212 1298.4092,-212 1298.4092,4 -4,4\" stroke=\"transparent\"/>\n",
       "<!-- f40b8:/notebooks/01&#45;Preprocess.ipynb -->\n",
       "<g class=\"node\" id=\"node1\">\n",
       "<title>f40b8:/notebooks/01-Preprocess.ipynb</title>\n",
       "<ellipse cx=\"467.2046\" cy=\"-190\" fill=\"none\" rx=\"166.3872\" ry=\"18\" stroke=\"#000000\"/>\n",
       "<text fill=\"#000000\" font-family=\"DejaVu Sans\" font-size=\"14.00\" text-anchor=\"middle\" x=\"467.2046\" y=\"-185.8\">#f40b8:/notebooks/01-Preprocess.ipynb</text>\n",
       "</g>\n",
       "<!-- d8ba1: -->\n",
       "<g class=\"node\" id=\"node2\">\n",
       "<title>d8ba1:</title>\n",
       "<polygon fill=\"none\" points=\"1294.6138,-122 -.2047,-122 -.2047,-86 1294.6138,-86 1294.6138,-122\" stroke=\"#000000\"/>\n",
       "<text fill=\"#000000\" font-family=\"DejaVu Sans\" font-size=\"14.00\" text-anchor=\"middle\" x=\"647.2046\" y=\"-99.8\">#d8ba1::renku run papermill -p input_path data/flights/2019-01-flights.csv.zip -p output_path data/output/2019-01-flights-preprocessed.csv notebooks/01-Preprocess.ipynb notebooks/01-Preprocess.ran.ipynb</text>\n",
       "</g>\n",
       "<!-- f40b8:/notebooks/01&#45;Preprocess.ipynb&#45;&gt;d8ba1: -->\n",
       "<g class=\"edge\" id=\"edge1\">\n",
       "<title>f40b8:/notebooks/01-Preprocess.ipynb-&gt;d8ba1:</title>\n",
       "<path d=\"M504.0646,-172.3891C531.9349,-159.0733 570.3974,-140.6967 600.4344,-126.3457\" fill=\"none\" stroke=\"#000000\"/>\n",
       "<polygon fill=\"#000000\" points=\"601.9505,-129.5004 609.4647,-122.0313 598.9328,-123.1843 601.9505,-129.5004\" stroke=\"#000000\"/>\n",
       "<text fill=\"#000000\" font-family=\"Times,serif\" font-size=\"14.00\" text-anchor=\"middle\" x=\"589.5942\" y=\"-142.8\">input_5</text>\n",
       "</g>\n",
       "<!-- d8ba1:/notebooks/01&#45;Preprocess.ran.ipynb -->\n",
       "<g class=\"node\" id=\"node4\">\n",
       "<title>d8ba1:/notebooks/01-Preprocess.ran.ipynb</title>\n",
       "<ellipse cx=\"435.2046\" cy=\"-18\" fill=\"none\" rx=\"184.2871\" ry=\"18\" stroke=\"#000000\"/>\n",
       "<text fill=\"#000000\" font-family=\"DejaVu Sans\" font-size=\"14.00\" text-anchor=\"middle\" x=\"435.2046\" y=\"-13.8\">#d8ba1:/notebooks/01-Preprocess.ran.ipynb</text>\n",
       "</g>\n",
       "<!-- d8ba1:&#45;&gt;d8ba1:/notebooks/01&#45;Preprocess.ran.ipynb -->\n",
       "<g class=\"edge\" id=\"edge3\">\n",
       "<title>d8ba1:-&gt;d8ba1:/notebooks/01-Preprocess.ran.ipynb</title>\n",
       "<path d=\"M602.7624,-85.9716C569.3568,-72.4202 523.4686,-53.8052 488.1597,-39.4818\" fill=\"none\" stroke=\"#000000\"/>\n",
       "<polygon fill=\"#000000\" points=\"489.0827,-36.0793 478.5004,-35.5634 486.4513,-42.5659 489.0827,-36.0793\" stroke=\"#000000\"/>\n",
       "<text fill=\"#000000\" font-family=\"Times,serif\" font-size=\"14.00\" text-anchor=\"middle\" x=\"579.0942\" y=\"-56.8\">output_1</text>\n",
       "</g>\n",
       "<!-- d8ba1:/data/output/2019&#45;01&#45;flights&#45;preprocessed.csv -->\n",
       "<g class=\"node\" id=\"node5\">\n",
       "<title>d8ba1:/data/output/2019-01-flights-preprocessed.csv</title>\n",
       "<ellipse cx=\"859.2046\" cy=\"-18\" fill=\"none\" rx=\"221.9919\" ry=\"18\" stroke=\"#000000\"/>\n",
       "<text fill=\"#000000\" font-family=\"DejaVu Sans\" font-size=\"14.00\" text-anchor=\"middle\" x=\"859.2046\" y=\"-13.8\">#d8ba1:/data/output/2019-01-flights-preprocessed.csv</text>\n",
       "</g>\n",
       "<!-- d8ba1:&#45;&gt;d8ba1:/data/output/2019&#45;01&#45;flights&#45;preprocessed.csv -->\n",
       "<g class=\"edge\" id=\"edge4\">\n",
       "<title>d8ba1:-&gt;d8ba1:/data/output/2019-01-flights-preprocessed.csv</title>\n",
       "<path d=\"M691.6467,-85.9716C724.9414,-72.4653 770.6358,-53.9288 805.8972,-39.6247\" fill=\"none\" stroke=\"#000000\"/>\n",
       "<polygon fill=\"#000000\" points=\"807.5963,-42.7125 815.5471,-35.7101 804.9649,-36.2259 807.5963,-42.7125\" stroke=\"#000000\"/>\n",
       "<text fill=\"#000000\" font-family=\"Times,serif\" font-size=\"14.00\" text-anchor=\"middle\" x=\"790.0942\" y=\"-56.8\">output_0</text>\n",
       "</g>\n",
       "<!-- ac0d9:/data/flights/2019&#45;01&#45;flights.csv.zip -->\n",
       "<g class=\"node\" id=\"node3\">\n",
       "<title>ac0d9:/data/flights/2019-01-flights.csv.zip</title>\n",
       "<ellipse cx=\"828.2046\" cy=\"-190\" fill=\"none\" rx=\"176.6909\" ry=\"18\" stroke=\"#000000\"/>\n",
       "<text fill=\"#000000\" font-family=\"DejaVu Sans\" font-size=\"14.00\" text-anchor=\"middle\" x=\"828.2046\" y=\"-185.8\">#ac0d9:/data/flights/2019-01-flights.csv.zip</text>\n",
       "</g>\n",
       "<!-- ac0d9:/data/flights/2019&#45;01&#45;flights.csv.zip&#45;&gt;d8ba1: -->\n",
       "<g class=\"edge\" id=\"edge2\">\n",
       "<title>ac0d9:/data/flights/2019-01-flights.csv.zip-&gt;d8ba1:</title>\n",
       "<path d=\"M791.1398,-172.3891C763.1147,-159.0733 724.4384,-140.6967 694.2346,-126.3457\" fill=\"none\" stroke=\"#000000\"/>\n",
       "<polygon fill=\"#000000\" points=\"695.6885,-123.1616 685.1542,-122.0313 692.6844,-129.4842 695.6885,-123.1616\" stroke=\"#000000\"/>\n",
       "<text fill=\"#000000\" font-family=\"Times,serif\" font-size=\"14.00\" text-anchor=\"middle\" x=\"770.5942\" y=\"-142.8\">input_2</text>\n",
       "</g>\n",
       "</g>\n",
       "</svg>"
      ],
      "text/plain": [
       "<IPython.core.display.SVG object>"
      ]
     },
     "execution_count": 80,
     "metadata": {},
     "output_type": "execute_result"
    }
   ],
   "source": [
    "graph = !renku log --format dot | dot -Tsvg\n",
    "SVG(\"\\n\".join(graph))"
   ]
  },
  {
   "cell_type": "markdown",
   "metadata": {},
   "source": [
    "# Verify preprocessing\n",
    "\n",
    "Let us examine the preprocessed data to make sure we interpreted the original data correctly.\n",
    "\n",
    "To do this, we use another notebook. This notebook takes the preprocessed data and visualizes it so we can see if it conforms to our expectations regarding how it should look."
   ]
  },
  {
   "cell_type": "code",
   "execution_count": 82,
   "metadata": {},
   "outputs": [],
   "source": [
    "%cp ../templates/02-Inspection-00.ipynb ./notebooks/02-Inspection.ipynb "
   ]
  },
  {
   "cell_type": "markdown",
   "metadata": {},
   "source": [
    "## Inspect preprocessed data\n",
    "\n",
    "Run through the [02-Inspection.ipynb](./renku-tutorial-flights/notebooks/02-Inspection.ipynb) notebook. and then come back here."
   ]
  },
  {
   "cell_type": "markdown",
   "metadata": {},
   "source": [
    "### Modify the notebook to use papermill (again)\n",
    "\n",
    "The 02-Inspection.ipynb notebook was already written with papermill in mind. The one parameter is already declared in its own cell. To make the notebook  papermill compatible all that needs to be done is to tag the parameters cell. This is done by editing the cell metadata and adding the following:"
   ]
  },
  {
   "cell_type": "markdown",
   "metadata": {},
   "source": [
    "## **Exercise 1**\n",
    "\n",
    "Make the 02-Inspection.ipynb work with papermill."
   ]
  },
  {
   "cell_type": "code",
   "execution_count": 83,
   "metadata": {},
   "outputs": [],
   "source": [
    "# Ex. 1 Solution\n",
    "# Update the notebook to a version with parameters\n",
    "# %cp ../templates/02-Inspection-01-papermill.ipynb ./notebooks/02-Inspection.ipynb "
   ]
  },
  {
   "cell_type": "markdown",
   "metadata": {},
   "source": [
    "### Resolve the dirty repository state\n",
    "\n",
    "Again, we need to ensure the working directory is clean."
   ]
  },
  {
   "cell_type": "code",
   "execution_count": 84,
   "metadata": {},
   "outputs": [
    {
     "name": "stdout",
     "output_type": "stream",
     "text": [
      "On branch master\n",
      "Untracked files:\n",
      "  (use \"git add <file>...\" to include in what will be committed)\n",
      "\n",
      "\t\u001b[31mnotebooks/02-Inspection.ipynb\u001b[m\n",
      "\n",
      "nothing added to commit but untracked files present (use \"git add\" to track)\n"
     ]
    }
   ],
   "source": [
    "!git status"
   ]
  },
  {
   "cell_type": "markdown",
   "metadata": {},
   "source": [
    "We added a notebook. Let us put it into git and make a commit."
   ]
  },
  {
   "cell_type": "code",
   "execution_count": 85,
   "metadata": {},
   "outputs": [
    {
     "name": "stdout",
     "output_type": "stream",
     "text": [
      "[master 9709c3c] Inspecting the results of preprocessing.\n",
      " 1 file changed, 134 insertions(+)\n",
      " create mode 100644 notebooks/02-Inspection.ipynb\n"
     ]
    }
   ],
   "source": [
    "!git add notebooks/02-Inspection.ipynb\n",
    "!git commit -m\"Inspecting the results of preprocessing.\""
   ]
  },
  {
   "cell_type": "markdown",
   "metadata": {},
   "source": [
    "Now we can run the notebook with papermill"
   ]
  },
  {
   "cell_type": "code",
   "execution_count": 86,
   "metadata": {},
   "outputs": [
    {
     "name": "stderr",
     "output_type": "stream",
     "text": [
      "Input Notebook:  notebooks/02-Inspection.ipynb\n",
      "Output Notebook: notebooks/02-Inspection.ran.ipynb\n",
      "100%|██████████| 12/12 [00:07<00:00,  1.59it/s]\n"
     ]
    }
   ],
   "source": [
    "%%bash\n",
    "renku run papermill \\\n",
    "  -p input_path data/output/2019-01-flights-preprocessed.csv \\\n",
    "  -p output_path data/output/2019-01-flights-delay-fivenums.csv \\\n",
    "  notebooks/02-Inspection.ipynb \\\n",
    "  notebooks/02-Inspection.ran.ipynb"
   ]
  },
  {
   "cell_type": "markdown",
   "metadata": {},
   "source": [
    "<div style=\"color: #004085; background-color: #cce5ff; border-color: #b8daff; padding: .75rem 1.25rem; margin-bottom: 1rem; border: 1px solid transparent; border-radius: .25rem; font-size: larger;\">\n",
    "Now we have a workflow in Renku!\n",
    "</div>\n",
    "\n"
   ]
  },
  {
   "cell_type": "markdown",
   "metadata": {},
   "source": [
    "If you have dot available, you can view the graph visually"
   ]
  },
  {
   "cell_type": "code",
   "execution_count": 97,
   "metadata": {},
   "outputs": [
    {
     "data": {
      "image/svg+xml": [
       "<svg height=\"175pt\" viewBox=\"0.00 0.00 864.00 174.90\" width=\"864pt\" xmlns=\"http://www.w3.org/2000/svg\" xmlns:xlink=\"http://www.w3.org/1999/xlink\">\n",
       "<g class=\"graph\" id=\"graph0\" transform=\"scale(.4508 .4508) rotate(0) translate(4 384)\">\n",
       "<title>%3</title>\n",
       "<polygon fill=\"#ffffff\" points=\"-4,4 -4,-384 1912.6802,-384 1912.6802,4 -4,4\" stroke=\"transparent\"/>\n",
       "<!-- d8ba1:/data/output/2019&#45;01&#45;flights&#45;preprocessed.csv -->\n",
       "<g class=\"node\" id=\"node1\">\n",
       "<title>d8ba1:/data/output/2019-01-flights-preprocessed.csv</title>\n",
       "<ellipse cx=\"1049.4756\" cy=\"-190\" fill=\"none\" rx=\"221.9919\" ry=\"18\" stroke=\"#000000\"/>\n",
       "<text fill=\"#000000\" font-family=\"DejaVu Sans\" font-size=\"14.00\" text-anchor=\"middle\" x=\"1049.4756\" y=\"-185.8\">#d8ba1:/data/output/2019-01-flights-preprocessed.csv</text>\n",
       "</g>\n",
       "<!-- 04a1f: -->\n",
       "<g class=\"node\" id=\"node2\">\n",
       "<title>04a1f:</title>\n",
       "<polygon fill=\"none\" points=\"1356.9268,-122 .0244,-122 .0244,-86 1356.9268,-86 1356.9268,-122\" stroke=\"#000000\"/>\n",
       "<text fill=\"#000000\" font-family=\"DejaVu Sans\" font-size=\"14.00\" text-anchor=\"middle\" x=\"678.4756\" y=\"-99.8\">#04a1f::renku run papermill -p input_path data/output/2019-01-flights-preprocessed.csv -p output_path data/output/2019-01-flights-delay-fivenums.csv notebooks/02-Inspection.ipynb notebooks/02-Inspection.ran.ipynb</text>\n",
       "</g>\n",
       "<!-- d8ba1:/data/output/2019&#45;01&#45;flights&#45;preprocessed.csv&#45;&gt;04a1f: -->\n",
       "<g class=\"edge\" id=\"edge1\">\n",
       "<title>d8ba1:/data/output/2019-01-flights-preprocessed.csv-&gt;04a1f:</title>\n",
       "<path d=\"M976.1779,-173.0092C915.9428,-159.0463 830.4245,-139.2227 766.4894,-124.4021\" fill=\"none\" stroke=\"#000000\"/>\n",
       "<polygon fill=\"#000000\" points=\"766.9528,-120.9168 756.4207,-122.0681 765.372,-127.736 766.9528,-120.9168\" stroke=\"#000000\"/>\n",
       "<text fill=\"#000000\" font-family=\"Times,serif\" font-size=\"14.00\" text-anchor=\"middle\" x=\"907.8652\" y=\"-142.8\">input_2</text>\n",
       "</g>\n",
       "<!-- 04a1f:/notebooks/02&#45;Inspection.ran.ipynb -->\n",
       "<g class=\"node\" id=\"node7\">\n",
       "<title>04a1f:/notebooks/02-Inspection.ran.ipynb</title>\n",
       "<ellipse cx=\"468.4756\" cy=\"-18\" fill=\"none\" rx=\"177.0384\" ry=\"18\" stroke=\"#000000\"/>\n",
       "<text fill=\"#000000\" font-family=\"DejaVu Sans\" font-size=\"14.00\" text-anchor=\"middle\" x=\"468.4756\" y=\"-13.8\">#04a1f:/notebooks/02-Inspection.ran.ipynb</text>\n",
       "</g>\n",
       "<!-- 04a1f:&#45;&gt;04a1f:/notebooks/02&#45;Inspection.ran.ipynb -->\n",
       "<g class=\"edge\" id=\"edge5\">\n",
       "<title>04a1f:-&gt;04a1f:/notebooks/02-Inspection.ran.ipynb</title>\n",
       "<path d=\"M634.4527,-85.9716C601.3622,-72.4202 555.9069,-53.8052 520.9311,-39.4818\" fill=\"none\" stroke=\"#000000\"/>\n",
       "<polygon fill=\"#000000\" points=\"521.9435,-36.1143 511.363,-35.5634 519.2906,-42.5922 521.9435,-36.1143\" stroke=\"#000000\"/>\n",
       "<text fill=\"#000000\" font-family=\"Times,serif\" font-size=\"14.00\" text-anchor=\"middle\" x=\"611.3652\" y=\"-56.8\">output_1</text>\n",
       "</g>\n",
       "<!-- 04a1f:/data/output/2019&#45;01&#45;flights&#45;delay&#45;fivenums.csv -->\n",
       "<g class=\"node\" id=\"node8\">\n",
       "<title>04a1f:/data/output/2019-01-flights-delay-fivenums.csv</title>\n",
       "<ellipse cx=\"889.4756\" cy=\"-18\" fill=\"none\" rx=\"225.349\" ry=\"18\" stroke=\"#000000\"/>\n",
       "<text fill=\"#000000\" font-family=\"DejaVu Sans\" font-size=\"14.00\" text-anchor=\"middle\" x=\"889.4756\" y=\"-13.8\">#04a1f:/data/output/2019-01-flights-delay-fivenums.csv</text>\n",
       "</g>\n",
       "<!-- 04a1f:&#45;&gt;04a1f:/data/output/2019&#45;01&#45;flights&#45;delay&#45;fivenums.csv -->\n",
       "<g class=\"edge\" id=\"edge6\">\n",
       "<title>04a1f:-&gt;04a1f:/data/output/2019-01-flights-delay-fivenums.csv</title>\n",
       "<path d=\"M722.7081,-85.9716C755.8457,-72.4653 801.3246,-53.9288 836.4197,-39.6247\" fill=\"none\" stroke=\"#000000\"/>\n",
       "<polygon fill=\"#000000\" points=\"838.0848,-42.7256 846.0241,-35.7101 835.4427,-36.2434 838.0848,-42.7256\" stroke=\"#000000\"/>\n",
       "<text fill=\"#000000\" font-family=\"Times,serif\" font-size=\"14.00\" text-anchor=\"middle\" x=\"822.3652\" y=\"-56.8\">output_0</text>\n",
       "</g>\n",
       "<!-- 9709c:/notebooks/02&#45;Inspection.ipynb -->\n",
       "<g class=\"node\" id=\"node3\">\n",
       "<title>9709c:/notebooks/02-Inspection.ipynb</title>\n",
       "<ellipse cx=\"645.4756\" cy=\"-190\" fill=\"none\" rx=\"163.9904\" ry=\"18\" stroke=\"#000000\"/>\n",
       "<text fill=\"#000000\" font-family=\"DejaVu Sans\" font-size=\"14.00\" text-anchor=\"middle\" x=\"645.4756\" y=\"-185.8\">#9709c:/notebooks/02-Inspection.ipynb</text>\n",
       "</g>\n",
       "<!-- 9709c:/notebooks/02&#45;Inspection.ipynb&#45;&gt;04a1f: -->\n",
       "<g class=\"edge\" id=\"edge2\">\n",
       "<title>9709c:/notebooks/02-Inspection.ipynb-&gt;04a1f:</title>\n",
       "<path d=\"M652.474,-171.7616C656.9367,-160.1316 662.8061,-144.8357 667.8388,-131.72\" fill=\"none\" stroke=\"#000000\"/>\n",
       "<polygon fill=\"#000000\" points=\"671.1723,-132.8023 671.4872,-122.2121 664.637,-130.2945 671.1723,-132.8023\" stroke=\"#000000\"/>\n",
       "<text fill=\"#000000\" font-family=\"Times,serif\" font-size=\"14.00\" text-anchor=\"middle\" x=\"685.8652\" y=\"-142.8\">input_5</text>\n",
       "</g>\n",
       "<!-- f40b8:/notebooks/01&#45;Preprocess.ipynb -->\n",
       "<g class=\"node\" id=\"node4\">\n",
       "<title>f40b8:/notebooks/01-Preprocess.ipynb</title>\n",
       "<ellipse cx=\"1081.4756\" cy=\"-362\" fill=\"none\" rx=\"166.3872\" ry=\"18\" stroke=\"#000000\"/>\n",
       "<text fill=\"#000000\" font-family=\"DejaVu Sans\" font-size=\"14.00\" text-anchor=\"middle\" x=\"1081.4756\" y=\"-357.8\">#f40b8:/notebooks/01-Preprocess.ipynb</text>\n",
       "</g>\n",
       "<!-- d8ba1: -->\n",
       "<g class=\"node\" id=\"node5\">\n",
       "<title>d8ba1:</title>\n",
       "<polygon fill=\"none\" points=\"1908.8848,-294 614.0663,-294 614.0663,-258 1908.8848,-258 1908.8848,-294\" stroke=\"#000000\"/>\n",
       "<text fill=\"#000000\" font-family=\"DejaVu Sans\" font-size=\"14.00\" text-anchor=\"middle\" x=\"1261.4756\" y=\"-271.8\">#d8ba1::renku run papermill -p input_path data/flights/2019-01-flights.csv.zip -p output_path data/output/2019-01-flights-preprocessed.csv notebooks/01-Preprocess.ipynb notebooks/01-Preprocess.ran.ipynb</text>\n",
       "</g>\n",
       "<!-- f40b8:/notebooks/01&#45;Preprocess.ipynb&#45;&gt;d8ba1: -->\n",
       "<g class=\"edge\" id=\"edge3\">\n",
       "<title>f40b8:/notebooks/01-Preprocess.ipynb-&gt;d8ba1:</title>\n",
       "<path d=\"M1118.3356,-344.3891C1146.2059,-331.0733 1184.6684,-312.6967 1214.7054,-298.3457\" fill=\"none\" stroke=\"#000000\"/>\n",
       "<polygon fill=\"#000000\" points=\"1216.2215,-301.5004 1223.7357,-294.0313 1213.2038,-295.1843 1216.2215,-301.5004\" stroke=\"#000000\"/>\n",
       "<text fill=\"#000000\" font-family=\"Times,serif\" font-size=\"14.00\" text-anchor=\"middle\" x=\"1202.8652\" y=\"-314.8\">input_5</text>\n",
       "</g>\n",
       "<!-- d8ba1:&#45;&gt;d8ba1:/data/output/2019&#45;01&#45;flights&#45;preprocessed.csv -->\n",
       "<g class=\"edge\" id=\"edge8\">\n",
       "<title>d8ba1:-&gt;d8ba1:/data/output/2019-01-flights-preprocessed.csv</title>\n",
       "<path d=\"M1217.0334,-257.9716C1183.7388,-244.4653 1138.0443,-225.9288 1102.7829,-211.6247\" fill=\"none\" stroke=\"#000000\"/>\n",
       "<polygon fill=\"#000000\" points=\"1103.7153,-208.2259 1093.133,-207.7101 1101.0839,-214.7125 1103.7153,-208.2259\" stroke=\"#000000\"/>\n",
       "<text fill=\"#000000\" font-family=\"Times,serif\" font-size=\"14.00\" text-anchor=\"middle\" x=\"1192.3652\" y=\"-228.8\">output_0</text>\n",
       "</g>\n",
       "<!-- d8ba1:/notebooks/01&#45;Preprocess.ran.ipynb -->\n",
       "<g class=\"node\" id=\"node9\">\n",
       "<title>d8ba1:/notebooks/01-Preprocess.ran.ipynb</title>\n",
       "<ellipse cx=\"1473.4756\" cy=\"-190\" fill=\"none\" rx=\"184.2871\" ry=\"18\" stroke=\"#000000\"/>\n",
       "<text fill=\"#000000\" font-family=\"DejaVu Sans\" font-size=\"14.00\" text-anchor=\"middle\" x=\"1473.4756\" y=\"-185.8\">#d8ba1:/notebooks/01-Preprocess.ran.ipynb</text>\n",
       "</g>\n",
       "<!-- d8ba1:&#45;&gt;d8ba1:/notebooks/01&#45;Preprocess.ran.ipynb -->\n",
       "<g class=\"edge\" id=\"edge7\">\n",
       "<title>d8ba1:-&gt;d8ba1:/notebooks/01-Preprocess.ran.ipynb</title>\n",
       "<path d=\"M1305.9177,-257.9716C1339.3234,-244.4202 1385.2116,-225.8052 1420.5205,-211.4818\" fill=\"none\" stroke=\"#000000\"/>\n",
       "<polygon fill=\"#000000\" points=\"1422.2289,-214.5659 1430.1797,-207.5634 1419.5975,-208.0793 1422.2289,-214.5659\" stroke=\"#000000\"/>\n",
       "<text fill=\"#000000\" font-family=\"Times,serif\" font-size=\"14.00\" text-anchor=\"middle\" x=\"1404.3652\" y=\"-228.8\">output_1</text>\n",
       "</g>\n",
       "<!-- ac0d9:/data/flights/2019&#45;01&#45;flights.csv.zip -->\n",
       "<g class=\"node\" id=\"node6\">\n",
       "<title>ac0d9:/data/flights/2019-01-flights.csv.zip</title>\n",
       "<ellipse cx=\"1442.4756\" cy=\"-362\" fill=\"none\" rx=\"176.6909\" ry=\"18\" stroke=\"#000000\"/>\n",
       "<text fill=\"#000000\" font-family=\"DejaVu Sans\" font-size=\"14.00\" text-anchor=\"middle\" x=\"1442.4756\" y=\"-357.8\">#ac0d9:/data/flights/2019-01-flights.csv.zip</text>\n",
       "</g>\n",
       "<!-- ac0d9:/data/flights/2019&#45;01&#45;flights.csv.zip&#45;&gt;d8ba1: -->\n",
       "<g class=\"edge\" id=\"edge4\">\n",
       "<title>ac0d9:/data/flights/2019-01-flights.csv.zip-&gt;d8ba1:</title>\n",
       "<path d=\"M1405.4108,-344.3891C1377.3856,-331.0733 1338.7094,-312.6967 1308.5056,-298.3457\" fill=\"none\" stroke=\"#000000\"/>\n",
       "<polygon fill=\"#000000\" points=\"1309.9595,-295.1616 1299.4251,-294.0313 1306.9554,-301.4842 1309.9595,-295.1616\" stroke=\"#000000\"/>\n",
       "<text fill=\"#000000\" font-family=\"Times,serif\" font-size=\"14.00\" text-anchor=\"middle\" x=\"1383.8652\" y=\"-314.8\">input_2</text>\n",
       "</g>\n",
       "</g>\n",
       "</svg>"
      ],
      "text/plain": [
       "<IPython.core.display.SVG object>"
      ]
     },
     "execution_count": 97,
     "metadata": {
      "image/svg+xml": {
       "height": 300
      }
     },
     "output_type": "execute_result"
    }
   ],
   "source": [
    "# graph = !renku log --format dot | dot -Tsvg -Gsize=12,10\n",
    "# SVG(\"\\n\".join(graph))"
   ]
  },
  {
   "cell_type": "markdown",
   "metadata": {},
   "source": [
    "If we want to see what we have done so far, we can just look at the git log."
   ]
  },
  {
   "cell_type": "code",
   "execution_count": 15,
   "metadata": {},
   "outputs": [
    {
     "name": "stdout",
     "output_type": "stream",
     "text": [
      "* \u001b[33m7cb0b83\u001b[m\u001b[33m (\u001b[m\u001b[1;36mHEAD -> \u001b[m\u001b[1;32mmaster\u001b[m\u001b[33m)\u001b[m renku dataset add flights https://renkulab.io/gitlab/cramakri/renku-tutorial-flights-data/blob/master/data/v1/2019-01-flights.csv.zip\n",
      "* \u001b[33me9603dd\u001b[m renku dataset create flights\n",
      "* \u001b[33mf95aaf3\u001b[m Declare the python environment for the project.\n",
      "* \u001b[33m77380cf\u001b[m renku init renku-tutorial-flights\n"
     ]
    }
   ],
   "source": [
    "!git log --graph --oneline"
   ]
  }
 ],
 "metadata": {
  "kernelspec": {
   "display_name": "Python 3",
   "language": "python",
   "name": "python3"
  },
  "language_info": {
   "codemirror_mode": {
    "name": "ipython",
    "version": 3
   },
   "file_extension": ".py",
   "mimetype": "text/x-python",
   "name": "python",
   "nbconvert_exporter": "python",
   "pygments_lexer": "ipython3",
   "version": "3.7.3"
  }
 },
 "nbformat": 4,
 "nbformat_minor": 2
}
