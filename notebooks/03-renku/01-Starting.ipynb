{
 "cells": [
  {
   "cell_type": "markdown",
   "metadata": {},
   "source": [
    "# Starting a Renku project"
   ]
  },
  {
   "cell_type": "markdown",
   "metadata": {},
   "source": [
    "## Initializing a repository\n",
    "\n",
    "The first thing to do when starting a project is to initialize a repository. A Renku repository is just a git repository with a little bit of extra structure. \n",
    "\n",
    "Note: In this tutorial, we are placing the repository within another git repository. Normally, you would want to use a submodule for such cases. Here, we have placed the folder `renku-tutorial-flights` in the `.gitignore` file."
   ]
  },
  {
   "cell_type": "code",
   "execution_count": null,
   "metadata": {},
   "outputs": [],
   "source": [
    "!renku init renku-tutorial-flights"
   ]
  },
  {
   "cell_type": "markdown",
   "metadata": {},
   "source": [
    "Let is take a look at what's inside the renku repository"
   ]
  },
  {
   "cell_type": "code",
   "execution_count": null,
   "metadata": {},
   "outputs": [],
   "source": [
    "%ls -al renku-tutorial-flights"
   ]
  },
  {
   "cell_type": "markdown",
   "metadata": {},
   "source": [
    "It's just a normal git repository with a few files in there. \n",
    "\n",
    "The `.reknu` folder is where renku stores internal information. Similar to the `.git` folder, it is not designed for users to regularly interact with, but it is possible to do so if necessary.\n",
    "\n",
    "The files `.gitlab-ci.yml` and `Dockerfile` we will look at soon. That leaves `requirements.txt`, which we already know."
   ]
  },
  {
   "cell_type": "markdown",
   "metadata": {},
   "source": [
    "## Housekeeping\n",
    "\n",
    "For the rest of the tutorial, we will work in the renku repository"
   ]
  },
  {
   "cell_type": "code",
   "execution_count": null,
   "metadata": {},
   "outputs": [],
   "source": [
    "%cd renku-tutorial-flights"
   ]
  },
  {
   "cell_type": "markdown",
   "metadata": {},
   "source": [
    "## Importing data\n",
    "\n",
    "There are several ways renku can import data. Renku can import data from another renku or git repository, from a URL, or from a file on the file system. We will start with the last of these options."
   ]
  },
  {
   "cell_type": "markdown",
   "metadata": {},
   "source": [
    "### Create a dataset\n",
    "\n",
    "First, we will create a dataset which will group together the files we want to work with."
   ]
  },
  {
   "cell_type": "code",
   "execution_count": null,
   "metadata": {},
   "outputs": [],
   "source": [
    "!renku dataset create flights"
   ]
  },
  {
   "cell_type": "markdown",
   "metadata": {},
   "source": [
    "### Add data\n",
    "\n",
    "And we will get some data and add it to the dataset."
   ]
  },
  {
   "cell_type": "code",
   "execution_count": null,
   "metadata": {},
   "outputs": [],
   "source": [
    "%%bash\n",
    "# Download the data we will work with and add it to a dataset\n",
    "curl -L -o /tmp/2019-01-flights.csv.zip https://www.dropbox.com/s/99w7evit5y7jxb3/2019-01-flights.csv.zip?dl=0\n",
    "renku dataset add flights /tmp/2019-01-flights.csv.zip"
   ]
  },
  {
   "cell_type": "markdown",
   "metadata": {},
   "source": [
    "This copies the data into the folder for the flights dataset."
   ]
  },
  {
   "cell_type": "code",
   "execution_count": null,
   "metadata": {},
   "outputs": [],
   "source": [
    "!renku dataset ls-files flights"
   ]
  },
  {
   "cell_type": "markdown",
   "metadata": {},
   "source": [
    "As you probably know, git is not normally a good system for storing binary artifacts. For this, renku uses git-lfs. For the moment, just remember that. It's something we will get back to when we look at the technical details of renku."
   ]
  },
  {
   "cell_type": "code",
   "execution_count": null,
   "metadata": {},
   "outputs": [],
   "source": [
    "!git lfs track"
   ]
  },
  {
   "cell_type": "markdown",
   "metadata": {},
   "source": [
    "What have we done so far? This is easy to find out! Just look at the git log."
   ]
  },
  {
   "cell_type": "code",
   "execution_count": null,
   "metadata": {},
   "outputs": [],
   "source": [
    "!git log --graph --oneline"
   ]
  },
  {
   "cell_type": "markdown",
   "metadata": {},
   "source": [
    "# Inspect and pre-process data"
   ]
  },
  {
   "cell_type": "markdown",
   "metadata": {},
   "source": [
    "There are notebooks prepared in the templates folder. One of these notebooks will get us started with reading in and pre-processing the data."
   ]
  },
  {
   "cell_type": "code",
   "execution_count": null,
   "metadata": {},
   "outputs": [],
   "source": [
    "%mkdir notebooks\n",
    "%cp ../templates/01-Preprocess-00.ipynb ./notebooks/01-Preprocess.ipynb "
   ]
  },
  {
   "cell_type": "markdown",
   "metadata": {},
   "source": [
    "## Launch jupyter within the project\n",
    "\n",
    "Keep this window open here, but we will also launch another jupyter server to run within the renku project."
   ]
  },
  {
   "cell_type": "code",
   "execution_count": null,
   "metadata": {},
   "outputs": [],
   "source": [
    "!jupyter lab &"
   ]
  },
  {
   "cell_type": "markdown",
   "metadata": {},
   "source": [
    "## Inspect data\n",
    "\n",
    "In the other jupyter server, navigate to the notebooks folder and run through the '01-preprocess.ipynb' notebook."
   ]
  },
  {
   "cell_type": "markdown",
   "metadata": {},
   "source": [
    "## Preprocess data\n",
    "\n",
    "The data looks good. We want to save the output as a file. We could just save the file in the notebook, but then we have not recorded what input and processing were used to produce an output.\n",
    "\n",
    "Instead, we can use the tool **papermill** which runs Jupyter notebooks in a reproducible way. To do this, we need to convert the notebook into one that is papermill compatible and then run it with papermill."
   ]
  },
  {
   "cell_type": "markdown",
   "metadata": {},
   "source": [
    "### Modify the notebook to use papermill"
   ]
  },
  {
   "cell_type": "code",
   "execution_count": null,
   "metadata": {},
   "outputs": [],
   "source": [
    "%cp ../templates/01-Preprocess-01.ipynb ./notebooks/01-Preprocess.ipynb "
   ]
  },
  {
   "cell_type": "markdown",
   "metadata": {},
   "source": [
    "### Resolve the dirty repository state\n",
    "\n",
    "Renku uses information from git to determine the output of a program. For this to work, the working directory needs to be clean (without modifications)."
   ]
  },
  {
   "cell_type": "code",
   "execution_count": null,
   "metadata": {},
   "outputs": [],
   "source": [
    "!git status"
   ]
  },
  {
   "cell_type": "markdown",
   "metadata": {},
   "source": [
    "We added a notebook. Let us put it into git and make a commit."
   ]
  },
  {
   "cell_type": "code",
   "execution_count": null,
   "metadata": {},
   "outputs": [],
   "source": [
    "!git add notebooks\n",
    "!git commit -m\"Initial data inspection and processing\""
   ]
  },
  {
   "cell_type": "markdown",
   "metadata": {},
   "source": [
    "Now we can run the notebook with papermill"
   ]
  },
  {
   "cell_type": "code",
   "execution_count": null,
   "metadata": {},
   "outputs": [],
   "source": [
    "%%bash\n",
    "mkdir -p data/output\n",
    "renku run papermill \\\n",
    "  -p input_path data/flights/2019-01-flights.csv.zip \\\n",
    "  -p output_path data/output/2019-01-flights-preprocessed.csv \\\n",
    "  notebooks/01-Preprocess.ipynb \\\n",
    "  notebooks/01-Preprocess.ran.ipynb"
   ]
  },
  {
   "cell_type": "markdown",
   "metadata": {},
   "source": [
    "Let's take a look at how things look from the renku perspective."
   ]
  },
  {
   "cell_type": "code",
   "execution_count": null,
   "metadata": {},
   "outputs": [],
   "source": [
    "!renku status"
   ]
  },
  {
   "cell_type": "code",
   "execution_count": null,
   "metadata": {},
   "outputs": [],
   "source": [
    "!renku log"
   ]
  },
  {
   "cell_type": "code",
   "execution_count": null,
   "metadata": {},
   "outputs": [],
   "source": [
    "!renku log notebooks/01-Preprocess.ran.ipynb --format Makefile"
   ]
  }
 ],
 "metadata": {
  "kernelspec": {
   "display_name": "Python 3",
   "language": "python",
   "name": "python3"
  },
  "language_info": {
   "codemirror_mode": {
    "name": "ipython",
    "version": 3
   },
   "file_extension": ".py",
   "mimetype": "text/x-python",
   "name": "python",
   "nbconvert_exporter": "python",
   "pygments_lexer": "ipython3",
   "version": "3.7.3"
  }
 },
 "nbformat": 4,
 "nbformat_minor": 2
}
