{
 "cells": [
  {
   "cell_type": "markdown",
   "metadata": {
    "slideshow": {
     "slide_type": "slide"
    }
   },
   "source": [
    "# Technologies for Implementing Reproducibility"
   ]
  },
  {
   "cell_type": "markdown",
   "metadata": {
    "slideshow": {
     "slide_type": "slide"
    }
   },
   "source": [
    "## What can tools provide?\n",
    "\n",
    "* Allow others to recreate an analysis (detect fraud)\n",
    "* Allow others to understand how a result was created (detect fraud/errors/artifacts and verify/generalize)\n",
    "* Allow others to extend results (verify/generalize, reuse)"
   ]
  },
  {
   "cell_type": "markdown",
   "metadata": {
    "slideshow": {
     "slide_type": "slide"
    }
   },
   "source": [
    "# Four questions for reproducibility"
   ]
  },
  {
   "cell_type": "markdown",
   "metadata": {
    "slideshow": {
     "slide_type": "subslide"
    }
   },
   "source": [
    "For data science to be reproducible, it is necessary to make certain information explicit.\n",
    "\n",
    "1. What environment does the code run in?\n",
    "2. How are programs and data connected together to arrive at the final result?\n",
    "3. How did the code and data evolve?\n",
    "4. What does the code do?\n",
    "\n",
    "\n",
    "Humans need to cooperate and provide the information, but tools can help in some areas. Machine-readable formats for this information make it possible to automate tasks."
   ]
  },
  {
   "cell_type": "markdown",
   "metadata": {
    "slideshow": {
     "slide_type": "notes"
    }
   },
   "source": [
    "Solutions that make it possible to answer these questions are built on a common set of building blocks. For some  situations, you may be able to remain oblivious of the underlying technologies, but understanding a little about the building blocks can reduce the \"impedance mismatch\" that may encounter when using them."
   ]
  },
  {
   "cell_type": "markdown",
   "metadata": {
    "slideshow": {
     "slide_type": "slide"
    }
   },
   "source": [
    "# What environment does the code run in?"
   ]
  },
  {
   "cell_type": "markdown",
   "metadata": {
    "slideshow": {
     "slide_type": "subslide"
    }
   },
   "source": [
    "## Describing pure python environments\n",
    "\n",
    "<table style=\"font-size: 18px; margin: 10px; text-align: left\">\n",
    "    <thead>\n",
    "        <tr>\n",
    "            <th>tool</th>\n",
    "            <th>format</th>\n",
    "        </tr>\n",
    "    </thead>\n",
    "    <tbody>\n",
    "        <tr>\n",
    "            <th>pip</th>\n",
    "            <td>requirements.txt</td>\n",
    "        </tr>        \n",
    "        <tr>\n",
    "            <th>pipenv</th>\n",
    "            <td>Pipfile, requirements.txt</td>\n",
    "        </tr>\n",
    "        <tr>\n",
    "            <th>conda</th>\n",
    "            <td>requirements.txt, environment.yml</td>\n",
    "        </tr>\n",
    "     </tbody>\n",
    "</table>"
   ]
  },
  {
   "cell_type": "markdown",
   "metadata": {
    "slideshow": {
     "slide_type": "subslide"
    }
   },
   "source": [
    "## Describing environments with non-python dependencies\n",
    "\n",
    "<table style=\"font-size: 18px; margin: 10px; text-align: left\">\n",
    "    <thead>\n",
    "        <tr>\n",
    "            <th>tool</th>\n",
    "            <th>format</th>\n",
    "        </tr>\n",
    "    </thead>\n",
    "    <tbody>\n",
    "        <tr>\n",
    "            <th>conda</th>\n",
    "            <td>environment.yml</td>\n",
    "        </tr>\n",
    "        <tr>\n",
    "            <th>docker</th>\n",
    "            <td>Dockerfile</td>\n",
    "        </tr>\n",
    "     </tbody>\n",
    "</table>"
   ]
  },
  {
   "cell_type": "markdown",
   "metadata": {
    "slideshow": {
     "slide_type": "notes"
    }
   },
   "source": [
    "To reproduce a result, it is necessary to isolate the environment in which the computation runs. Of course, it would be possible to describe the environment as prose, but there are tools that can be used to automatically instantiate an environment when the environment is described in an executable format.\n",
    "\n",
    "For your own python code, you should at least write a *requirements.txt* file describing the requirements for your code, or you might want to think about packaging your code as a *python package*. Tools like [cookiecutter](https://cookiecutter.readthedocs.io/en/latest/) make this easy to do. There was a tutorial on this topic last year, [The Sheer Joy of Packaging](https://www.youtube.com/watch?v=xiI1i525ljE).\n",
    "\n",
    "Your software environment may be pure python, in which case a *requirements.txt* file is sufficient for describing it. But it have other dependencies as well. This is a list of tools that can be used to create an isolated environment \n",
    "\n",
    "\n",
    "<table style=\"font-size: 14px; margin: 10px; text-align: left\">\n",
    "    <thead>\n",
    "        <tr>\n",
    "            <th>tool</th>\n",
    "            <th>format</th>\n",
    "            <th>features</th>\n",
    "        </tr>\n",
    "    </thead>\n",
    "    <tbody>\n",
    "        <tr>\n",
    "            <th>pipenv</th>\n",
    "            <td>requirements.txt</td>\n",
    "            <td>makes it possible to define an environment for executing python code</td>\n",
    "        </tr>        \n",
    "        <tr>\n",
    "            <th>conda</th>\n",
    "            <td>requirements.txt, environment.yml</td>\n",
    "            <td>can be used to specify python environments, but is more general and can incorporate executables as well</td>\n",
    "        </tr>\n",
    "        <tr> \n",
    "            <th>containers</th>\n",
    "            <td>e.g., Dockerfile, .def</td>\n",
    "            <td>(e.g., docker, singularity) can isolate environments that can execute on a shared OS kernel</td>\n",
    "        </tr>\n",
    "        <tr>\n",
    "            <th>virtual machines</th>\n",
    "            <td>e.g., vbox, vagrant</td>\n",
    "            <td>isolate the OS kernel as well</td>\n",
    "        </tr>\n",
    "     </tbody>\n",
    "</table>\n",
    "\n",
    "These tools can be combined (e.g., running conda inside a container)\n"
   ]
  },
  {
   "cell_type": "markdown",
   "metadata": {
    "slideshow": {
     "slide_type": "slide"
    }
   },
   "source": [
    "# How are programs and data connected together to arrive at the final result?"
   ]
  },
  {
   "cell_type": "markdown",
   "metadata": {
    "slideshow": {
     "slide_type": "subslide"
    }
   },
   "source": [
    "## Documenting the workflow\n",
    "\n",
    "* **Scripts** are an imperative description of steps. \n",
    "* **Workflow tools** describe the steps in a declarative fashion and provide greater flexibility to introspect and execute steps in varying environments\n"
   ]
  },
  {
   "cell_type": "markdown",
   "metadata": {
    "slideshow": {
     "slide_type": "notes"
    }
   },
   "source": [
    "In data science, results are typically the end product of a series of steps. It is necessary to make those steps explicit so that others can retrace them."
   ]
  },
  {
   "cell_type": "markdown",
   "metadata": {
    "slideshow": {
     "slide_type": "subslide"
    }
   },
   "source": [
    "## Documenting provenance\n",
    "\n",
    "* PROV-O\n",
    "* Custom\n"
   ]
  },
  {
   "cell_type": "markdown",
   "metadata": {
    "slideshow": {
     "slide_type": "notes"
    }
   },
   "source": [
    "Workflows describe intermediary and final results with a focus on execution. Formats like **PROV-O** describe results with a focus on tracking the metadata around the results. The programs that were executed are one form of metadata, but so are information like who executed which steps, what is the source of the data, etc. These kinds of information are also important for reproducibility and allow you to answer questions like, \"Who should I talk to if I do not understand something?\""
   ]
  },
  {
   "cell_type": "markdown",
   "metadata": {
    "slideshow": {
     "slide_type": "slide"
    }
   },
   "source": [
    "# How did the code and data evolve?"
   ]
  },
  {
   "cell_type": "markdown",
   "metadata": {
    "slideshow": {
     "slide_type": "subslide"
    }
   },
   "source": [
    "## Use Version Control\n",
    "\n",
    "* Use git or mercurial (hg) for code and small text-based data formats (csv, json)\n",
    "* Use git-lfs, git-annex or another tool for binary or large data\n",
    "\n",
    "...and **write useful commit messages!**"
   ]
  },
  {
   "cell_type": "markdown",
   "metadata": {
    "slideshow": {
     "slide_type": "notes"
    }
   },
   "source": [
    "\n",
    "To understand how decisions that lead to the final result were made, it is helpful to trace how code and data evolved within a project.\n",
    "\n",
    "Version control software like **git** and **mercurial** (hg) provide a way to do that. Standard version-control software works well with text (e.g., code and certain data formats like csv or json), but have limitations for dealing with binary data. Tools like **git-lfs** and **git-annex** extend version control to the realm of data.\n",
    "\n",
    "Regardless of what tool you use, make sure you **write useful commit messages.** Good commit messages are concise and explain the intention behind the change that was made. The tools make it possible to view the exact modification in great detail, but it is not always possible to intuit the intention or reason for the change.\n",
    "\n",
    "### Advanced\n",
    "\n",
    "When collaborating, agree on a workflow. [OneFlow](https://www.endoflineblog.com/oneflow-a-git-branching-model-and-workflow) is likely a good fit for many data-science projects.\n",
    "\n",
    "Think about making the commit history readable. `git rebase` is a helpful for this, but be careful in using it.\n",
    "\n",
    "You may want to consider adopting a consistent structure to your commit messages like [Conventional Commits](https://www.conventionalcommits.org/en/v1.0.0-beta.4/)."
   ]
  },
  {
   "cell_type": "markdown",
   "metadata": {
    "slideshow": {
     "slide_type": "slide"
    }
   },
   "source": [
    "# What does the code do?"
   ]
  },
  {
   "cell_type": "markdown",
   "metadata": {
    "slideshow": {
     "slide_type": "subslide"
    }
   },
   "source": [
    "## Write Readable Code\n",
    "* Learn and use **clean-code** guidelines\n",
    "* Use **linters** and **formatters** to detect deviation from standards (e.g., [PEP-8](https://www.python.org/dev/peps/pep-0008/))\n",
    "* Write a **README.md** for your project"
   ]
  },
  {
   "cell_type": "markdown",
   "metadata": {
    "slideshow": {
     "slide_type": "notes"
    }
   },
   "source": [
    "To follow, understand, and verify what code is doing, it needs to be written in a way that facilitates this. Practices such as **literate programming** and **clean code** provide guidlines for structuring code for this purpose.\n",
    "\n",
    "Tools like **linters** and **formatters** can also help to keep code readable by enforcing conventions. **Unit tests** help explain the intention behind code, and make you more efficient when developing.\n",
    "\n",
    "A **README.md** can help explain the motivation for your project, describe the data sources and methods used, explain how to install and use the code, etc. It should be kept up-to-date.\n",
    "\n",
    "A standardized project structure can also help others understand your code quickly."
   ]
  },
  {
   "cell_type": "markdown",
   "metadata": {
    "slideshow": {
     "slide_type": "subslide"
    }
   },
   "source": [
    "## Use a standardized project structure\n",
    "\n",
    "<table class=\"table table-condensed\" style=\"font-size: 16px;\">\n",
    "    <thead>\n",
    "        <tr>\n",
    "            <th>Folder/File</th>\n",
    "            <th>Purpose</th>\n",
    "        </tr>\n",
    "    </thead>\n",
    "    <tbody>\n",
    "        <tr>\n",
    "            <th>README.md</th>\n",
    "            <td>Describe project</td>\n",
    "        </tr>        \n",
    "        <tr>\n",
    "            <th>data</th>\n",
    "            <td>Root for data</td>\n",
    "        </tr>\n",
    "        <tr> \n",
    "            <th>docs</th>\n",
    "            <td>Root for documentation</td>\n",
    "        </tr>\n",
    "        <tr>\n",
    "            <th>notebooks</th>\n",
    "            <td>Root for notebooks</td>\n",
    "        </tr>\n",
    "        <tr>\n",
    "            <th>src</th>\n",
    "            <td>Root for source code</td>\n",
    "        </tr>\n",
    "        <tr>\n",
    "            <th>src/python</th>\n",
    "            <td>Python code goes here</td>\n",
    "        </tr>\n",
    "        <tr>\n",
    "            <th>src/r</th>\n",
    "            <td>R code goes here</td>\n",
    "        </tr>\n",
    "     </tbody>\n",
    "</table>"
   ]
  },
  {
   "cell_type": "markdown",
   "metadata": {
    "slideshow": {
     "slide_type": "notes"
    }
   },
   "source": [
    "See also [Cookiecutter Data Science](https://drivendata.github.io/cookiecutter-data-science/)."
   ]
  },
  {
   "cell_type": "markdown",
   "metadata": {
    "slideshow": {
     "slide_type": "slide"
    }
   },
   "source": [
    "# Examples"
   ]
  },
  {
   "cell_type": "markdown",
   "metadata": {
    "slideshow": {
     "slide_type": "slide"
    }
   },
   "source": [
    "### How reproducible is this code?\n",
    "\n",
    "You can execute the following code and get the expected answer. In that sense it is *directly reproducible*."
   ]
  },
  {
   "cell_type": "code",
   "execution_count": null,
   "metadata": {
    "slideshow": {
     "slide_type": "subslide"
    }
   },
   "outputs": [],
   "source": [
    "%%bash\n",
    "# From https://benkurtovic.com\n",
    "echo \"\n",
    "(lambda _, __, ___, ____, _____, ______, _______, ________:\n",
    "    getattr(\n",
    "        __import__(True.__class__.__name__[_] + [].__class__.__name__[__]),\n",
    "        ().__class__.__eq__.__class__.__name__[:__] +\n",
    "        ().__iter__().__class__.__name__[_:][_____:________]\n",
    "    )(\n",
    "        _, (lambda _, __, ___: _(_, __, ___))(\n",
    "            lambda _, __, ___:\n",
    "                bytes([___ % __]) + _(_, __, ___ // __) if ___ else\n",
    "                (lambda: _).__code__.co_lnotab,\n",
    "            _ << ________,\n",
    "            (((_____ << ____) + _) << ((___ << _____) - ___)) + (((((___ << __)\n",
    "            - _) << ___) + _) << ((_____ << ____) + (_ << _))) + (((_______ <<\n",
    "            __) - _) << (((((_ << ___) + _)) << ___) + (_ << _))) + (((_______\n",
    "            << ___) + _) << ((_ << ______) + _)) + (((_______ << ____) - _) <<\n",
    "            ((_______ << ___))) + (((_ << ____) - _) << ((((___ << __) + _) <<\n",
    "            __) - _)) - (_______ << ((((___ << __) - _) << __) + _)) + (_______\n",
    "            << (((((_ << ___) + _)) << __))) - ((((((_ << ___) + _)) << __) +\n",
    "            _) << ((((___ << __) + _) << _))) + (((_______ << __) - _) <<\n",
    "            (((((_ << ___) + _)) << _))) + (((___ << ___) + _) << ((_____ <<\n",
    "            _))) + (_____ << ______) + (__ << ___)\n",
    "        )\n",
    "    )\n",
    ")(\n",
    "    *(lambda _, __, ___: _(_, __, ___))(\n",
    "        (lambda _, __, ___:\n",
    "            [__(___[(lambda: _).__code__.co_nlocals])] +\n",
    "            _(_, __, ___[(lambda _: _).__code__.co_nlocals:]) if ___ else []\n",
    "        ),\n",
    "        lambda _: _.__code__.co_argcount,\n",
    "        (\n",
    "            lambda _: _,\n",
    "            lambda _, __: _,\n",
    "            lambda _, __, ___: _,\n",
    "            lambda _, __, ___, ____: _,\n",
    "            lambda _, __, ___, ____, _____: _,\n",
    "            lambda _, __, ___, ____, _____, ______: _,\n",
    "            lambda _, __, ___, ____, _____, ______, _______: _,\n",
    "            lambda _, __, ___, ____, _____, ______, _______, ________: _\n",
    "        )\n",
    "    )\n",
    ")\" | python"
   ]
  },
  {
   "cell_type": "markdown",
   "metadata": {
    "slideshow": {
     "slide_type": "subslide"
    }
   },
   "source": [
    "Introducing some tools can help with other aspects of reproducibility. *Version control* history would show how this code was developed. Adhering to coding standards would make the code easier to read and understand."
   ]
  },
  {
   "cell_type": "markdown",
   "metadata": {
    "slideshow": {
     "slide_type": "notes"
    }
   },
   "source": [
    "Further examples:\n",
    "* Creating an environment for pure python code (we will do this in the hands-on)\n",
    "* Creating an environment for python mixed with command-line tools (conda or Docker)\n",
    "* Creating an environment for python and a postgres database (Docker or VM)\n",
    "* Creating a project where code is public and data are private (publish code but not data)\n",
    "* Creating a project were code is private and data are public (publish data but not code)"
   ]
  }
 ],
 "metadata": {
  "celltoolbar": "Slideshow",
  "kernelspec": {
   "display_name": "Python 3",
   "language": "python",
   "name": "python3"
  },
  "language_info": {
   "codemirror_mode": {
    "name": "ipython",
    "version": 3
   },
   "file_extension": ".py",
   "mimetype": "text/x-python",
   "name": "python",
   "nbconvert_exporter": "python",
   "pygments_lexer": "ipython3",
   "version": "3.7.3"
  }
 },
 "nbformat": 4,
 "nbformat_minor": 2
}
