{
 "cells": [
  {
   "cell_type": "markdown",
   "metadata": {
    "slideshow": {
     "slide_type": "slide"
    }
   },
   "source": [
    "# The Philosophy and Theory of Reproducibility in Data Science"
   ]
  },
  {
   "cell_type": "markdown",
   "metadata": {
    "slideshow": {
     "slide_type": "notes"
    }
   },
   "source": [
    "Reproducibility has long been expected from data-based analyses. But, in many disciplines, researchers were discovering that results were not actually reproducible, creating a reproducibility crisis. As a result of this recognition, more and more, reproducibility is being demanded; this has lead to the development of tools for doing reproducible data science."
   ]
  },
  {
   "cell_type": "markdown",
   "metadata": {
    "slideshow": {
     "slide_type": "slide"
    }
   },
   "source": [
    "# Goals\n",
    "\n",
    "<div style=\"text-align: center; width: 100%\">\n",
    "    <img alt=\"Tutorial Goals\" src=\"./images/tutorial-goals.svg\">\n",
    "</div>"
   ]
  },
  {
   "cell_type": "markdown",
   "metadata": {
    "slideshow": {
     "slide_type": "notes"
    }
   },
   "source": [
    "In this tutorial, we will discuss the **concepts** around reproducibility, **survey** the landscape of solutions, and to get **hands-on** experience with two tools in particular: **Renku** and **Code Ocean**. "
   ]
  },
  {
   "cell_type": "markdown",
   "metadata": {
    "slideshow": {
     "slide_type": "slide"
    }
   },
   "source": [
    "# What do we mean by \"reproducible\"?\n",
    "\n",
    "([Stanford Encyclopedia of Philosophy](https://plato.stanford.edu/entries/scientific-reproducibility/) and [Lorena Barba](https://arxiv.org/pdf/1802.03311.pdf))"
   ]
  },
  {
   "cell_type": "markdown",
   "metadata": {
    "slideshow": {
     "slide_type": "subslide"
    }
   },
   "source": [
    "<img src=\"images/reproducibility.svg\">"
   ]
  },
  {
   "cell_type": "markdown",
   "metadata": {
    "slideshow": {
     "slide_type": "subslide"
    }
   },
   "source": [
    "<img src=\"images/replicability.svg\">"
   ]
  },
  {
   "cell_type": "markdown",
   "metadata": {
    "slideshow": {
     "slide_type": "notes"
    }
   },
   "source": [
    "The three terms, _reproducibility_, _replicability_, and _repeatability_, all describe similar goals: producing results equivalent to an original result. Though these terms are all similar, some communities assign precise definitions to terms (which may be in conflict with other communities' definitions), and others use them interchangeably."
   ]
  },
  {
   "cell_type": "markdown",
   "metadata": {
    "slideshow": {
     "slide_type": "notes"
    }
   },
   "source": [
    "There are two concepts that it makes sense to differentiate:\n",
    "\n",
    "1. Rerunning code and data that was produced at one location (e.g., laptop, server) at another location to create the same results\n",
    "2. Recreating results using different, but comparable code, data or both\n",
    "\n",
    "Barba encourages calling the first _reproducible_ and the second _replicable_, though she acknowledges that the exact opposite definitions are also widely used."
   ]
  },
  {
   "cell_type": "markdown",
   "metadata": {
    "slideshow": {
     "slide_type": "notes"
    }
   },
   "source": [
    "To avoid the confusion, we will use the terms _direct reproducibility_ and _conceptual reproducibility_ to designate 1. and 2., respectively.\n",
    "\n",
    "The features necessary to support direct reproducibility are different from those to support conceptual reproducibility. When looking at a tool, it makes sense to if it is primarily targeting direct reproducibility, conceptual reproducibility, or both."
   ]
  },
  {
   "cell_type": "markdown",
   "metadata": {
    "slideshow": {
     "slide_type": "slide"
    }
   },
   "source": [
    "## Why do we care about reproducibility?"
   ]
  },
  {
   "cell_type": "markdown",
   "metadata": {
    "slideshow": {
     "slide_type": "subslide"
    }
   },
   "source": [
    "### Reproducibility serves important functions\n",
    "\n",
    "* Controlling for fraud\n",
    "* Controlling for errors and artifacts\n",
    "* Enabling verification and generalization of hypothesis\n",
    "\n",
    "(see [Stanford Encyclopedia of Philosophy](https://plato.stanford.edu/entries/scientific-reproducibility/))"
   ]
  },
  {
   "cell_type": "markdown",
   "metadata": {
    "slideshow": {
     "slide_type": "subslide"
    }
   },
   "source": [
    "### Reproducibility has fringe benefits\n",
    "\n",
    "* Enabling reuse of data\n",
    "* Enabling reuse of code\n",
    "* Enabling sharing and extension of results"
   ]
  },
  {
   "cell_type": "markdown",
   "metadata": {
    "slideshow": {
     "slide_type": "notes"
    }
   },
   "source": [
    "Working reproducibly has benefits for academia and industry. Don't rebuild the wheel when you can use an existing one."
   ]
  },
  {
   "cell_type": "markdown",
   "metadata": {
    "slideshow": {
     "slide_type": "slide"
    }
   },
   "source": [
    "# Why is so work research not reproducible?"
   ]
  },
  {
   "cell_type": "markdown",
   "metadata": {
    "slideshow": {
     "slide_type": "subslide"
    }
   },
   "source": [
    "<div style=\"align: center; width: 100%\">\n",
    "    <img alt=\"Excuses\" src=\"./images/excuses.svg\">\n",
    "</div>"
   ]
  },
  {
   "cell_type": "markdown",
   "metadata": {
    "slideshow": {
     "slide_type": "notes"
    }
   },
   "source": [
    "* Time pressures\n",
    "* Non-trivial effort, which is not recognized\n",
    "* Too little credit for sharing data or code"
   ]
  },
  {
   "cell_type": "markdown",
   "metadata": {
    "slideshow": {
     "slide_type": "slide"
    }
   },
   "source": [
    "# Tools can help\n",
    "\n",
    "* Reduce the effort to work reproducibly\n",
    "* Make it easy to acknowledge contributions"
   ]
  },
  {
   "cell_type": "markdown",
   "metadata": {
    "slideshow": {
     "slide_type": "subslide"
    }
   },
   "source": [
    "## Working reproducibly is more efficient!\n",
    "\n",
    "* Easier to share data and code\n",
    "* Easier to reuse and build upon results\n",
    "* Easier to transfer knowledge\n",
    "\n",
    "**You yourself will often be the biggest beneficiary from working reproducibly!**"
   ]
  },
  {
   "cell_type": "markdown",
   "metadata": {
    "slideshow": {
     "slide_type": "notes"
    }
   },
   "source": [
    "Working reproducibly pays back, and in the long run, **saves** effort. There is some initial investment, but it pays great dividends.\n",
    "\n",
    "Focusing on reproducibility makes it easier to share data and code within an organization; it makes it easier reuse results and to build upon and extend what has already been done; it makes it easier to transfer knowledge between individuals and groups; and it makes it possible for you to work more effectively and efficiently."
   ]
  },
  {
   "cell_type": "markdown",
   "metadata": {
    "slideshow": {
     "slide_type": "slide"
    }
   },
   "source": [
    "# Questions?\n",
    "\n",
    "Otherwise, on to the next section [BuildingBlocks](01-BuildingBlocks.ipynb)"
   ]
  },
  {
   "cell_type": "markdown",
   "metadata": {
    "slideshow": {
     "slide_type": "skip"
    }
   },
   "source": [
    "<hr style=\"height: 2px; border: none; border-top: 1px double #333;\">"
   ]
  },
  {
   "cell_type": "markdown",
   "metadata": {
    "slideshow": {
     "slide_type": "skip"
    }
   },
   "source": [
    "# Notes on the reproducibility crisis\n",
    "\n",
    "The following section discusses the *reproducibility crisis* specifically."
   ]
  },
  {
   "cell_type": "markdown",
   "metadata": {
    "slideshow": {
     "slide_type": "skip"
    }
   },
   "source": [
    "## The reproducibility crisis, a selective history\n",
    "\n",
    "* 2005 John Ioannidis, [Why Most Published Research Findings Are False](https://doi.org/10.1371/journal.pmed.0020124)\n",
    "* 2010 Stodden, Victoria, [The Scientific Method in Practice: Reproducibility in the Computational Sciences](http://dx.doi.org/10.2139/ssrn.1550193)\n",
    "* 2011 Simmons, Joseph P. and Nelson, Leif D. and Simonsohn, Uri, [False-Positive Psychology: Undisclosed Flexibility in Data Collection and Analysis Allows Presenting Anything as Significant](https://ssrn.com/abstract=1850704)\n",
    "* 2013 Andrew Gelman & Eric Loken, [The Garden of Forking Paths](http://www.stat.columbia.edu/~gelman/research/unpublished/p_hacking.pdf)\n",
    "* 2018 Victoria Stodden, M. Krafczyk, A. Bhaskar [Enabling the Verification of Computational Results](https://web.stanford.edu/~vcs/papers/P-RECS-2018-SKB-DOI.pdf)"
   ]
  },
  {
   "cell_type": "markdown",
   "metadata": {
    "slideshow": {
     "slide_type": "notes"
    }
   },
   "source": [
    "In some ways, there is not one reproducibility crisis, but multiple reproducibility crises in different disciplines, each with its own history and causes. Here are some references on reproducibility crises within medicine, statistics and machine learning, psychology, social sciences and computational physics."
   ]
  },
  {
   "cell_type": "markdown",
   "metadata": {
    "slideshow": {
     "slide_type": "skip"
    }
   },
   "source": [
    "## Reproducibility in the general discourse\n",
    "\n",
    "- 2015  Joel Achenbach / Washington Post [No, science’s reproducibility problem is not limited to psychology](https://www.washingtonpost.com/news/speaking-of-science/wp/2015/08/28/no-sciences-reproducibility-problem-is-not-limited-to-psychology/?utm_term=.bfce02162043)\n",
    "- 2015 Christie Aschwanden / FiveThirtyEight [Psychology is starting to deal with its replication problem](https://fivethirtyeight.com/features/psychology-is-starting-to-deal-with-its-replication-problem/)\n",
    "- 2016 Monya Baker / Nature [1,500 scientists lift the lid on reproducibility](https://www.nature.com/news/1-500-scientists-lift-the-lid-on-reproducibility-1.19970)\n",
    "- 2019 National Academies of Science, Engineering, and Medicine (USA) [Reproducibility and Replicability in Science](https://www.nap.edu/catalog/25303/reproducibility-and-replicability-in-science)"
   ]
  },
  {
   "cell_type": "markdown",
   "metadata": {
    "slideshow": {
     "slide_type": "notes"
    }
   },
   "source": [
    "You have probably heard the term \"reproducibility crisis\" or \"replicability crisis.\" For example, here are several links to articles from the last 4 years in the popular, general scientific, and government publications discussing the crisis. "
   ]
  },
  {
   "cell_type": "markdown",
   "metadata": {
    "slideshow": {
     "slide_type": "skip"
    }
   },
   "source": [
    "## Example: Computational Physics\n",
    "\n",
    "2018 Victoria Stodden, M. Krafczyk, A. Bhaskar [Enabling the Verification of Computational Results](https://web.stanford.edu/~vcs/papers/P-RECS-2018-SKB-DOI.pdf)\n"
   ]
  },
  {
   "cell_type": "markdown",
   "metadata": {
    "slideshow": {
     "slide_type": "skip"
    }
   },
   "source": [
    "The authors looked at 306 articles published in Journal of Computational Physics (which asks for research data to be made available) in 2016&ndash;2017.\n",
    "* 6 of 306 articles included information on how to get the data\n",
    "* The remaining 298 authors were contacted and they could get data for 49 further articles"
   ]
  },
  {
   "cell_type": "markdown",
   "metadata": {
    "slideshow": {
     "slide_type": "skip"
    }
   },
   "source": [
    "In the end, they found the following:\n",
    "\n",
    "* 0 of 306 results could be straightforwardly reproduced\n",
    "* 5 results were fairly easy to reproduce\n",
    "* 22 results could be reproduced with some skill and effort\n",
    "\n",
    "**Over 90% of articles were not reproducible at all!**"
   ]
  },
  {
   "cell_type": "markdown",
   "metadata": {
    "slideshow": {
     "slide_type": "skip"
    }
   },
   "source": [
    "### Reproducibility problems are not limited to academia!\n",
    "\n",
    "Industry is just as affected.\n"
   ]
  },
  {
   "cell_type": "markdown",
   "metadata": {
    "slideshow": {
     "slide_type": "notes"
    }
   },
   "source": [
    "Though the bulk of the attention has been on problems in academia, *industry* is also affected. Reproducibility problems cost money and make collaboration and knowledge sharing within institutions more difficult."
   ]
  },
  {
   "cell_type": "markdown",
   "metadata": {
    "slideshow": {
     "slide_type": "slide"
    }
   },
   "source": [
    "## The sources of the reproducibility crisis\n",
    "\n",
    "### Methodological problems \n",
    "- In the way data is analyzed\n",
    "- In the way publications are accepted\n",
    "- Replication studies are not published\n",
    "\n",
    "### Distorted incentives \n",
    "- \"Publish or perish\"\n",
    "- No credit for making data available\n",
    "- Non-trivial effort is required for reproducibility, and it is not recognized"
   ]
  },
  {
   "cell_type": "markdown",
   "metadata": {
    "slideshow": {
     "slide_type": "skip"
    }
   },
   "source": [
    "## Responses to the reproducibility crisis\n",
    "\n",
    "* 2011 Roger Peng [Reproducible Research in Computational Science](https://www.ncbi.nlm.nih.gov/pmc/articles/PMC3383002/)\n",
    "* 2012 Lorena Barba [Reproducibility PI Manifesto](https://lorenabarba.com/gallery/reproducibility-pi-manifesto/)\n",
    "* 2017 Munafò, Nosek, Bishop, Button, Chambers, Percie du Sert, Simonsohn, Wagenmakers, Ware, Ioannidis\n",
    "[A manifesto for reproducible science](https://www.nature.com/articles/s41562-016-0021)"
   ]
  },
  {
   "cell_type": "markdown",
   "metadata": {
    "slideshow": {
     "slide_type": "slide"
    }
   },
   "source": [
    "### Suggestions to improve the situation\n",
    "\n",
    "#### Methodology\n",
    "* Improve understanding of methodologies\n",
    "* Improve education and dissemination of methodology\n",
    "* Publish source code and data and history of changes\n",
    "\n",
    "#### Incentives\n",
    "* Encourage a culture that values and rewards reproducibility\n",
    "* Require compliance"
   ]
  },
  {
   "cell_type": "markdown",
   "metadata": {
    "slideshow": {
     "slide_type": "notes"
    }
   },
   "source": [
    "It may not always be possible to share data or code, for example, due to privacy considerations or licensing. Still it a goal worth striving for, and, with the right structure, it is possible to publish code while keeping data private, and vice versa."
   ]
  },
  {
   "cell_type": "markdown",
   "metadata": {
    "slideshow": {
     "slide_type": "subslide"
    }
   },
   "source": [
    "### The role of tooling\n",
    "\n",
    "**Tools alone cannot solve these problems!**; tools **can help** with some of them.\n",
    "\n",
    "* Tools can track changes to code and/or data (version control)\n",
    "* Tools can make it easy to publish code and data\n",
    "* Tools can make it easier to achieve direct reproducibility\n",
    "* Tools can make it easier to recognize the contributions of others"
   ]
  },
  {
   "cell_type": "markdown",
   "metadata": {
    "slideshow": {
     "slide_type": "notes"
    }
   },
   "source": [
    "Tools can help address these problems by removing objections and make compliance easier to demand. E.g., tools that make publishing code and data easy and remove the objection that it takes too much effort."
   ]
  },
  {
   "cell_type": "markdown",
   "metadata": {
    "slideshow": {
     "slide_type": "notes"
    }
   },
   "source": [
    "## Further References\n",
    "\n",
    "### Repositories\n",
    "\n",
    "- https://github.com/jupyter-guide/jupyter-guide\n",
    "\n",
    "### Videos\n",
    "\n",
    "- [Victoria Stodden on Reproducibility](https://www.youtube.com/watch?v=UyNYP8tMRvI)\n",
    "- [Lorena Barba on Reproducibility](https://www.youtube.com/watch?v=wToLrFvxSfA)\n",
    "- [John Ioannidis on Reproducibility](https://www.youtube.com/watch?v=GPYzY9I78CI)\n",
    "- [National Academies Report on Reproducibility and Replicability in Science](https://vimeo.com/335923468)"
   ]
  }
 ],
 "metadata": {
  "celltoolbar": "Slideshow",
  "kernelspec": {
   "display_name": "Python 3",
   "language": "python",
   "name": "python3"
  },
  "language_info": {
   "codemirror_mode": {
    "name": "ipython",
    "version": 3
   },
   "file_extension": ".py",
   "mimetype": "text/x-python",
   "name": "python",
   "nbconvert_exporter": "python",
   "pygments_lexer": "ipython3",
   "version": "3.7.3"
  }
 },
 "nbformat": 4,
 "nbformat_minor": 2
}
