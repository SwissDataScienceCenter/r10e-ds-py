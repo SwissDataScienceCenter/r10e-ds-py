{
 "cells": [
  {
   "cell_type": "markdown",
   "metadata": {
    "slideshow": {
     "slide_type": "slide"
    }
   },
   "source": [
    "# The Philosphy and Theory of Reproducibility in Data Science\n",
    "\n",
    "For a detailed discussion, see:\n",
    "* https://en.wikipedia.org/wiki/Replication_crisis\n",
    "* https://plato.stanford.edu/entries/scientific-reproducibility/"
   ]
  },
  {
   "cell_type": "markdown",
   "metadata": {},
   "source": [
    "## Reproducibility has been on many people's minds in recent years\n",
    "\n",
    "- 2015  Joel Achenbach / Washington Post [No, science’s reproducibility problem is not limited to psychology](https://www.washingtonpost.com/news/speaking-of-science/wp/2015/08/28/no-sciences-reproducibility-problem-is-not-limited-to-psychology/?utm_term=.bfce02162043)\n",
    "- 2015 Christie Aschwanden / FiveThirtyEight [Psychology Is Starting To Deal With Its Replication Problem](https://fivethirtyeight.com/features/psychology-is-starting-to-deal-with-its-replication-problem/)\n",
    "- 2016 Monya Baker / Nature [1,500 scientists lift the lid on reproducibility](https://www.nature.com/news/1-500-scientists-lift-the-lid-on-reproducibility-1.19970)\n",
    "- 2019 National Academies of Science, Engineering, and Medicine (USA) [Reproducibility and Replicability in Science](https://www.nap.edu/catalog/25303/reproducibility-and-replicability-in-science)"
   ]
  },
  {
   "cell_type": "markdown",
   "metadata": {
    "slideshow": {
     "slide_type": "slide"
    }
   },
   "source": [
    "## The reproducibility crisis, a selective history\n",
    "\n",
    "* 2005 John Ioannidis, [Why Most Published Research Findings Are False](https://doi.org/10.1371/journal.pmed.0020124)\n",
    "* 2010 Stodden, Victoria, [The Scientific Method in Practice: Reproducibility in the Computational Sciences](http://dx.doi.org/10.2139/ssrn.1550193)\n",
    "* 2011 Simmons, Joseph P. and Nelson, Leif D. and Simonsohn, Uri, [False-Positive Psychology: Undisclosed Flexibility in Data Collection and Analysis Allows Presenting Anything as Significant](https://ssrn.com/abstract=1850704)\n",
    "* 2013 Andrew Gelman & Eric Loken, [The Garden of Forking Paths](http://www.stat.columbia.edu/~gelman/research/unpublished/p_hacking.pdf)\n",
    "* 2018 Victoria Stodden, M. Krafczyk, A. Bhaskar [Enabling the Verification of Computational Results](https://web.stanford.edu/~vcs/papers/P-RECS-2018-SKB-DOI.pdf)\n",
    "\n",
    "### Reproducibility problems are not limited to academia: they affect industry as well\n",
    "\n",
    "It is not discussed as much, but industry is also affected. Reproducibility problems cost money and make collaboration and knowledge sharing within institutions more difficult.\n",
    "\n",
    "### The sources of the reproducibility crisis\n",
    "\n",
    "- Methodological problems\n",
    "- Distorted incentives\n",
    "- Publish or perish\n",
    "- Replication studies are not published\n",
    "- No credit for making data available\n",
    "- Effort required for reproducibility is not recognized"
   ]
  },
  {
   "cell_type": "markdown",
   "metadata": {
    "slideshow": {
     "slide_type": "slide"
    }
   },
   "source": [
    "## Responses to the reproducibility crisis\n",
    "\n",
    "* 2011 Roger Peng [Reproducible Research in Computational Science](https://www.ncbi.nlm.nih.gov/pmc/articles/PMC3383002/)\n",
    "* 2012 Lorena Barba [Reproducibility PI Manifesto](https://lorenabarba.com/gallery/reproducibility-pi-manifesto/)\n",
    "* 2017 Munafò, Nosek, Bishop, Button, Chambers, Percie du Sert, Simonsohn, Wagenmakers, Ware, Ioannidis\n",
    "[A manifesto for reproducible science](https://www.nature.com/articles/s41562-016-0021)\n",
    "\n",
    "### Suggestions to improve the situation\n",
    "\n",
    "* Improve methodological education\n",
    "* Fix incentives\n",
    "* Publish source code and data\n",
    "* Use version control\n",
    "* Encourage a culture that values and rewards reproducibility\n",
    "* Requiring compliance\n"
   ]
  },
  {
   "cell_type": "markdown",
   "metadata": {
    "slideshow": {
     "slide_type": "slide"
    }
   },
   "source": [
    "# Terminology\n",
    "\n",
    "Following the [Stanford Encyclopedia of Philosophy](https://plato.stanford.edu/entries/scientific-reproducibility/) and [Lorena Barba](https://arxiv.org/pdf/1802.03311.pdf)\n",
    "\n",
    "The three terms, _reproducibility_, _replicability_, and _repeatability_, all describe similar goals: producing results equivalent to an original result. Though these terms are all similar, some communities assign precise definitions to terms (which may be in conflict with other communities' definitions), and others use them interchangeably.\n",
    "\n",
    "There are two concepts that it makes sense to differentiate:\n",
    "\n",
    "1. Rerunning code and data that was produced at one location (e.g., laptop, server) at another location to create the same results\n",
    "2. Recreating results using different, but comparable code, data or both\n",
    "\n",
    "Barba encourages calling the first _reproducible_ and the second _replicable_, though she acknowledges that the exact opposite definitions are also widely used.  Further, there is another, similar concept of _reuse_:\n",
    "\n",
    "3. Applying code originally developed in one situation to another situation (e.g., new data)\n",
    "\n",
    "To avoid the confusion, we will use the terms _direct reproducibility_, _conceptual reproducibility_, and _reusability_ to designate 1., 2., and 3., respectively.\n",
    "\n",
    "Tools for reproducibility focus on different definitions of the term. 1. is a prerequisite for 2. and 3. Each tool makes trade-offs to emphasize certain concepts over others."
   ]
  },
  {
   "cell_type": "markdown",
   "metadata": {},
   "source": [
    "## The benefits of reproducibility\n",
    "\n",
    "From the perspective of science as a whole, reproducibility has several important functions:\n",
    "\n",
    "* controlling for fraud\n",
    "* controlling for errors and artifacts\n",
    "* enabling generalizability and verification of hypothesis\n",
    "\n",
    "This is why journals and funding bodies are demanding adherence to reproducibility standards. Even though some of the motivation for working may come externally, the primary beneficiary to working reproducibly will often be your group, team, or even just you yourself!\n",
    "\n",
    "Focusing on reproducibility makes it easier to share data and code within an organization; it makes it easier to build upon and extend what has already been done; it makes it easier to transfer knowledge between individuals and groups; and it makes it possible for you to work more effectively and efficiently. These are benefits that are realizable everywhere: in pure science as well as industry.\n",
    "\n",
    "**You yourself will often be the biggest beneficiary from working reproducibly!**"
   ]
  },
  {
   "cell_type": "markdown",
   "metadata": {
    "slideshow": {
     "slide_type": "slide"
    }
   },
   "source": [
    "## Further References\n",
    "\n",
    "### Videos\n",
    "\n",
    "- [Victoria Stodden on Reproducibility](https://www.youtube.com/watch?v=UyNYP8tMRvI)\n",
    "- [Lorena Barba on Reproducibility](https://www.youtube.com/watch?v=wToLrFvxSfA)\n",
    "- [John Ioannidis on Reproducibility](https://www.youtube.com/watch?v=GPYzY9I78CI)\n",
    "- [National Academies Report on Reproducibility and Replicability in Science](https://vimeo.com/335923468)"
   ]
  }
 ],
 "metadata": {
  "celltoolbar": "Slideshow",
  "kernelspec": {
   "display_name": "Python 3",
   "language": "python",
   "name": "python3"
  },
  "language_info": {
   "codemirror_mode": {
    "name": "ipython",
    "version": 3
   },
   "file_extension": ".py",
   "mimetype": "text/x-python",
   "name": "python",
   "nbconvert_exporter": "python",
   "pygments_lexer": "ipython3",
   "version": "3.7.3"
  }
 },
 "nbformat": 4,
 "nbformat_minor": 2
}
